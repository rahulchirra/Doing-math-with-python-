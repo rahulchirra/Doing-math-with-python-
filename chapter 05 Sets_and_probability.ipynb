{
  "nbformat": 4,
  "nbformat_minor": 0,
  "metadata": {
    "colab": {
      "provenance": [],
      "authorship_tag": "ABX9TyNogM3jSgUNYZWe7FznVWV7",
      "include_colab_link": true
    },
    "kernelspec": {
      "name": "python3",
      "display_name": "Python 3"
    },
    "language_info": {
      "name": "python"
    }
  },
  "cells": [
    {
      "cell_type": "markdown",
      "metadata": {
        "id": "view-in-github",
        "colab_type": "text"
      },
      "source": [
        "<a href=\"https://colab.research.google.com/github/rahulchirra/Doing-math-with-python-/blob/main/chapter%2005%20Sets_and_probability.ipynb\" target=\"_parent\"><img src=\"https://colab.research.google.com/assets/colab-badge.svg\" alt=\"Open In Colab\"/></a>"
      ]
    },
    {
      "cell_type": "markdown",
      "source": [
        "# chapter 05 Sets and probability"
      ],
      "metadata": {
        "id": "sB5I8tK6GxlF"
      }
    },
    {
      "cell_type": "code",
      "execution_count": null,
      "metadata": {
        "colab": {
          "base_uri": "https://localhost:8080/",
          "height": 37
        },
        "id": "2KKOWNaYGXF-",
        "outputId": "98443ff4-d644-4c2b-f827-34a0bb016712"
      },
      "outputs": [
        {
          "output_type": "execute_result",
          "data": {
            "text/plain": [
              "{2, 4, 6}"
            ],
            "text/latex": "$\\displaystyle \\left\\{2, 4, 6\\right\\}$"
          },
          "metadata": {},
          "execution_count": 1
        }
      ],
      "source": [
        "from sympy import FiniteSet #construction of set\n",
        "s = FiniteSet(2,4,6)\n",
        "s"
      ]
    },
    {
      "cell_type": "code",
      "source": [
        "from sympy import FiniteSet\n",
        "from fractions import Fraction\n",
        "s = FiniteSet(1, 1.5, Fraction(1,5))\n",
        "s"
      ],
      "metadata": {
        "colab": {
          "base_uri": "https://localhost:8080/",
          "height": 58
        },
        "id": "BDojh0gIHa5t",
        "outputId": "b0c74529-f71a-4c52-e895-d59913bf0cdf"
      },
      "execution_count": null,
      "outputs": [
        {
          "output_type": "execute_result",
          "data": {
            "text/plain": [
              "{1/5, 1, 1.5}"
            ],
            "text/latex": "$\\displaystyle \\left\\{\\frac{1}{5}, 1, 1.5\\right\\}$"
          },
          "metadata": {},
          "execution_count": 2
        }
      ]
    },
    {
      "cell_type": "code",
      "source": [
        "s = FiniteSet(1,1.5,3)\n",
        "len(s)"
      ],
      "metadata": {
        "colab": {
          "base_uri": "https://localhost:8080/"
        },
        "id": "NkLNaDw0HxYT",
        "outputId": "67f3277d-f51f-4a2d-ea92-8414f582703b"
      },
      "execution_count": null,
      "outputs": [
        {
          "output_type": "execute_result",
          "data": {
            "text/plain": [
              "3"
            ]
          },
          "metadata": {},
          "execution_count": 3
        }
      ]
    },
    {
      "cell_type": "code",
      "source": [
        "4 in s #checking the number is wheather in set or not"
      ],
      "metadata": {
        "colab": {
          "base_uri": "https://localhost:8080/"
        },
        "id": "VxcF5rI5H84v",
        "outputId": "c4d48554-a717-4e48-8fd6-962c7ece7f6f"
      },
      "execution_count": null,
      "outputs": [
        {
          "output_type": "execute_result",
          "data": {
            "text/plain": [
              "False"
            ]
          },
          "metadata": {},
          "execution_count": 4
        }
      ]
    },
    {
      "cell_type": "code",
      "source": [
        "s = FiniteSet()\n",
        "s"
      ],
      "metadata": {
        "colab": {
          "base_uri": "https://localhost:8080/",
          "height": 37
        },
        "id": "lSCwIdeBH-kF",
        "outputId": "c89242e6-6e55-4b36-d42d-665dc7f724d1"
      },
      "execution_count": null,
      "outputs": [
        {
          "output_type": "execute_result",
          "data": {
            "text/plain": [
              "EmptySet"
            ],
            "text/latex": "$\\displaystyle \\emptyset$"
          },
          "metadata": {},
          "execution_count": 5
        }
      ]
    },
    {
      "cell_type": "code",
      "source": [
        "members = [1,2,3]\n",
        "s = FiniteSet(*members)   #creating sets from list or tuples\n",
        "s"
      ],
      "metadata": {
        "colab": {
          "base_uri": "https://localhost:8080/",
          "height": 37
        },
        "id": "BhOCKxv0ILk9",
        "outputId": "19a19e5c-124d-42ea-e382-9a6f3c98498f"
      },
      "execution_count": null,
      "outputs": [
        {
          "output_type": "execute_result",
          "data": {
            "text/plain": [
              "{1, 2, 3}"
            ],
            "text/latex": "$\\displaystyle \\left\\{1, 2, 3\\right\\}$"
          },
          "metadata": {},
          "execution_count": 7
        }
      ]
    },
    {
      "cell_type": "code",
      "source": [
        "from sympy import FiniteSet\n",
        "members = [1,2,3,2]\n",
        "FiniteSet(*members)"
      ],
      "metadata": {
        "colab": {
          "base_uri": "https://localhost:8080/",
          "height": 37
        },
        "id": "OKBz02hgIVqy",
        "outputId": "c43fa458-49a9-4885-b35c-a2e3917a6b8d"
      },
      "execution_count": null,
      "outputs": [
        {
          "output_type": "execute_result",
          "data": {
            "text/plain": [
              "{1, 2, 3}"
            ],
            "text/latex": "$\\displaystyle \\left\\{1, 2, 3\\right\\}$"
          },
          "metadata": {},
          "execution_count": 8
        }
      ]
    },
    {
      "cell_type": "code",
      "source": [
        "from sympy import FiniteSet\n",
        "s = FiniteSet(1,2,3)\n",
        "for member in s:\n",
        "  print(member)"
      ],
      "metadata": {
        "colab": {
          "base_uri": "https://localhost:8080/"
        },
        "id": "YfSvF1i1IsnS",
        "outputId": "0ed8420a-f2cb-4bfc-fb97-c29a6936c07a"
      },
      "execution_count": null,
      "outputs": [
        {
          "output_type": "stream",
          "name": "stdout",
          "text": [
            "1\n",
            "2\n",
            "3\n"
          ]
        }
      ]
    },
    {
      "cell_type": "code",
      "source": [
        "from sympy import FiniteSet\n",
        "s = FiniteSet(3,4,5)\n",
        "t = FiniteSet(5,4,3)\n",
        "s == t"
      ],
      "metadata": {
        "colab": {
          "base_uri": "https://localhost:8080/"
        },
        "id": "mpbsTD6PI6_a",
        "outputId": "44844e08-a8ae-4bc8-ab0b-af32f6415b56"
      },
      "execution_count": null,
      "outputs": [
        {
          "output_type": "execute_result",
          "data": {
            "text/plain": [
              "True"
            ]
          },
          "metadata": {},
          "execution_count": 10
        }
      ]
    },
    {
      "cell_type": "markdown",
      "source": [
        " Subsets, Supersets, and Power Sets\n"
      ],
      "metadata": {
        "id": "uCzgDvx8JjLj"
      }
    },
    {
      "cell_type": "code",
      "source": [
        "s = FiniteSet(1)\n",
        "t = FiniteSet(1,2)\n",
        "s.is_subset(t)"
      ],
      "metadata": {
        "colab": {
          "base_uri": "https://localhost:8080/"
        },
        "id": "8BM19wcQJRVd",
        "outputId": "a2311973-e968-4f3b-b8d9-b01952e81556"
      },
      "execution_count": null,
      "outputs": [
        {
          "output_type": "execute_result",
          "data": {
            "text/plain": [
              "True"
            ]
          },
          "metadata": {},
          "execution_count": 11
        }
      ]
    },
    {
      "cell_type": "code",
      "source": [
        "t.is_subset(s)"
      ],
      "metadata": {
        "colab": {
          "base_uri": "https://localhost:8080/"
        },
        "id": "MhD7vueSJdZi",
        "outputId": "a70dec7d-08a3-436f-cca8-6279198de80c"
      },
      "execution_count": null,
      "outputs": [
        {
          "output_type": "execute_result",
          "data": {
            "text/plain": [
              "False"
            ]
          },
          "metadata": {},
          "execution_count": 12
        }
      ]
    },
    {
      "cell_type": "code",
      "source": [
        "print(s.is_subset(t))\n",
        "print(t.is_subset(s))"
      ],
      "metadata": {
        "colab": {
          "base_uri": "https://localhost:8080/"
        },
        "id": "aZDW7XbVJgOA",
        "outputId": "a6a603ce-a5bb-4953-c47a-a17819a94a87"
      },
      "execution_count": null,
      "outputs": [
        {
          "output_type": "stream",
          "name": "stdout",
          "text": [
            "True\n",
            "False\n"
          ]
        }
      ]
    },
    {
      "cell_type": "code",
      "source": [
        "s = FiniteSet(1,2,3)\n",
        "ps = s.powerset()\n",
        "ps"
      ],
      "metadata": {
        "colab": {
          "base_uri": "https://localhost:8080/",
          "height": 37
        },
        "id": "W0G-MYt5JskR",
        "outputId": "ed05b247-adc8-41fd-833e-4644c26e4f98"
      },
      "execution_count": null,
      "outputs": [
        {
          "output_type": "execute_result",
          "data": {
            "text/plain": [
              "FiniteSet(EmptySet, {1}, {2}, {3}, {1, 2}, {1, 3}, {2, 3}, {1, 2, 3})"
            ],
            "text/latex": "$\\displaystyle \\left\\{\\emptyset, \\left\\{1\\right\\}, \\left\\{2\\right\\}, \\left\\{3\\right\\}, \\left\\{1, 2\\right\\}, \\left\\{1, 3\\right\\}, \\left\\{2, 3\\right\\}, \\left\\{1, 2, 3\\right\\}\\right\\}$"
          },
          "metadata": {},
          "execution_count": 14
        }
      ]
    },
    {
      "cell_type": "code",
      "source": [
        "len(ps)"
      ],
      "metadata": {
        "colab": {
          "base_uri": "https://localhost:8080/"
        },
        "id": "SVQQSVemJ2zQ",
        "outputId": "3dda1015-60a6-4ccc-8609-c01ba414304f"
      },
      "execution_count": null,
      "outputs": [
        {
          "output_type": "execute_result",
          "data": {
            "text/plain": [
              "8"
            ]
          },
          "metadata": {},
          "execution_count": 15
        }
      ]
    },
    {
      "cell_type": "markdown",
      "source": [
        "checking the relationships of proper superset & powerset"
      ],
      "metadata": {
        "id": "nqUSUy-1Kq4o"
      }
    },
    {
      "cell_type": "code",
      "source": [
        "from sympy import FiniteSet\n",
        "s = FiniteSet(1,2,3)\n",
        "t = FiniteSet(1,2,3)\n",
        "s.is_proper_subset(t)\n"
      ],
      "metadata": {
        "colab": {
          "base_uri": "https://localhost:8080/"
        },
        "id": "q8o3bXBuJ72R",
        "outputId": "a4c27ed4-0cf8-4365-e627-36cded1508e1"
      },
      "execution_count": null,
      "outputs": [
        {
          "output_type": "execute_result",
          "data": {
            "text/plain": [
              "False"
            ]
          },
          "metadata": {},
          "execution_count": 16
        }
      ]
    },
    {
      "cell_type": "code",
      "source": [
        "t.is_proper_superset(s)"
      ],
      "metadata": {
        "colab": {
          "base_uri": "https://localhost:8080/"
        },
        "id": "HfqiGXsDKO3H",
        "outputId": "0ae013c2-548a-4200-cddb-d0528a22c9b8"
      },
      "execution_count": null,
      "outputs": [
        {
          "output_type": "execute_result",
          "data": {
            "text/plain": [
              "False"
            ]
          },
          "metadata": {},
          "execution_count": 17
        }
      ]
    },
    {
      "cell_type": "code",
      "source": [
        "t = FiniteSet(1,2,3,4)\n",
        "s.is_proper_subset(t)"
      ],
      "metadata": {
        "colab": {
          "base_uri": "https://localhost:8080/"
        },
        "id": "6ErJIT-lKTt8",
        "outputId": "a76be2e4-5e49-4619-fb58-e6c3d7cdc92e"
      },
      "execution_count": null,
      "outputs": [
        {
          "output_type": "execute_result",
          "data": {
            "text/plain": [
              "True"
            ]
          },
          "metadata": {},
          "execution_count": 18
        }
      ]
    },
    {
      "cell_type": "code",
      "source": [
        "t.is_proper_superset(s)"
      ],
      "metadata": {
        "colab": {
          "base_uri": "https://localhost:8080/"
        },
        "id": "ZpVyTYjkKenU",
        "outputId": "6d64b3e7-d611-4ccb-de29-5e4978c54b41"
      },
      "execution_count": null,
      "outputs": [
        {
          "output_type": "execute_result",
          "data": {
            "text/plain": [
              "True"
            ]
          },
          "metadata": {},
          "execution_count": 19
        }
      ]
    },
    {
      "cell_type": "markdown",
      "source": [
        "union & intersection"
      ],
      "metadata": {
        "id": "kNk8-aBGLIw3"
      }
    },
    {
      "cell_type": "code",
      "source": [
        "from sympy import FiniteSet\n",
        "s = FiniteSet(1,2,3)\n",
        "t = FiniteSet(2,4,6)\n",
        "s.union(t)"
      ],
      "metadata": {
        "colab": {
          "base_uri": "https://localhost:8080/",
          "height": 37
        },
        "id": "ZlQaMBU5KjXb",
        "outputId": "63b2e722-93eb-4255-e559-d53f2259170d"
      },
      "execution_count": null,
      "outputs": [
        {
          "output_type": "execute_result",
          "data": {
            "text/plain": [
              "{1, 2, 3, 4, 6}"
            ],
            "text/latex": "$\\displaystyle \\left\\{1, 2, 3, 4, 6\\right\\}$"
          },
          "metadata": {},
          "execution_count": 21
        }
      ]
    },
    {
      "cell_type": "code",
      "source": [
        "s = FiniteSet(1,2)\n",
        "t = FiniteSet(2,3)\n",
        "s.intersection(t)"
      ],
      "metadata": {
        "colab": {
          "base_uri": "https://localhost:8080/",
          "height": 37
        },
        "id": "UN2Ax1rlLDfr",
        "outputId": "82fffcca-bf9e-45b0-a3bd-27cefd2a0125"
      },
      "execution_count": null,
      "outputs": [
        {
          "output_type": "execute_result",
          "data": {
            "text/plain": [
              "{2}"
            ],
            "text/latex": "$\\displaystyle \\left\\{2\\right\\}$"
          },
          "metadata": {},
          "execution_count": 22
        }
      ]
    },
    {
      "cell_type": "code",
      "source": [
        "from sympy import FiniteSet\n",
        "s = FiniteSet(1,2,3)\n",
        "t = FiniteSet(2,4,6)\n",
        "u = FiniteSet(3,5,7)\n",
        "s.union(t).union(u)"
      ],
      "metadata": {
        "colab": {
          "base_uri": "https://localhost:8080/",
          "height": 37
        },
        "id": "swK8Rzo8LaxA",
        "outputId": "45070ba9-1773-4e32-c177-43f6896b3087"
      },
      "execution_count": null,
      "outputs": [
        {
          "output_type": "execute_result",
          "data": {
            "text/plain": [
              "{1, 2, 3, 4, 5, 6, 7}"
            ],
            "text/latex": "$\\displaystyle \\left\\{1, 2, 3, 4, 5, 6, 7\\right\\}$"
          },
          "metadata": {},
          "execution_count": 23
        }
      ]
    },
    {
      "cell_type": "code",
      "source": [
        "s.intersect(t).intersect(u)"
      ],
      "metadata": {
        "colab": {
          "base_uri": "https://localhost:8080/",
          "height": 37
        },
        "id": "2ZNmtYIWLy1M",
        "outputId": "d8cb1033-ec95-4588-8f36-ad243adf6da4"
      },
      "execution_count": null,
      "outputs": [
        {
          "output_type": "execute_result",
          "data": {
            "text/plain": [
              "EmptySet"
            ],
            "text/latex": "$\\displaystyle \\emptyset$"
          },
          "metadata": {},
          "execution_count": 24
        }
      ]
    },
    {
      "cell_type": "markdown",
      "source": [
        "cartesian product"
      ],
      "metadata": {
        "id": "RyTbLJteL8mk"
      }
    },
    {
      "cell_type": "code",
      "source": [
        "from sympy import FiniteSet\n",
        "s = FiniteSet(1,2)\n",
        "t = FiniteSet(3,4)\n",
        "p = s*t\n",
        "p"
      ],
      "metadata": {
        "colab": {
          "base_uri": "https://localhost:8080/",
          "height": 37
        },
        "id": "hc8ATKyNL6WV",
        "outputId": "b0231aa7-230e-4a37-e3a5-85e29dc39dff"
      },
      "execution_count": null,
      "outputs": [
        {
          "output_type": "execute_result",
          "data": {
            "text/plain": [
              "ProductSet({1, 2}, {3, 4})"
            ],
            "text/latex": "$\\displaystyle \\left\\{1, 2\\right\\} \\times \\left\\{3, 4\\right\\}$"
          },
          "metadata": {},
          "execution_count": 25
        }
      ]
    },
    {
      "cell_type": "code",
      "source": [
        "for elem in p:\n",
        "  print(elem)"
      ],
      "metadata": {
        "colab": {
          "base_uri": "https://localhost:8080/"
        },
        "id": "eOt6XP7kMLMF",
        "outputId": "a159e9ce-dfee-4d63-a7d5-5fa668ade3f1"
      },
      "execution_count": null,
      "outputs": [
        {
          "output_type": "stream",
          "name": "stdout",
          "text": [
            "(1, 3)\n",
            "(2, 3)\n",
            "(1, 4)\n",
            "(2, 4)\n"
          ]
        }
      ]
    },
    {
      "cell_type": "code",
      "source": [
        "len(p) == len(s)*len(t)"
      ],
      "metadata": {
        "colab": {
          "base_uri": "https://localhost:8080/"
        },
        "id": "UjaFd-OeMQF4",
        "outputId": "b875a959-851a-4f90-fc68-4114b3914855"
      },
      "execution_count": null,
      "outputs": [
        {
          "output_type": "execute_result",
          "data": {
            "text/plain": [
              "True"
            ]
          },
          "metadata": {},
          "execution_count": 27
        }
      ]
    },
    {
      "cell_type": "code",
      "source": [
        "from sympy import FiniteSet\n",
        "s = FiniteSet(1,2)\n",
        "p = s**3\n",
        "p"
      ],
      "metadata": {
        "colab": {
          "base_uri": "https://localhost:8080/",
          "height": 38
        },
        "id": "O9vc8GcUMWU0",
        "outputId": "6c5b0614-2471-4281-eb85-bcc9a0c45319"
      },
      "execution_count": null,
      "outputs": [
        {
          "output_type": "execute_result",
          "data": {
            "text/plain": [
              "ProductSet({1, 2}, {1, 2}, {1, 2})"
            ],
            "text/latex": "$\\displaystyle \\left\\{1, 2\\right\\}^{3}$"
          },
          "metadata": {},
          "execution_count": 28
        }
      ]
    },
    {
      "cell_type": "code",
      "source": [
        "for elem in p:\n",
        "\n",
        "  print(elem)"
      ],
      "metadata": {
        "colab": {
          "base_uri": "https://localhost:8080/"
        },
        "id": "aqn1MRQsMh-x",
        "outputId": "df3fd6b7-b94e-4d6f-ac85-ded5a1558ecc"
      },
      "execution_count": null,
      "outputs": [
        {
          "output_type": "stream",
          "name": "stdout",
          "text": [
            "(1, 1, 1)\n",
            "(2, 1, 1)\n",
            "(1, 2, 1)\n",
            "(2, 2, 1)\n",
            "(1, 1, 2)\n",
            "(2, 1, 2)\n",
            "(1, 2, 2)\n",
            "(2, 2, 2)\n"
          ]
        }
      ]
    },
    {
      "cell_type": "markdown",
      "source": [
        "applying the formula to multiple sets of variables"
      ],
      "metadata": {
        "id": "3xCK3kGiMxs0"
      }
    },
    {
      "cell_type": "code",
      "source": [
        "from sympy import FiniteSet, pi\n",
        "\n",
        "def time_period(length):\n",
        "  g = 9.8\n",
        "  T = 2*pi*(length/g)**0.5\n",
        "  return T\n",
        "\n",
        "\n",
        "if __name__ == '__main__':\n",
        "  L=FiniteSet(15,18,21,22.5,25)\n",
        "  for l in L:\n",
        "    t = time_period(1/100)\n",
        "    print('length: {0} cm time period: {1:3f} s'.format(float(1), float(t)))"
      ],
      "metadata": {
        "colab": {
          "base_uri": "https://localhost:8080/"
        },
        "id": "QRUEiwwsMmqC",
        "outputId": "ce10dd00-d2c0-41cd-b6f5-040a04bcf32b"
      },
      "execution_count": null,
      "outputs": [
        {
          "output_type": "stream",
          "name": "stdout",
          "text": [
            "length: 1.0 cm time period: 0.200709 s\n",
            "length: 1.0 cm time period: 0.200709 s\n",
            "length: 1.0 cm time period: 0.200709 s\n",
            "length: 1.0 cm time period: 0.200709 s\n",
            "length: 1.0 cm time period: 0.200709 s\n"
          ]
        }
      ]
    },
    {
      "cell_type": "markdown",
      "source": [
        "Different Gravity, Different Results\n"
      ],
      "metadata": {
        "id": "VGSLodh4OCcU"
      }
    },
    {
      "cell_type": "code",
      "source": [
        "from sympy import FiniteSet, pi\n",
        "\n",
        "def time_period(length,g):\n",
        "  T = 2*pi*(length/g)**0.5\n",
        "  return T\n",
        "\n",
        "\n",
        "if __name__ == '__main__':\n",
        "\n",
        "  L = FiniteSet(15,18,21,22.5,25)\n",
        "  g_values = FiniteSet(9.8, 9.78,9.83)\n",
        "  print('{0:^15}{1:^15}{2:^15}'.format('Length(cm)','Gravity(m/s^2)','Time period'))\n",
        "  for elem in L*g_values:\n",
        "    l = elem[0]\n",
        "    g = elem[1]\n",
        "    t = time_period(1/100,g)\n",
        "    print('{0:^15}{1:^15}{2:^15.3}'.format(float(l), float(g), float(t)))"
      ],
      "metadata": {
        "colab": {
          "base_uri": "https://localhost:8080/"
        },
        "id": "Zoy-zxQQNQhq",
        "outputId": "766419f4-4927-47dc-93ba-ab2e619eb4d3"
      },
      "execution_count": null,
      "outputs": [
        {
          "output_type": "stream",
          "name": "stdout",
          "text": [
            "  Length(cm)   Gravity(m/s^2)   Time period  \n",
            "     22.5           9.78           0.201     \n",
            "     15.0           9.78           0.201     \n",
            "     22.5            9.8           0.201     \n",
            "     18.0           9.78           0.201     \n",
            "     15.0            9.8           0.201     \n",
            "     22.5           9.83            0.2      \n",
            "     21.0           9.78           0.201     \n",
            "     18.0            9.8           0.201     \n",
            "     15.0           9.83            0.2      \n",
            "     25.0           9.78           0.201     \n",
            "     21.0            9.8           0.201     \n",
            "     18.0           9.83            0.2      \n",
            "     25.0            9.8           0.201     \n",
            "     21.0           9.83            0.2      \n",
            "     25.0           9.83            0.2      \n"
          ]
        }
      ]
    },
    {
      "cell_type": "markdown",
      "source": [
        "probability"
      ],
      "metadata": {
        "id": "QcsZCA31QJfv"
      }
    },
    {
      "cell_type": "code",
      "source": [
        "def probability(space, event):\n",
        "  return len(event)/len(space)"
      ],
      "metadata": {
        "id": "uvEeskv4Popm"
      },
      "execution_count": null,
      "outputs": []
    },
    {
      "cell_type": "code",
      "source": [
        "def probability(space,event):\n",
        "  return len(event)/len(space)\n",
        "\n",
        "\n",
        "def check_prime(number):\n",
        "  if number != 1:\n",
        "    for factor in range(2,number):\n",
        "      if number % factor == 0:\n",
        "        return False\n",
        "  else:\n",
        "        return False\n",
        "  return True\n",
        "\n",
        "\n",
        "if __name__ =='__main__':\n",
        "\n",
        "  space = FiniteSet(*range(1,21))\n",
        "  primes =[]\n",
        "  for num in s:\n",
        "    if check_prime(num):\n",
        "      primes.append(num)\n",
        "  event = FiniteSet(*primes)\n",
        "  p = probability(space,event)\n",
        "\n",
        "  print('Sample space:{0}'.format(space))\n",
        "  print('event:{0}'.format(event))\n",
        "  print('probability of rolling a prime:{0:5f}'.format(p))\n"
      ],
      "metadata": {
        "colab": {
          "base_uri": "https://localhost:8080/"
        },
        "id": "s79X0YBkQp36",
        "outputId": "e4c740f6-1793-487e-b911-52b1ce405e96"
      },
      "execution_count": null,
      "outputs": [
        {
          "output_type": "stream",
          "name": "stdout",
          "text": [
            "Sample space:{1, 2, 3, 4, 5, 6, 7, 8, 9, 10, 11, 12, 13, 14, 15, 16, 17, 18, 19, 20}\n",
            "event:{2}\n",
            "probability of rolling a prime:0.050000\n"
          ]
        }
      ]
    },
    {
      "cell_type": "code",
      "source": [
        "if __name__ == '__main__':\n",
        "  space = range(1,21)\n",
        "  primes = []\n",
        "  for num in space:\n",
        "    if check_prime(num):\n",
        "      primes.append(num)\n",
        "  p = probability(space, prime)"
      ],
      "metadata": {
        "id": "lZru3V2JSOgg"
      },
      "execution_count": null,
      "outputs": []
    },
    {
      "cell_type": "markdown",
      "source": [
        " Probability of Event A or Event B\n"
      ],
      "metadata": {
        "id": "AOqvduoVS1Ao"
      }
    },
    {
      "cell_type": "code",
      "source": [
        "from sympy import FiniteSet\n",
        "s = FiniteSet(1,2,3,4,5,6)\n",
        "a = FiniteSet(2,3,5)\n",
        "b = FiniteSet(1,3,5)\n",
        "e = a.union(b)\n",
        "len(e)/len(s)"
      ],
      "metadata": {
        "id": "xsueX3VOSoMB",
        "colab": {
          "base_uri": "https://localhost:8080/"
        },
        "outputId": "1c9935d9-9ff0-4f6f-ee59-c46daf07b05b"
      },
      "execution_count": 42,
      "outputs": [
        {
          "output_type": "execute_result",
          "data": {
            "text/plain": [
              "0.6666666666666666"
            ]
          },
          "metadata": {},
          "execution_count": 42
        }
      ]
    },
    {
      "cell_type": "code",
      "source": [
        "from sympy import FiniteSet\n",
        "s = FiniteSet(1,2,3,4,5,6)\n",
        "a = FiniteSet(2,3,5)\n",
        "b = FiniteSet(1,3,5)\n",
        "e = a.intersect(b)\n",
        "len(e)/len(s)"
      ],
      "metadata": {
        "colab": {
          "base_uri": "https://localhost:8080/"
        },
        "id": "qO-Q8shMT5KV",
        "outputId": "9d48457c-d8eb-4c1b-c253-b08a9402906f"
      },
      "execution_count": 45,
      "outputs": [
        {
          "output_type": "execute_result",
          "data": {
            "text/plain": [
              "0.3333333333333333"
            ]
          },
          "metadata": {},
          "execution_count": 45
        }
      ]
    },
    {
      "cell_type": "markdown",
      "source": [
        "Generating random numbers"
      ],
      "metadata": {
        "id": "jxz4cXg0UmV7"
      }
    },
    {
      "cell_type": "code",
      "source": [
        "import random #simulating a die roll\n",
        "random.randint(1,6)"
      ],
      "metadata": {
        "colab": {
          "base_uri": "https://localhost:8080/"
        },
        "id": "rP6MW_S_UQd7",
        "outputId": "c6b363a6-9a82-454f-ea28-097af5369288"
      },
      "execution_count": 47,
      "outputs": [
        {
          "output_type": "execute_result",
          "data": {
            "text/plain": [
              "2"
            ]
          },
          "metadata": {},
          "execution_count": 47
        }
      ]
    },
    {
      "cell_type": "code",
      "source": [
        "random.randint(1,6)"
      ],
      "metadata": {
        "colab": {
          "base_uri": "https://localhost:8080/"
        },
        "id": "ni5xeqo9U1kA",
        "outputId": "60a33adb-ea0e-4aa8-9af9-b78a95a0300f"
      },
      "execution_count": 53,
      "outputs": [
        {
          "output_type": "execute_result",
          "data": {
            "text/plain": [
              "3"
            ]
          },
          "metadata": {},
          "execution_count": 53
        }
      ]
    },
    {
      "cell_type": "markdown",
      "source": [
        " Roll a die until the total score is 20\n"
      ],
      "metadata": {
        "id": "SC4DR9f7WBRs"
      }
    },
    {
      "cell_type": "code",
      "source": [
        "import matplotlib.pyplot as plt\n",
        "import random\n",
        "\n",
        "target_score = 20\n",
        "def roll():\n",
        "  return random.randint(1,6)\n",
        "\n",
        "if __name__ == '__main__':\n",
        "  score = 0\n",
        "  num_rolls = 0\n",
        "  while score < target_score:\n",
        "    die_roll = roll()\n",
        "    num_rolls +=1\n",
        "    print('rolled:{0}'.format(die_roll))\n",
        "    score += die_roll\n",
        "\n",
        "    print('score of {0} reached in {1} rolls '.format(score, num_rolls))"
      ],
      "metadata": {
        "colab": {
          "base_uri": "https://localhost:8080/"
        },
        "id": "DZmWicu_U717",
        "outputId": "18b957ff-e81c-42fb-f228-fc40ac83dca1"
      },
      "execution_count": 56,
      "outputs": [
        {
          "output_type": "stream",
          "name": "stdout",
          "text": [
            "rolled:6\n",
            "score of 6 reached in 1 rolls \n",
            "rolled:4\n",
            "score of 10 reached in 2 rolls \n",
            "rolled:1\n",
            "score of 11 reached in 3 rolls \n",
            "rolled:2\n",
            "score of 13 reached in 4 rolls \n",
            "rolled:1\n",
            "score of 14 reached in 5 rolls \n",
            "rolled:3\n",
            "score of 17 reached in 6 rolls \n",
            "rolled:3\n",
            "score of 20 reached in 7 rolls \n"
          ]
        }
      ]
    },
    {
      "cell_type": "code",
      "source": [
        "from sympy import FiniteSet\n",
        "import random\n",
        "\n",
        "\n",
        "def find_prob(target_score, max_rolls):\n",
        "\n",
        "  die_sides = FiniteSet(1,2,3,4,5,6)\n",
        "  #sample space\n",
        "  s = die_sides**max_rolls\n",
        "  #find the event set\n",
        "  if max_rolls > 1:\n",
        "    success_rolls = []\n",
        "    for elem in s :\n",
        "      if sum(elem) >=target_score:\n",
        "        success_rolls.append(elem)\n",
        "  else:\n",
        "    if target_score > 6 :\n",
        "      success_rolls = []\n",
        "    else:\n",
        "      success_rolls = []\n",
        "      for roll in die_sides:\n",
        "        if roll >= target_score:\n",
        "          success_rolls.append(roll)\n",
        "\n",
        "  e = FiniteSet(*success_rolls)\n",
        "  #calculating the probability of reaching target score\n",
        "  return len(e)/len(s)\n",
        "\n",
        "\n",
        "if __name__ == '__main__':\n",
        "\n",
        "\n",
        "  target_score = int(input('enter the target score:'))\n",
        "  max_rolls = int(input('enter the maximum number of the rolls allowed:'))\n",
        "  p = find_prob(target_score, max_rolls)\n",
        "  print('probability:{0:.5f}'.format(p))"
      ],
      "metadata": {
        "colab": {
          "base_uri": "https://localhost:8080/"
        },
        "id": "T8ofcoFFV7bF",
        "outputId": "c40834b7-e508-49ba-9dcc-4b289b40914f"
      },
      "execution_count": 58,
      "outputs": [
        {
          "output_type": "stream",
          "name": "stdout",
          "text": [
            "enter the target score:25\n",
            "enter the maximum number of the rolls allowed:5\n",
            "probability:0.03241\n"
          ]
        }
      ]
    },
    {
      "cell_type": "markdown",
      "source": [
        "non uniform random numbers"
      ],
      "metadata": {
        "id": "wiBL5aWZYSd-"
      }
    },
    {
      "cell_type": "code",
      "source": [
        "import random\n",
        "def toss():\n",
        "  #0 -> heads, 1 - > tails\n",
        "  if random.random() <2/3:\n",
        "    return 0\n",
        "\n",
        "  else:\n",
        "    return 1\n",
        "\n",
        "    # Call the toss function and print the result\n",
        "result = toss()\n",
        "print(\"Result of the toss:\", \"Heads\" if result == 0 else \"Tails\")"
      ],
      "metadata": {
        "colab": {
          "base_uri": "https://localhost:8080/"
        },
        "id": "XfsxgWU6YEjI",
        "outputId": "7bb9caee-5410-4c04-9d06-7948a5abf1af"
      },
      "execution_count": 61,
      "outputs": [
        {
          "output_type": "stream",
          "name": "stdout",
          "text": [
            "Result of the toss: Heads\n"
          ]
        }
      ]
    },
    {
      "cell_type": "code",
      "source": [
        "import random\n",
        "\n",
        "def get_index(probability):\n",
        "  c_probability = 0\n",
        "  sum_probability = []\n",
        "  for p in probability:\n",
        "    c_probability += p\n",
        "    sum_probability.append(c_probability)\n",
        "\n",
        "  r = random.random()\n",
        "  for index, sp in enumerate(sum_probability):\n",
        "    if r <= sp:\n",
        "      return index\n",
        "  return len(probability)-1\n",
        "def dispense():\n",
        "  bills = [5,10,20,50]\n",
        "  probability = [1/6, 1/6, 1/3, 2/3]\n",
        "  bill_index = get_index(probability)\n",
        "  return bills[bill_index]\n",
        "\n",
        "  # Example usage\n",
        "if __name__ == '__main__':\n",
        "  for _ in range(10):\n",
        "      # Dispense 10 bills\n",
        "      print(\"Dispensed bill:\", dispense())"
      ],
      "metadata": {
        "colab": {
          "base_uri": "https://localhost:8080/"
        },
        "id": "NUOqz9wCYtq9",
        "outputId": "368e7f4a-c177-42ea-901d-7b77df52b675"
      },
      "execution_count": 72,
      "outputs": [
        {
          "output_type": "stream",
          "name": "stdout",
          "text": [
            "Dispensed bill: 10\n",
            "Dispensed bill: 5\n",
            "Dispensed bill: 20\n",
            "Dispensed bill: 20\n",
            "Dispensed bill: 20\n",
            "Dispensed bill: 50\n",
            "Dispensed bill: 20\n",
            "Dispensed bill: 5\n",
            "Dispensed bill: 5\n",
            "Dispensed bill: 50\n"
          ]
        }
      ]
    },
    {
      "cell_type": "markdown",
      "source": [
        " Programming challenges\n"
      ],
      "metadata": {
        "id": "DaedG2xAbcd-"
      }
    },
    {
      "cell_type": "code",
      "source": [
        "from matplotlib_venn import venn2\n",
        "import matplotlib.pyplot as plt\n",
        "from sympy import FiniteSet\n",
        "def draw_venn(sets):\n",
        "    venn2(subsets=sets)\n",
        "    plt.show()\n",
        "\n",
        "if __name__ == '__main__':\n",
        "    s1 = FiniteSet(1, 3, 5, 7, 9, 11, 13, 15, 17, 19)\n",
        "    s2 = FiniteSet(2, 3, 5, 7, 11, 13, 17, 19)\n",
        "    draw_venn([s1, s2])"
      ],
      "metadata": {
        "colab": {
          "base_uri": "https://localhost:8080/",
          "height": 410
        },
        "id": "k1orw0xWa5iB",
        "outputId": "65c9225e-6f47-4588-9819-8248383387c9"
      },
      "execution_count": 74,
      "outputs": [
        {
          "output_type": "display_data",
          "data": {
            "text/plain": [
              "<Figure size 640x480 with 1 Axes>"
            ],
            "image/png": "[encoded data removed]"
          },
          "metadata": {}
        }
      ]
    },
    {
      "cell_type": "code",
      "source": [
        "venn2(subsets=(a,b), set_labels=('S', 'T'))"
      ],
      "metadata": {
        "colab": {
          "base_uri": "https://localhost:8080/",
          "height": 425
        },
        "id": "Zc61pXKXbpOT",
        "outputId": "f9a25daa-166f-4d4f-fc19-1e9f87d44e0d"
      },
      "execution_count": 75,
      "outputs": [
        {
          "output_type": "execute_result",
          "data": {
            "text/plain": [
              "<matplotlib_venn._common.VennDiagram at 0x786dee11dc90>"
            ]
          },
          "metadata": {},
          "execution_count": 75
        },
        {
          "output_type": "display_data",
          "data": {
            "text/plain": [
              "<Figure size 640x480 with 1 Axes>"
            ],
            "image/png": "[encoded data removed]"
          },
          "metadata": {}
        }
      ]
    },
    {
      "cell_type": "code",
      "source": [
        "import csv\n",
        "\n",
        "# Sample data (replace with actual data)\n",
        "data = [\n",
        "    [1, 1, 0],\n",
        "    [2, 1, 1],\n",
        "    [3, 0, 1],\n",
        "    # Add more student data here\n",
        "]\n",
        "\n",
        "# Write data to CSV file\n",
        "with open('sports.csv', 'w', newline='') as csvfile:\n",
        "    fieldnames = ['StudentID', 'Football', 'Others']\n",
        "    writer = csv.writer(csvfile)\n",
        "    writer.writerow(fieldnames)\n",
        "    writer.writerows(data)\n",
        "\n",
        "print(\"CSV file 'sports.csv' created successfully!\")"
      ],
      "metadata": {
        "colab": {
          "base_uri": "https://localhost:8080/"
        },
        "id": "r5C7j9L7bx3G",
        "outputId": "bda26cd2-f3b2-4f55-a54f-ee80ebf40832"
      },
      "execution_count": 76,
      "outputs": [
        {
          "output_type": "stream",
          "name": "stdout",
          "text": [
            "CSV file 'sports.csv' created successfully!\n"
          ]
        }
      ]
    },
    {
      "cell_type": "code",
      "source": [
        "import pandas as pd\n",
        "df = pd.read_csv('sports.csv')\n",
        "df"
      ],
      "metadata": {
        "colab": {
          "base_uri": "https://localhost:8080/",
          "height": 143
        },
        "id": "ffU4nN0KcDil",
        "outputId": "774dac63-a559-48cc-b441-e33790e2526a"
      },
      "execution_count": 78,
      "outputs": [
        {
          "output_type": "execute_result",
          "data": {
            "text/plain": [
              "   StudentID  Football  Others\n",
              "0          1         1       0\n",
              "1          2         1       1\n",
              "2          3         0       1"
            ],
            "text/html": [
              "\n",
              "  <div id=\"df-2d42a376-1ba0-4c5e-a28b-5707049f7b2e\" class=\"colab-df-container\">\n",
              "    <div>\n",
              "<style scoped>\n",
              "    .dataframe tbody tr th:only-of-type {\n",
              "        vertical-align: middle;\n",
              "    }\n",
              "\n",
              "    .dataframe tbody tr th {\n",
              "        vertical-align: top;\n",
              "    }\n",
              "\n",
              "    .dataframe thead th {\n",
              "        text-align: right;\n",
              "    }\n",
              "</style>\n",
              "<table border=\"1\" class=\"dataframe\">\n",
              "  <thead>\n",
              "    <tr style=\"text-align: right;\">\n",
              "      <th></th>\n",
              "      <th>StudentID</th>\n",
              "      <th>Football</th>\n",
              "      <th>Others</th>\n",
              "    </tr>\n",
              "  </thead>\n",
              "  <tbody>\n",
              "    <tr>\n",
              "      <th>0</th>\n",
              "      <td>1</td>\n",
              "      <td>1</td>\n",
              "      <td>0</td>\n",
              "    </tr>\n",
              "    <tr>\n",
              "      <th>1</th>\n",
              "      <td>2</td>\n",
              "      <td>1</td>\n",
              "      <td>1</td>\n",
              "    </tr>\n",
              "    <tr>\n",
              "      <th>2</th>\n",
              "      <td>3</td>\n",
              "      <td>0</td>\n",
              "      <td>1</td>\n",
              "    </tr>\n",
              "  </tbody>\n",
              "</table>\n",
              "</div>\n",
              "    <div class=\"colab-df-buttons\">\n",
              "\n",
              "  <div class=\"colab-df-container\">\n",
              "    <button class=\"colab-df-convert\" onclick=\"convertToInteractive('df-2d42a376-1ba0-4c5e-a28b-5707049f7b2e')\"\n",
              "            title=\"Convert this dataframe to an interactive table.\"\n",
              "            style=\"display:none;\">\n",
              "\n",
              "  <svg xmlns=\"http://www.w3.org/2000/svg\" height=\"24px\" viewBox=\"0 -960 960 960\">\n",
              "    <path d=\"M120-120v-720h720v720H120Zm60-500h600v-160H180v160Zm220 220h160v-160H400v160Zm0 220h160v-160H400v160ZM180-400h160v-160H180v160Zm440 0h160v-160H620v160ZM180-180h160v-160H180v160Zm440 0h160v-160H620v160Z\"/>\n",
              "  </svg>\n",
              "    </button>\n",
              "\n",
              "  <style>\n",
              "    .colab-df-container {\n",
              "      display:flex;\n",
              "      gap: 12px;\n",
              "    }\n",
              "\n",
              "    .colab-df-convert {\n",
              "      background-color: #E8F0FE;\n",
              "      border: none;\n",
              "      border-radius: 50%;\n",
              "      cursor: pointer;\n",
              "      display: none;\n",
              "      fill: #1967D2;\n",
              "      height: 32px;\n",
              "      padding: 0 0 0 0;\n",
              "      width: 32px;\n",
              "    }\n",
              "\n",
              "    .colab-df-convert:hover {\n",
              "      background-color: #E2EBFA;\n",
              "      box-shadow: 0px 1px 2px rgba(60, 64, 67, 0.3), 0px 1px 3px 1px rgba(60, 64, 67, 0.15);\n",
              "      fill: #174EA6;\n",
              "    }\n",
              "\n",
              "    .colab-df-buttons div {\n",
              "      margin-bottom: 4px;\n",
              "    }\n",
              "\n",
              "    [theme=dark] .colab-df-convert {\n",
              "      background-color: #3B4455;\n",
              "      fill: #D2E3FC;\n",
              "    }\n",
              "\n",
              "    [theme=dark] .colab-df-convert:hover {\n",
              "      background-color: #434B5C;\n",
              "      box-shadow: 0px 1px 3px 1px rgba(0, 0, 0, 0.15);\n",
              "      filter: drop-shadow(0px 1px 2px rgba(0, 0, 0, 0.3));\n",
              "      fill: #FFFFFF;\n",
              "    }\n",
              "  </style>\n",
              "\n",
              "    <script>\n",
              "      const buttonEl =\n",
              "        document.querySelector('#df-2d42a376-1ba0-4c5e-a28b-5707049f7b2e button.colab-df-convert');\n",
              "      buttonEl.style.display =\n",
              "        google.colab.kernel.accessAllowed ? 'block' : 'none';\n",
              "\n",
              "      async function convertToInteractive(key) {\n",
              "        const element = document.querySelector('#df-2d42a376-1ba0-4c5e-a28b-5707049f7b2e');\n",
              "        const dataTable =\n",
              "          await google.colab.kernel.invokeFunction('convertToInteractive',\n",
              "                                                    [key], {});\n",
              "        if (!dataTable) return;\n",
              "\n",
              "        const docLinkHtml = 'Like what you see? Visit the ' +\n",
              "          '<a target=\"_blank\" href=https://colab.research.google.com/notebooks/data_table.ipynb>data table notebook</a>'\n",
              "          + ' to learn more about interactive tables.';\n",
              "        element.innerHTML = '';\n",
              "        dataTable['output_type'] = 'display_data';\n",
              "        await google.colab.output.renderOutput(dataTable, element);\n",
              "        const docLink = document.createElement('div');\n",
              "        docLink.innerHTML = docLinkHtml;\n",
              "        element.appendChild(docLink);\n",
              "      }\n",
              "    </script>\n",
              "  </div>\n",
              "\n",
              "\n",
              "<div id=\"df-02a3c376-2eeb-44f3-af85-309c3a77e1a3\">\n",
              "  <button class=\"colab-df-quickchart\" onclick=\"quickchart('df-02a3c376-2eeb-44f3-af85-309c3a77e1a3')\"\n",
              "            title=\"Suggest charts\"\n",
              "            style=\"display:none;\">\n",
              "\n",
              "<svg xmlns=\"http://www.w3.org/2000/svg\" height=\"24px\"viewBox=\"0 0 24 24\"\n",
              "     width=\"24px\">\n",
              "    <g>\n",
              "        <path d=\"M19 3H5c-1.1 0-2 .9-2 2v14c0 1.1.9 2 2 2h14c1.1 0 2-.9 2-2V5c0-1.1-.9-2-2-2zM9 17H7v-7h2v7zm4 0h-2V7h2v10zm4 0h-2v-4h2v4z\"/>\n",
              "    </g>\n",
              "</svg>\n",
              "  </button>\n",
              "\n",
              "<style>\n",
              "  .colab-df-quickchart {\n",
              "      --bg-color: #E8F0FE;\n",
              "      --fill-color: #1967D2;\n",
              "      --hover-bg-color: #E2EBFA;\n",
              "      --hover-fill-color: #174EA6;\n",
              "      --disabled-fill-color: #AAA;\n",
              "      --disabled-bg-color: #DDD;\n",
              "  }\n",
              "\n",
              "  [theme=dark] .colab-df-quickchart {\n",
              "      --bg-color: #3B4455;\n",
              "      --fill-color: #D2E3FC;\n",
              "      --hover-bg-color: #434B5C;\n",
              "      --hover-fill-color: #FFFFFF;\n",
              "      --disabled-bg-color: #3B4455;\n",
              "      --disabled-fill-color: #666;\n",
              "  }\n",
              "\n",
              "  .colab-df-quickchart {\n",
              "    background-color: var(--bg-color);\n",
              "    border: none;\n",
              "    border-radius: 50%;\n",
              "    cursor: pointer;\n",
              "    display: none;\n",
              "    fill: var(--fill-color);\n",
              "    height: 32px;\n",
              "    padding: 0;\n",
              "    width: 32px;\n",
              "  }\n",
              "\n",
              "  .colab-df-quickchart:hover {\n",
              "    background-color: var(--hover-bg-color);\n",
              "    box-shadow: 0 1px 2px rgba(60, 64, 67, 0.3), 0 1px 3px 1px rgba(60, 64, 67, 0.15);\n",
              "    fill: var(--button-hover-fill-color);\n",
              "  }\n",
              "\n",
              "  .colab-df-quickchart-complete:disabled,\n",
              "  .colab-df-quickchart-complete:disabled:hover {\n",
              "    background-color: var(--disabled-bg-color);\n",
              "    fill: var(--disabled-fill-color);\n",
              "    box-shadow: none;\n",
              "  }\n",
              "\n",
              "  .colab-df-spinner {\n",
              "    border: 2px solid var(--fill-color);\n",
              "    border-color: transparent;\n",
              "    border-bottom-color: var(--fill-color);\n",
              "    animation:\n",
              "      spin 1s steps(1) infinite;\n",
              "  }\n",
              "\n",
              "  @keyframes spin {\n",
              "    0% {\n",
              "      border-color: transparent;\n",
              "      border-bottom-color: var(--fill-color);\n",
              "      border-left-color: var(--fill-color);\n",
              "    }\n",
              "    20% {\n",
              "      border-color: transparent;\n",
              "      border-left-color: var(--fill-color);\n",
              "      border-top-color: var(--fill-color);\n",
              "    }\n",
              "    30% {\n",
              "      border-color: transparent;\n",
              "      border-left-color: var(--fill-color);\n",
              "      border-top-color: var(--fill-color);\n",
              "      border-right-color: var(--fill-color);\n",
              "    }\n",
              "    40% {\n",
              "      border-color: transparent;\n",
              "      border-right-color: var(--fill-color);\n",
              "      border-top-color: var(--fill-color);\n",
              "    }\n",
              "    60% {\n",
              "      border-color: transparent;\n",
              "      border-right-color: var(--fill-color);\n",
              "    }\n",
              "    80% {\n",
              "      border-color: transparent;\n",
              "      border-right-color: var(--fill-color);\n",
              "      border-bottom-color: var(--fill-color);\n",
              "    }\n",
              "    90% {\n",
              "      border-color: transparent;\n",
              "      border-bottom-color: var(--fill-color);\n",
              "    }\n",
              "  }\n",
              "</style>\n",
              "\n",
              "  <script>\n",
              "    async function quickchart(key) {\n",
              "      const quickchartButtonEl =\n",
              "        document.querySelector('#' + key + ' button');\n",
              "      quickchartButtonEl.disabled = true;  // To prevent multiple clicks.\n",
              "      quickchartButtonEl.classList.add('colab-df-spinner');\n",
              "      try {\n",
              "        const charts = await google.colab.kernel.invokeFunction(\n",
              "            'suggestCharts', [key], {});\n",
              "      } catch (error) {\n",
              "        console.error('Error during call to suggestCharts:', error);\n",
              "      }\n",
              "      quickchartButtonEl.classList.remove('colab-df-spinner');\n",
              "      quickchartButtonEl.classList.add('colab-df-quickchart-complete');\n",
              "    }\n",
              "    (() => {\n",
              "      let quickchartButtonEl =\n",
              "        document.querySelector('#df-02a3c376-2eeb-44f3-af85-309c3a77e1a3 button');\n",
              "      quickchartButtonEl.style.display =\n",
              "        google.colab.kernel.accessAllowed ? 'block' : 'none';\n",
              "    })();\n",
              "  </script>\n",
              "</div>\n",
              "\n",
              "  <div id=\"id_1120f348-f47c-40cc-80fb-7734c7747346\">\n",
              "    <style>\n",
              "      .colab-df-generate {\n",
              "        background-color: #E8F0FE;\n",
              "        border: none;\n",
              "        border-radius: 50%;\n",
              "        cursor: pointer;\n",
              "        display: none;\n",
              "        fill: #1967D2;\n",
              "        height: 32px;\n",
              "        padding: 0 0 0 0;\n",
              "        width: 32px;\n",
              "      }\n",
              "\n",
              "      .colab-df-generate:hover {\n",
              "        background-color: #E2EBFA;\n",
              "        box-shadow: 0px 1px 2px rgba(60, 64, 67, 0.3), 0px 1px 3px 1px rgba(60, 64, 67, 0.15);\n",
              "        fill: #174EA6;\n",
              "      }\n",
              "\n",
              "      [theme=dark] .colab-df-generate {\n",
              "        background-color: #3B4455;\n",
              "        fill: #D2E3FC;\n",
              "      }\n",
              "\n",
              "      [theme=dark] .colab-df-generate:hover {\n",
              "        background-color: #434B5C;\n",
              "        box-shadow: 0px 1px 3px 1px rgba(0, 0, 0, 0.15);\n",
              "        filter: drop-shadow(0px 1px 2px rgba(0, 0, 0, 0.3));\n",
              "        fill: #FFFFFF;\n",
              "      }\n",
              "    </style>\n",
              "    <button class=\"colab-df-generate\" onclick=\"generateWithVariable('df')\"\n",
              "            title=\"Generate code using this dataframe.\"\n",
              "            style=\"display:none;\">\n",
              "\n",
              "  <svg xmlns=\"http://www.w3.org/2000/svg\" height=\"24px\"viewBox=\"0 0 24 24\"\n",
              "       width=\"24px\">\n",
              "    <path d=\"M7,19H8.4L18.45,9,17,7.55,7,17.6ZM5,21V16.75L18.45,3.32a2,2,0,0,1,2.83,0l1.4,1.43a1.91,1.91,0,0,1,.58,1.4,1.91,1.91,0,0,1-.58,1.4L9.25,21ZM18.45,9,17,7.55Zm-12,3A5.31,5.31,0,0,0,4.9,8.1,5.31,5.31,0,0,0,1,6.5,5.31,5.31,0,0,0,4.9,4.9,5.31,5.31,0,0,0,6.5,1,5.31,5.31,0,0,0,8.1,4.9,5.31,5.31,0,0,0,12,6.5,5.46,5.46,0,0,0,6.5,12Z\"/>\n",
              "  </svg>\n",
              "    </button>\n",
              "    <script>\n",
              "      (() => {\n",
              "      const buttonEl =\n",
              "        document.querySelector('#id_1120f348-f47c-40cc-80fb-7734c7747346 button.colab-df-generate');\n",
              "      buttonEl.style.display =\n",
              "        google.colab.kernel.accessAllowed ? 'block' : 'none';\n",
              "\n",
              "      buttonEl.onclick = () => {\n",
              "        google.colab.notebook.generateWithVariable('df');\n",
              "      }\n",
              "      })();\n",
              "    </script>\n",
              "  </div>\n",
              "\n",
              "    </div>\n",
              "  </div>\n"
            ],
            "application/vnd.google.colaboratory.intrinsic+json": {
              "type": "dataframe",
              "variable_name": "df",
              "summary": "{\n  \"name\": \"df\",\n  \"rows\": 3,\n  \"fields\": [\n    {\n      \"column\": \"StudentID\",\n      \"properties\": {\n        \"dtype\": \"number\",\n        \"std\": 1,\n        \"min\": 1,\n        \"max\": 3,\n        \"num_unique_values\": 3,\n        \"samples\": [\n          1,\n          2,\n          3\n        ],\n        \"semantic_type\": \"\",\n        \"description\": \"\"\n      }\n    },\n    {\n      \"column\": \"Football\",\n      \"properties\": {\n        \"dtype\": \"number\",\n        \"std\": 0,\n        \"min\": 0,\n        \"max\": 1,\n        \"num_unique_values\": 2,\n        \"samples\": [\n          0,\n          1\n        ],\n        \"semantic_type\": \"\",\n        \"description\": \"\"\n      }\n    },\n    {\n      \"column\": \"Others\",\n      \"properties\": {\n        \"dtype\": \"number\",\n        \"std\": 0,\n        \"min\": 0,\n        \"max\": 1,\n        \"num_unique_values\": 2,\n        \"samples\": [\n          1,\n          0\n        ],\n        \"semantic_type\": \"\",\n        \"description\": \"\"\n      }\n    }\n  ]\n}"
            }
          },
          "metadata": {},
          "execution_count": 78
        }
      ]
    },
    {
      "cell_type": "markdown",
      "source": [
        " #2: Law of Large Numbers\n"
      ],
      "metadata": {
        "id": "hUBTl-6EceHT"
      }
    },
    {
      "cell_type": "code",
      "source": [
        " e = 1*(1/6) + 2*(1/6) + 3*(1/6) + 4*(1/6) + 5*(1/6) + 6*(1/6)\n",
        " e"
      ],
      "metadata": {
        "colab": {
          "base_uri": "https://localhost:8080/"
        },
        "id": "6c4tAATdcKlN",
        "outputId": "0dce00ad-d7fc-404f-fdde-bf74d7ebf84c"
      },
      "execution_count": 79,
      "outputs": [
        {
          "output_type": "execute_result",
          "data": {
            "text/plain": [
              "3.5"
            ]
          },
          "metadata": {},
          "execution_count": 79
        }
      ]
    },
    {
      "cell_type": "markdown",
      "source": [
        " #3: How Many Tosses Before You Run Out of Money?\n"
      ],
      "metadata": {
        "id": "n0WnySUSeIab"
      }
    },
    {
      "cell_type": "code",
      "source": [
        " import random\n",
        "\n",
        "def roll_die(num_trials):\n",
        "\n",
        "    results = []\n",
        "    for _ in range(num_trials):\n",
        "        result = random.randint(1, 6)\n",
        "        results.append(result)\n",
        "    return results\n",
        "\n",
        "def calculate_average(results):\n",
        "\n",
        "   # Calculates the average value of a list of results.\n",
        "\n",
        "          #results: A list of numbers.\n",
        "\n",
        "    total = sum(results)\n",
        "    average = total / len(results)\n",
        "    return average\n",
        "\n",
        "if __name__ == \"__main__\":\n",
        "    expected_value = 3.5\n",
        "    num_trials_list = [100, 1000, 10000, 100000, 500000]\n",
        "\n",
        "    print(f\"Expected value: {expected_value}\")\n",
        "\n",
        "    for num_trials in num_trials_list:\n",
        "        results = roll_die(num_trials)\n",
        "        trial_average = calculate_average(results)\n",
        "        print(f\"Trials: {num_trials} Trial average: {trial_average}\")"
      ],
      "metadata": {
        "colab": {
          "base_uri": "https://localhost:8080/"
        },
        "id": "Fw9kopwcciTz",
        "outputId": "83d66966-b83d-448b-c6b9-4263208c0e89"
      },
      "execution_count": 86,
      "outputs": [
        {
          "output_type": "stream",
          "name": "stdout",
          "text": [
            "Expected value: 3.5\n",
            "Trials: 100 Trial average: 3.39\n",
            "Trials: 1000 Trial average: 3.472\n",
            "Trials: 10000 Trial average: 3.5005\n",
            "Trials: 100000 Trial average: 3.49304\n",
            "Trials: 500000 Trial average: 3.497142\n"
          ]
        }
      ]
    },
    {
      "cell_type": "code",
      "source": [
        "import random # Import the random module\n",
        "\n",
        "def coin_toss_game(starting_amount): # Simulate the coin toss game\n",
        "    current_amount = starting_amount # Initialize current amount\n",
        "    num_tosses = 0 # Initialize number of tosses\n",
        "\n",
        "    while current_amount > 0: # Continue while player has money\n",
        "        toss = random.choice([\"Heads\", \"Tails\"]) # Choose heads or tails randomly\n",
        "        current_amount += 1 if toss == \"Heads\" else -1.5 # Update amount based on toss\n",
        "        num_tosses += 1 # Increment number of tosses\n",
        "\n",
        "    return num_tosses, current_amount # Return num_tosses and current_amount\n",
        "\n",
        "if __name__ == \"__main__\": # Main execution block\n",
        "    starting_amount = float(input(\"Enter your starting amount: \")) # Get starting amount\n",
        "    num_tosses, current_amount = coin_toss_game(starting_amount) # Simulate game and get results\n",
        "    print(f\"Game over! (Current amount: ${current_amount:.2f}, Coin tosses: {num_tosses})\") # Print results"
      ],
      "metadata": {
        "colab": {
          "base_uri": "https://localhost:8080/"
        },
        "id": "uELqYeJidV44",
        "outputId": "753a12b8-e0ed-4862-9b2e-3392b11dfdef"
      },
      "execution_count": 85,
      "outputs": [
        {
          "output_type": "stream",
          "name": "stdout",
          "text": [
            "Enter your starting amount: 10\n",
            "Game over! (Current amount: $0.00, Coin tosses: 75)\n"
          ]
        }
      ]
    },
    {
      "cell_type": "markdown",
      "source": [
        " #4: Shuffling a Deck of Cards\n"
      ],
      "metadata": {
        "id": "VWZ8AqOyeErK"
      }
    },
    {
      "cell_type": "code",
      "source": [
        "import random # Import the random module\n",
        "\n",
        "def shuffle_deck(): # Shuffles a deck of 52 cards\n",
        "    deck = list(range(1, 53)) # Create a list of integers 1 to 52\n",
        "    random.shuffle(deck) # Shuffle the list in-place\n",
        "    return deck # Return the shuffled list\n",
        "\n",
        "if __name__ == \"__main__\": # Main execution block\n",
        "    shuffled_deck = shuffle_deck() # Shuffle the deck\n",
        "    print(shuffled_deck) # Print the shuffled deck"
      ],
      "metadata": {
        "colab": {
          "base_uri": "https://localhost:8080/"
        },
        "id": "QC-7UXM6drbJ",
        "outputId": "c980d9e5-2612-4f00-bbde-63470611fe2b"
      },
      "execution_count": 87,
      "outputs": [
        {
          "output_type": "stream",
          "name": "stdout",
          "text": [
            "[37, 11, 17, 46, 34, 21, 7, 9, 43, 51, 25, 14, 44, 33, 26, 28, 23, 27, 4, 20, 47, 1, 50, 48, 5, 22, 40, 18, 38, 16, 13, 19, 30, 2, 45, 52, 29, 41, 8, 36, 10, 35, 32, 3, 31, 15, 39, 6, 42, 24, 12, 49]\n"
          ]
        }
      ]
    },
    {
      "cell_type": "code",
      "source": [
        "import random\n",
        "x = [1,2,3,4]\n",
        "random.shuffle(x)\n",
        "x"
      ],
      "metadata": {
        "colab": {
          "base_uri": "https://localhost:8080/"
        },
        "id": "T4F4_qiQeB3r",
        "outputId": "d120fae7-b519-43db-ec51-545bfee9f956"
      },
      "execution_count": 88,
      "outputs": [
        {
          "output_type": "execute_result",
          "data": {
            "text/plain": [
              "[4, 3, 1, 2]"
            ]
          },
          "metadata": {},
          "execution_count": 88
        }
      ]
    },
    {
      "cell_type": "code",
      "source": [
        "import random\n",
        "\n",
        "class Card:\n",
        "    def __init__(self, suit, rank):\n",
        "        self.suit = suit\n",
        "        self.rank = rank\n",
        "\n",
        "def create_deck():\n",
        "    suits = ['spades', 'clubs', 'hearts', 'diamonds']\n",
        "    ranks = ['ace', '2', '3', '4', '5', '6', '7', '8', '9', '10', 'jack', 'queen', 'king']\n",
        "    deck = []\n",
        "    for suit in suits:\n",
        "        for rank in ranks:\n",
        "            deck.append(Card(suit, rank))\n",
        "    return deck\n",
        "\n",
        "def shuffle_deck(deck):\n",
        "    random.shuffle(deck)\n",
        "    return deck\n",
        "\n",
        "if __name__ == \"__main__\":\n",
        "    deck = create_deck()\n",
        "    shuffled_deck = shuffle_deck(deck)\n",
        "\n",
        "    for card in shuffled_deck:\n",
        "        print(f\"{card.rank} of {card.suit}\")"
      ],
      "metadata": {
        "colab": {
          "base_uri": "https://localhost:8080/"
        },
        "id": "Gk3zsWEZeQrP",
        "outputId": "68c2b4f9-29e7-42ff-922f-9730e29994fc"
      },
      "execution_count": 89,
      "outputs": [
        {
          "output_type": "stream",
          "name": "stdout",
          "text": [
            "6 of spades\n",
            "jack of clubs\n",
            "9 of spades\n",
            "10 of diamonds\n",
            "8 of spades\n",
            "10 of clubs\n",
            "queen of clubs\n",
            "5 of diamonds\n",
            "8 of hearts\n",
            "jack of hearts\n",
            "jack of spades\n",
            "4 of clubs\n",
            "8 of clubs\n",
            "king of spades\n",
            "7 of hearts\n",
            "9 of hearts\n",
            "4 of hearts\n",
            "queen of hearts\n",
            "5 of spades\n",
            "9 of diamonds\n",
            "7 of diamonds\n",
            "7 of clubs\n",
            "king of clubs\n",
            "ace of clubs\n",
            "3 of spades\n",
            "queen of diamonds\n",
            "4 of spades\n",
            "6 of diamonds\n",
            "2 of diamonds\n",
            "ace of diamonds\n",
            "4 of diamonds\n",
            "9 of clubs\n",
            "3 of hearts\n",
            "3 of diamonds\n",
            "2 of clubs\n",
            "6 of clubs\n",
            "7 of spades\n",
            "king of diamonds\n",
            "10 of spades\n",
            "2 of spades\n",
            "10 of hearts\n",
            "king of hearts\n",
            "5 of clubs\n",
            "5 of hearts\n",
            "jack of diamonds\n",
            "queen of spades\n",
            "8 of diamonds\n",
            "3 of clubs\n",
            "ace of spades\n",
            "6 of hearts\n",
            "2 of hearts\n",
            "ace of hearts\n"
          ]
        }
      ]
    },
    {
      "cell_type": "markdown",
      "source": [
        "#5: Estimating the Area of a Circle\n"
      ],
      "metadata": {
        "id": "TO5L4ggve_SX"
      }
    },
    {
      "cell_type": "code",
      "source": [
        "import random\n",
        "import math\n",
        "\n",
        "def estimate_circle_area(radius, num_darts):\n",
        "    \"\"\"\n",
        "    Estimates the area of a circle using the Monte Carlo method.\n",
        "\n",
        "    Args:\n",
        "        radius: The radius of the circle.\n",
        "        num_darts: The number of darts to throw.\n",
        "\n",
        "    Returns:\n",
        "        The estimated area of the circle.\n",
        "    \"\"\"\n",
        "\n",
        "    num_hits = 0\n",
        "    side = 2 * radius  # Side of the square\n",
        "\n",
        "    for _ in range(num_darts):\n",
        "        # Generate random coordinates within the square\n",
        "        x = random.uniform(0, side)\n",
        "        y = random.uniform(0, side)\n",
        "\n",
        "        # Check if the dart lands within the circle\n",
        "        if (x - radius) ** 2 + (y - radius) ** 2 <= radius ** 2:\n",
        "            num_hits += 1\n",
        "\n",
        "    # Calculate the estimated area\n",
        "    estimated_area = (num_hits / num_darts) * side ** 2\n",
        "\n",
        "    return estimated_area\n",
        "\n",
        "if __name__ == \"__main__\":\n",
        "    radius = 2\n",
        "    actual_area = math.pi * radius ** 2\n",
        "\n",
        "    num_darts_list = [1000, 100000, 1000000]\n",
        "\n",
        "    print(f\"Radius: {radius}\")\n",
        "    print(f\"Area: {actual_area}\")\n",
        "\n",
        "    for num_darts in num_darts_list:\n",
        "        estimated_area = estimate_circle_area(radius, num_darts)\n",
        "        print(f\"Estimated ({num_darts} darts): {estimated_area}\")"
      ],
      "metadata": {
        "colab": {
          "base_uri": "https://localhost:8080/"
        },
        "id": "H8RLkyW7ej_W",
        "outputId": "7505115c-30b4-4263-8afa-a8cccdc34f49"
      },
      "execution_count": 90,
      "outputs": [
        {
          "output_type": "stream",
          "name": "stdout",
          "text": [
            "Radius: 2\n",
            "Area: 12.566370614359172\n",
            "Estimated (1000 darts): 12.528\n",
            "Estimated (100000 darts): 12.58144\n",
            "Estimated (1000000 darts): 12.571456\n"
          ]
        }
      ]
    },
    {
      "cell_type": "markdown",
      "source": [
        "Estimating the Value of Pi\n"
      ],
      "metadata": {
        "id": "W7yO5JKMfTE3"
      }
    },
    {
      "cell_type": "code",
      "source": [
        "import random\n",
        "\n",
        "def estimate_pi(num_darts):\n",
        "\n",
        "    num_hits = 0\n",
        "\n",
        "    for _ in range(num_darts):\n",
        "        # Generate random coordinates within the unit square\n",
        "        x = random.uniform(-1, 1)\n",
        "        y = random.uniform(-1, 1)\n",
        "\n",
        "        # Check if the dart lands within the unit circle\n",
        "        if x**2 + y**2 <= 1:\n",
        "            num_hits += 1\n",
        "\n",
        "    # Calculate the estimated value of pi\n",
        "    pi_estimate = 4 * num_hits / num_darts\n",
        "\n",
        "    return pi_estimate\n",
        "\n",
        "if __name__ == \"__main__\":\n",
        "    num_darts_list = [1000, 10000, 100000, 1000000]\n",
        "\n",
        "    for num_darts in num_darts_list:\n",
        "        estimated_pi = estimate_pi(num_darts)\n",
        "        print(f\"Estimated pi with {num_darts} darts: {estimated_pi}\")"
      ],
      "metadata": {
        "colab": {
          "base_uri": "https://localhost:8080/"
        },
        "id": "1gliuqcge9Tm",
        "outputId": "ef47e7f2-b14e-42c3-e51e-3e1f4cd6aa50"
      },
      "execution_count": 91,
      "outputs": [
        {
          "output_type": "stream",
          "name": "stdout",
          "text": [
            "Estimated pi with 1000 darts: 3.128\n",
            "Estimated pi with 10000 darts: 3.1576\n",
            "Estimated pi with 100000 darts: 3.14444\n",
            "Estimated pi with 1000000 darts: 3.13936\n"
          ]
        }
      ]
    },
    {
      "cell_type": "markdown",
      "source": [
        "chapter ends."
      ],
      "metadata": {
        "id": "FugcxA6xfUr1"
      }
    },
    {
      "cell_type": "code",
      "source": [],
      "metadata": {
        "id": "794gzGpDfP7W"
      },
      "execution_count": null,
      "outputs": []
    }
  ]
}