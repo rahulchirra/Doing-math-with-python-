{
  "nbformat": 4,
  "nbformat_minor": 0,
  "metadata": {
    "colab": {
      "provenance": [],
      "authorship_tag": "ABX9TyOK/kTfX/i5fn7X3kEYP8JN",
      "include_colab_link": true
    },
    "kernelspec": {
      "name": "python3",
      "display_name": "Python 3"
    },
    "language_info": {
      "name": "python"
    }
  },
  "cells": [
    {
      "cell_type": "markdown",
      "metadata": {
        "id": "view-in-github",
        "colab_type": "text"
      },
      "source": [
        "<a href=\"https://colab.research.google.com/github/rahulchirra/Doing-math-with-python-/blob/main/chapter%2007%20calculus%20problelms_.ipynb\" target=\"_parent\"><img src=\"https://colab.research.google.com/assets/colab-badge.svg\" alt=\"Open In Colab\"/></a>"
      ]
    },
    {
      "cell_type": "markdown",
      "source": [
        "# chapter 07 calculus problems"
      ],
      "metadata": {
        "id": "2rQ_gJ6TJ0k_"
      }
    },
    {
      "cell_type": "code",
      "execution_count": 1,
      "metadata": {
        "colab": {
          "base_uri": "https://localhost:8080/"
        },
        "id": "DqleJjx7JmSC",
        "outputId": "af708590-e388-42cc-df47-f67b8ae19b3f"
      },
      "outputs": [
        {
          "output_type": "execute_result",
          "data": {
            "text/plain": [
              "1.0"
            ]
          },
          "metadata": {},
          "execution_count": 1
        }
      ],
      "source": [
        "import math\n",
        "math.sin(math.pi/2)"
      ]
    },
    {
      "cell_type": "code",
      "source": [
        "import sympy\n",
        "sympy.sin(math.pi/2)"
      ],
      "metadata": {
        "id": "mwmC5RLcKL5u"
      },
      "execution_count": null,
      "outputs": []
    },
    {
      "cell_type": "code",
      "source": [
        "from sympy import sin, solve, Symbol\n",
        "u = Symbol('u')\n",
        "t = Symbol('t')\n",
        "g = Symbol('g')\n",
        "theta = Symbol('theta')\n",
        "solve(u*sin(theta)-g*t,t)"
      ],
      "metadata": {
        "colab": {
          "base_uri": "https://localhost:8080/"
        },
        "id": "IXSyknxALFrz",
        "outputId": "f6e9682a-b294-44c1-eb53-d0007423470c"
      },
      "execution_count": 3,
      "outputs": [
        {
          "output_type": "execute_result",
          "data": {
            "text/plain": [
              "[u*sin(theta)/g]"
            ]
          },
          "metadata": {},
          "execution_count": 3
        }
      ]
    },
    {
      "cell_type": "markdown",
      "source": [
        " assumptions in symPy\n"
      ],
      "metadata": {
        "id": "EHLugGB5LkSc"
      }
    },
    {
      "cell_type": "code",
      "source": [
        "from sympy import Symbol\n",
        "x = Symbol('x', positive = True)\n",
        "if (x+5) > 0:\n",
        "  print('Do something')\n",
        "else:\n",
        "  print('Do something else')"
      ],
      "metadata": {
        "colab": {
          "base_uri": "https://localhost:8080/"
        },
        "id": "Mc-e9uWFLiGU",
        "outputId": "e5749d7b-d652-46a1-be1d-369c6d058109"
      },
      "execution_count": 4,
      "outputs": [
        {
          "output_type": "stream",
          "name": "stdout",
          "text": [
            "Do something\n"
          ]
        }
      ]
    },
    {
      "cell_type": "markdown",
      "source": [
        "Finding the limit of Functions\n"
      ],
      "metadata": {
        "id": "EXjtW9G7MN0P"
      }
    },
    {
      "cell_type": "code",
      "source": [
        "from sympy import Limit, Symbol, S\n",
        "x = Symbol('x')\n",
        "Limit(1/x,x,S.Infinity)"
      ],
      "metadata": {
        "colab": {
          "base_uri": "https://localhost:8080/",
          "height": 51
        },
        "id": "KHrMLxIyMLEu",
        "outputId": "d3b77ece-557b-4403-8cd4-c215903a2aa4"
      },
      "execution_count": 7,
      "outputs": [
        {
          "output_type": "execute_result",
          "data": {
            "text/plain": [
              "Limit(1/x, x, oo, dir='-')"
            ],
            "text/latex": "$\\displaystyle \\lim_{x \\to \\infty} \\frac{1}{x}$"
          },
          "metadata": {},
          "execution_count": 7
        }
      ]
    },
    {
      "cell_type": "code",
      "source": [
        "l = Limit(1/x,x,S.Infinity)\n",
        "l.doit()"
      ],
      "metadata": {
        "colab": {
          "base_uri": "https://localhost:8080/",
          "height": 37
        },
        "id": "PjYWN8KhMgnp",
        "outputId": "cb931164-d212-4791-a2de-868a581688ef"
      },
      "execution_count": 8,
      "outputs": [
        {
          "output_type": "execute_result",
          "data": {
            "text/plain": [
              "0"
            ],
            "text/latex": "$\\displaystyle 0$"
          },
          "metadata": {},
          "execution_count": 8
        }
      ]
    },
    {
      "cell_type": "code",
      "source": [
        "Limit(1/x,x,0, dir='+').doit()"
      ],
      "metadata": {
        "colab": {
          "base_uri": "https://localhost:8080/",
          "height": 37
        },
        "id": "2OfYcQkNM4Qm",
        "outputId": "21eb1b31-2411-43f1-903f-ec4c536f2aa9"
      },
      "execution_count": 9,
      "outputs": [
        {
          "output_type": "execute_result",
          "data": {
            "text/plain": [
              "oo"
            ],
            "text/latex": "$\\displaystyle \\infty$"
          },
          "metadata": {},
          "execution_count": 9
        }
      ]
    },
    {
      "cell_type": "code",
      "source": [
        "from sympy import Symbol, sin\n",
        "Limit(sin(x)/x,x,0).doit()"
      ],
      "metadata": {
        "colab": {
          "base_uri": "https://localhost:8080/",
          "height": 37
        },
        "id": "Paifx8iUNUau",
        "outputId": "25586dd8-c047-4b01-99cc-99654deb1ff1"
      },
      "execution_count": 11,
      "outputs": [
        {
          "output_type": "execute_result",
          "data": {
            "text/plain": [
              "1"
            ],
            "text/latex": "$\\displaystyle 1$"
          },
          "metadata": {},
          "execution_count": 11
        }
      ]
    },
    {
      "cell_type": "code",
      "source": [
        "from sympy import Symbol, Limit, S\n",
        "n= Symbol('n')\n",
        "Limit((1+1/n)**n,n, S.Infinity).doit()"
      ],
      "metadata": {
        "colab": {
          "base_uri": "https://localhost:8080/",
          "height": 38
        },
        "id": "_qizCVkaNigh",
        "outputId": "20d728b6-70f5-4c00-933c-9f46534ca388"
      },
      "execution_count": 13,
      "outputs": [
        {
          "output_type": "execute_result",
          "data": {
            "text/plain": [
              "E"
            ],
            "text/latex": "$\\displaystyle e$"
          },
          "metadata": {},
          "execution_count": 13
        }
      ]
    },
    {
      "cell_type": "markdown",
      "source": [
        " Continuous Compound Interest\n"
      ],
      "metadata": {
        "id": "tKYJ8UCWP-Wq"
      }
    },
    {
      "cell_type": "code",
      "source": [
        "from sympy import Symbol, Limit, S\n",
        "p = Symbol('p', positive=True)\n",
        "r = Symbol('r', positive=True)\n",
        "t = Symbol('t', positive=True)\n",
        "Limit(p*(1+r/n)**(n*t),n,S.Infinity).doit()"
      ],
      "metadata": {
        "colab": {
          "base_uri": "https://localhost:8080/",
          "height": 38
        },
        "id": "mt7UsUNAO8E4",
        "outputId": "fe2c612c-5510-4e66-dd11-4984b33da5fb"
      },
      "execution_count": 14,
      "outputs": [
        {
          "output_type": "execute_result",
          "data": {
            "text/plain": [
              "p*exp(r*t)"
            ],
            "text/latex": "$\\displaystyle p e^{r t}$"
          },
          "metadata": {},
          "execution_count": 14
        }
      ]
    },
    {
      "cell_type": "markdown",
      "source": [
        " Instantaneous Rate of Change\n"
      ],
      "metadata": {
        "id": "RAsgvKmMQBUa"
      }
    },
    {
      "cell_type": "code",
      "source": [
        "from sympy import Symbol, Limit\n",
        "t = Symbol('t')\n",
        "st = 5*t**2 + 2*t + 8\n",
        "\n",
        "t1 = Symbol('t1')\n",
        "delta_t = Symbol('delta_t')\n",
        "\n",
        "st1 = st.subs({t:t1})\n",
        "st1_delta = st.subs({t:t1+delta_t})\n",
        "Limit((st1_delta-st1)/delta_t, delta_t, 0).doit()"
      ],
      "metadata": {
        "colab": {
          "base_uri": "https://localhost:8080/",
          "height": 38
        },
        "id": "dTpOIK2DP6pw",
        "outputId": "a075828f-2188-4c0d-f4d5-00012ffc8346"
      },
      "execution_count": 18,
      "outputs": [
        {
          "output_type": "execute_result",
          "data": {
            "text/plain": [
              "10*t1 + 2"
            ],
            "text/latex": "$\\displaystyle 10 t_{1} + 2$"
          },
          "metadata": {},
          "execution_count": 18
        }
      ]
    },
    {
      "cell_type": "markdown",
      "source": [
        "finding derivative of functions"
      ],
      "metadata": {
        "id": "0DWU6ztJRZyL"
      }
    },
    {
      "cell_type": "code",
      "source": [
        "from sympy import Symbol, Derivative\n",
        "t = Symbol('t')\n",
        "st = 5*t**2 + 2*t + 8\n",
        "Derivative(st,t)\n"
      ],
      "metadata": {
        "colab": {
          "base_uri": "https://localhost:8080/",
          "height": 52
        },
        "id": "2AAZFBq3Q6T0",
        "outputId": "bd56f6de-24dd-491b-9c4e-50a54fcc0b8e"
      },
      "execution_count": 20,
      "outputs": [
        {
          "output_type": "execute_result",
          "data": {
            "text/plain": [
              "Derivative(5*t**2 + 2*t + 8, t)"
            ],
            "text/latex": "$\\displaystyle \\frac{d}{d t} \\left(5 t^{2} + 2 t + 8\\right)$"
          },
          "metadata": {},
          "execution_count": 20
        }
      ]
    },
    {
      "cell_type": "code",
      "source": [
        "d = Derivative(st,t)\n",
        "d.doit()"
      ],
      "metadata": {
        "colab": {
          "base_uri": "https://localhost:8080/",
          "height": 38
        },
        "id": "5Phxebe_R-m4",
        "outputId": "d994997d-413d-4699-e373-e08209e95a99"
      },
      "execution_count": 21,
      "outputs": [
        {
          "output_type": "execute_result",
          "data": {
            "text/plain": [
              "10*t + 2"
            ],
            "text/latex": "$\\displaystyle 10 t + 2$"
          },
          "metadata": {},
          "execution_count": 21
        }
      ]
    },
    {
      "cell_type": "code",
      "source": [
        "d.doit().subs({t:t1})"
      ],
      "metadata": {
        "colab": {
          "base_uri": "https://localhost:8080/",
          "height": 38
        },
        "id": "K5GHyrCkSKez",
        "outputId": "09fc0a80-623f-4953-d7d6-aa4e009b8a21"
      },
      "execution_count": 22,
      "outputs": [
        {
          "output_type": "execute_result",
          "data": {
            "text/plain": [
              "10*t1 + 2"
            ],
            "text/latex": "$\\displaystyle 10 t_{1} + 2$"
          },
          "metadata": {},
          "execution_count": 22
        }
      ]
    },
    {
      "cell_type": "code",
      "source": [
        "d.doit().subs({t:1})"
      ],
      "metadata": {
        "colab": {
          "base_uri": "https://localhost:8080/",
          "height": 37
        },
        "id": "hZjdc3PhSTdi",
        "outputId": "aad79da0-f203-4b2f-8858-c47ee622b245"
      },
      "execution_count": 23,
      "outputs": [
        {
          "output_type": "execute_result",
          "data": {
            "text/plain": [
              "12"
            ],
            "text/latex": "$\\displaystyle 12$"
          },
          "metadata": {},
          "execution_count": 23
        }
      ]
    },
    {
      "cell_type": "code",
      "source": [
        "from sympy import Derivative,Symbol\n",
        "x = Symbol('x')\n",
        "f = (x**3 + x**2 + x)*(x**2+x)\n",
        "Derivative(f, x).doit()"
      ],
      "metadata": {
        "colab": {
          "base_uri": "https://localhost:8080/",
          "height": 38
        },
        "id": "JtnWs9m8SZc8",
        "outputId": "cde78afe-cd14-4b32-b581-8a5e18de151f"
      },
      "execution_count": 24,
      "outputs": [
        {
          "output_type": "execute_result",
          "data": {
            "text/plain": [
              "(2*x + 1)*(x**3 + x**2 + x) + (x**2 + x)*(3*x**2 + 2*x + 1)"
            ],
            "text/latex": "$\\displaystyle \\left(2 x + 1\\right) \\left(x^{3} + x^{2} + x\\right) + \\left(x^{2} + x\\right) \\left(3 x^{2} + 2 x + 1\\right)$"
          },
          "metadata": {},
          "execution_count": 24
        }
      ]
    },
    {
      "cell_type": "markdown",
      "source": [
        " A Derivative Calculator"
      ],
      "metadata": {
        "id": "p0EWg_URS7Uz"
      }
    },
    {
      "cell_type": "code",
      "source": [
        "from sympy import Derivative, Symbol, sympify, pprint\n",
        "from sympy.core.sympify import SympifyError\n",
        "\n",
        "def derivative(f,var):\n",
        "  var = Symbol(var)\n",
        "  d = Derivative(f,var).doit()\n",
        "  pprint(d)\n",
        "\n",
        "\n",
        "if __name__ == '__main__':\n",
        "\n",
        "  f = input('enter a function: ')\n",
        "  var = input('enter the variable to differentiate with respect to:')\n",
        "  try:\n",
        "    f = sympify(f)\n",
        "  except SympifyError:\n",
        "    print('invalid input')\n",
        "  else:\n",
        "    derivative(f,var)"
      ],
      "metadata": {
        "colab": {
          "base_uri": "https://localhost:8080/"
        },
        "id": "2YKCZid6S2o6",
        "outputId": "a372220e-d9bd-45bf-9836-e0549051888b"
      },
      "execution_count": 33,
      "outputs": [
        {
          "output_type": "stream",
          "name": "stdout",
          "text": [
            "enter a function: 2*x**2 + 3*x + 1\n",
            "enter the variable to differentiate with respect to:x\n",
            "4⋅x + 3\n"
          ]
        }
      ]
    },
    {
      "cell_type": "markdown",
      "source": [
        "higher-order Derivatives and Finding the Maxima\n",
        "and Minima"
      ],
      "metadata": {
        "id": "dlHRBHWHVquG"
      }
    },
    {
      "cell_type": "code",
      "source": [
        "from sympy import Symbol, solve,Derivative\n",
        "x = Symbol('x')\n",
        "f = x**5 - 30*x**3 + 50*x\n",
        "f = x **5 - 30 * x ** 3 + 50 * x\n",
        "d1 = Derivative(f,x).doit()\n",
        "critical_points = solve(d1)\n",
        "critical_points"
      ],
      "metadata": {
        "colab": {
          "base_uri": "https://localhost:8080/"
        },
        "id": "AEhG7LSpTtDo",
        "outputId": "e753544d-be52-4675-ca29-75fc6d6769a1"
      },
      "execution_count": 36,
      "outputs": [
        {
          "output_type": "execute_result",
          "data": {
            "text/plain": [
              "[-sqrt(9 - sqrt(71)),\n",
              " sqrt(9 - sqrt(71)),\n",
              " -sqrt(sqrt(71) + 9),\n",
              " sqrt(sqrt(71) + 9)]"
            ]
          },
          "metadata": {},
          "execution_count": 36
        }
      ]
    },
    {
      "cell_type": "code",
      "source": [
        "A = critical_points[2]\n",
        "B = critical_points[0]\n",
        "C = critical_points[1]\n",
        "D = critical_points[3]"
      ],
      "metadata": {
        "id": "BE7Rrdl1WOcx"
      },
      "execution_count": 37,
      "outputs": []
    },
    {
      "cell_type": "code",
      "source": [
        "d2 = Derivative(f,x,2).doit()\n"
      ],
      "metadata": {
        "id": "0bxQv4ddW8U5"
      },
      "execution_count": 38,
      "outputs": []
    },
    {
      "cell_type": "code",
      "source": [
        "d2.subs({x:B}).evalf()"
      ],
      "metadata": {
        "colab": {
          "base_uri": "https://localhost:8080/",
          "height": 37
        },
        "id": "uCgYZCOLXEDE",
        "outputId": "681c6f9e-98b1-41c1-a422-61481982037b"
      },
      "execution_count": 39,
      "outputs": [
        {
          "output_type": "execute_result",
          "data": {
            "text/plain": [
              "127.661060789073"
            ],
            "text/latex": "$\\displaystyle 127.661060789073$"
          },
          "metadata": {},
          "execution_count": 39
        }
      ]
    },
    {
      "cell_type": "code",
      "source": [
        "d2.subs({x:C}).evalf()"
      ],
      "metadata": {
        "colab": {
          "base_uri": "https://localhost:8080/",
          "height": 37
        },
        "id": "C3-QHaeVXNi_",
        "outputId": "a074d940-831c-4a11-a52e-22818f9c6aaa"
      },
      "execution_count": 40,
      "outputs": [
        {
          "output_type": "execute_result",
          "data": {
            "text/plain": [
              "-127.661060789073"
            ],
            "text/latex": "$\\displaystyle -127.661060789073$"
          },
          "metadata": {},
          "execution_count": 40
        }
      ]
    },
    {
      "cell_type": "code",
      "source": [
        " d2.subs({x:A}).evalf()"
      ],
      "metadata": {
        "colab": {
          "base_uri": "https://localhost:8080/",
          "height": 37
        },
        "id": "hd-ODMy7XXqi",
        "outputId": "36cfb568-cae6-49c9-bad7-544dc51eeb9b"
      },
      "execution_count": 41,
      "outputs": [
        {
          "output_type": "execute_result",
          "data": {
            "text/plain": [
              "-703.493179468151"
            ],
            "text/latex": "$\\displaystyle -703.493179468151$"
          },
          "metadata": {},
          "execution_count": 41
        }
      ]
    },
    {
      "cell_type": "code",
      "source": [
        "d2.subs({x:D}).evalf()"
      ],
      "metadata": {
        "colab": {
          "base_uri": "https://localhost:8080/",
          "height": 37
        },
        "id": "7FUmolQuXcPg",
        "outputId": "b7f9c75b-a47d-46e4-d8ef-dd4e43e33989"
      },
      "execution_count": 42,
      "outputs": [
        {
          "output_type": "execute_result",
          "data": {
            "text/plain": [
              "703.493179468151"
            ],
            "text/latex": "$\\displaystyle 703.493179468151$"
          },
          "metadata": {},
          "execution_count": 42
        }
      ]
    },
    {
      "cell_type": "code",
      "source": [
        "x = min = -5\n",
        "x_max = 5\n",
        "f.subs({x:A}).evalf()"
      ],
      "metadata": {
        "colab": {
          "base_uri": "https://localhost:8080/",
          "height": 38
        },
        "id": "j0fyYXflXetr",
        "outputId": "007eff0a-c652-47c6-bec6-8d4737baf83a"
      },
      "execution_count": 44,
      "outputs": [
        {
          "output_type": "execute_result",
          "data": {
            "text/plain": [
              "-30.0*x**3 + 50.0*x + x**4.17446401028639"
            ],
            "text/latex": "$\\displaystyle - 30.0 x^{3} + 50.0 x + x^{4.17446401028639}$"
          },
          "metadata": {},
          "execution_count": 44
        }
      ]
    },
    {
      "cell_type": "markdown",
      "source": [
        "finding the global maximum using Gradient Ascent"
      ],
      "metadata": {
        "id": "V77dO8GJezXC"
      }
    },
    {
      "cell_type": "code",
      "source": [
        "import math\n",
        "from sympy import Derivative, Symbol, sin\n",
        "\n",
        "def grad_ascent(x0,f1x,x):\n",
        "  epsilon = 1e-6\n",
        "  step_size = 1e-4\n",
        "  x_old = x0\n",
        "  x_new = x_old + step_size*f1x.subs({x:x_old}).evalf()\n",
        "  while abs(x_old - x_new) > epsilon:\n",
        "    x_old = x_new\n",
        "    x_new = x_old + step_size*f1x.subs({x:x_old}).evalf()\n",
        "    return x_new\n",
        "\n",
        "def find_max_theta(R, theta):\n",
        "    # Calculate the first derivative\n",
        "    R1theta = Derivative(R, theta).doit()\n",
        "    theta0 = 1e-3\n",
        "    theta_max = grad_ascent(theta0, R1theta, theta)\n",
        "    return theta_max\n",
        "\n",
        "if __name__ == '__main__':\n",
        "  g = 9.8\n",
        "  #asumme initial velocity\n",
        "  u = 25\n",
        "  #expression for range\n",
        "  theta = Symbol('theta')\n",
        "  R = u**2*sin(2*theta)/g\n",
        "\n",
        "  theta_max = find_max_theta(R, theta)\n",
        "  print('theta :{0}'.format(math.degrees(theta_max)))\n",
        "  print('maxium Range:{0}:'.format(R.subs({theta:theta_max})))\n"
      ],
      "metadata": {
        "colab": {
          "base_uri": "https://localhost:8080/"
        },
        "id": "J5X3CBQBeptJ",
        "outputId": "ab0e8628-3ddd-44e2-ea0c-7cf926d19809"
      },
      "execution_count": 53,
      "outputs": [
        {
          "output_type": "stream",
          "name": "stdout",
          "text": [
            "theta :1.5186448207743275\n",
            "maxium Range:3.37920154330593:\n"
          ]
        }
      ]
    },
    {
      "cell_type": "markdown",
      "source": [
        " A Generic Program for Gradient Ascent\n"
      ],
      "metadata": {
        "id": "iiWI6OOVi5zF"
      }
    },
    {
      "cell_type": "code",
      "source": [
        "from sympy import Derivative , Symbol, sympify\n",
        "\n",
        "def grad_ascent(x0,f1x,x):\n",
        "  step_size = 1e-3\n",
        "  x_old = x0\n",
        "  x_new = x_old + step_size*f1x.subs({x:x_old}).evalf()\n",
        "\n",
        "  return x_new\n",
        "\n",
        "if __name__ == '__main__':\n",
        "  f = input('enter a function in one variable:')\n",
        "  var = input('enter the variable to differentiate  with respect to:')\n",
        "  var0 = float(input('enter the inital value of the varible :'))\n",
        "  try:\n",
        "   f = sympify(f)\n",
        "  except SympifyError:\n",
        "    print('invalid function entered')\n",
        "\n",
        "  else:\n",
        "    var = Symbol(var)\n",
        "    d = Derivative(f,var).doit()\n",
        "    var_max = grad_ascent(var0,d,var)\n",
        "    print('{0}:{1}'.format(var.name,var_max))\n",
        "    print('maxium value:{0}'.format(f.subs({var:var_max})))"
      ],
      "metadata": {
        "colab": {
          "base_uri": "https://localhost:8080/"
        },
        "id": "UphKst4_hROp",
        "outputId": "eeb97f83-bcf5-4198-d4ab-2b5031dd2564"
      },
      "execution_count": 55,
      "outputs": [
        {
          "output_type": "stream",
          "name": "stdout",
          "text": [
            "enter a function in one variable:25*25*sin(2*theta)/9.8\n",
            "enter the variable to differentiate  with respect to:theta\n",
            "enter the inital value of the varible :0.001\n",
            "theta:0.128550765306207\n",
            "maxium value:16.2167362349436\n"
          ]
        }
      ]
    },
    {
      "cell_type": "code",
      "source": [
        "from sympy import Derivative , Symbol, sympify\n",
        "\n",
        "def grad_ascent(x0,f1x,x):\n",
        "  step_size = 1e-3\n",
        "  x_old = x0\n",
        "  x_new = x_old + step_size*f1x.subs({x:x_old}).evalf()\n",
        "\n",
        "  return x_new\n",
        "\n",
        "if __name__ == '__main__':\n",
        "  f = input('enter a function in one variable:')\n",
        "  var = input('enter the variable to differentiate  with respect to:')\n",
        "  var0 = float(input('enter the inital value of the varible :'))\n",
        "  try:\n",
        "   f = sympify(f)\n",
        "  except SympifyError:\n",
        "    print('invalid function entered')\n",
        "\n",
        "  else:\n",
        "    var = Symbol(var)\n",
        "    d = Derivative(f,var).doit()\n",
        "    var_max = grad_ascent(var0,d,var)\n",
        "    print('{0}:{1}'.format(var.name,var_max))\n",
        "    print('maxium value:{0}'.format(f.subs({var:var_max})))"
      ],
      "metadata": {
        "colab": {
          "base_uri": "https://localhost:8080/"
        },
        "id": "V6SjlvsajrlY",
        "outputId": "3dfca1c4-3beb-407d-aac3-a069a66faa2c"
      },
      "execution_count": 56,
      "outputs": [
        {
          "output_type": "stream",
          "name": "stdout",
          "text": [
            "enter a function in one variable:cos(y) +k \n",
            "enter the variable to differentiate  with respect to:y\n",
            "enter the inital value of the varible :0.01\n",
            "y:0.00999000016666583\n",
            "maxium value:k + 0.999950100363336\n"
          ]
        }
      ]
    },
    {
      "cell_type": "markdown",
      "source": [
        " A Word of Warning About the Initial Value\n"
      ],
      "metadata": {
        "id": "kn12tRSbl_qi"
      }
    },
    {
      "cell_type": "code",
      "source": [
        "from sympy import Derivative , Symbol, sympify\n",
        "\n",
        "def grad_ascent(x0,f1x,x):\n",
        "  step_size = 1e-3\n",
        "  x_old = x0\n",
        "  x_new = x_old + step_size*f1x.subs({x:x_old}).evalf()\n",
        "\n",
        "  return x_new\n",
        "\n",
        "if __name__ == '__main__':\n",
        "  f = input('enter a function in one variable:')\n",
        "  var = input('enter the variable to differentiate  with respect to:')\n",
        "  var0 = float(input('enter the inital value of the varible :'))\n",
        "  try:\n",
        "   f = sympify(f)\n",
        "  except SympifyError:\n",
        "    print('invalid function entered')\n",
        "\n",
        "  else:\n",
        "    var = Symbol(var)\n",
        "    d = Derivative(f,var).doit()\n",
        "    var_max = grad_ascent(var0,d,var)\n",
        "    print('{0}:{1}'.format(var.name,var_max))\n",
        "    print('maxium value:{0}'.format(f.subs({var:var_max})))"
      ],
      "metadata": {
        "colab": {
          "base_uri": "https://localhost:8080/"
        },
        "id": "FcELjLtsl964",
        "outputId": "c14f1bae-fb8b-4ef2-fb35-f410c146eb6a"
      },
      "execution_count": 57,
      "outputs": [
        {
          "output_type": "stream",
          "name": "stdout",
          "text": [
            "enter a function in one variable:x**5 - 30*x**3 + 50*x\n",
            "enter the variable to differentiate  with respect to:x\n",
            "enter the inital value of the varible :-2\n",
            "x:-2.23000000000000\n",
            "maxium value:166.039702265700\n"
          ]
        }
      ]
    },
    {
      "cell_type": "code",
      "source": [
        "from sympy import Derivative , Symbol, sympify\n",
        "\n",
        "def grad_ascent(x0,f1x,x):\n",
        "  step_size = 1e-3\n",
        "  x_old = x0\n",
        "  x_new = x_old + step_size*f1x.subs({x:x_old}).evalf()\n",
        "\n",
        "  return x_new\n",
        "\n",
        "if __name__ == '__main__':\n",
        "  f = input('enter a function in one variable:')\n",
        "  var = input('enter the variable to differentiate  with respect to:')\n",
        "  var0 = float(input('enter the inital value of the varible :'))\n",
        "  try:\n",
        "   f = sympify(f)\n",
        "  except SympifyError:\n",
        "    print('invalid function entered')\n",
        "\n",
        "  else:\n",
        "    var = Symbol(var)\n",
        "    d = Derivative(f,var).doit()\n",
        "    var_max = grad_ascent(var0,d,var)\n",
        "    print('{0}:{1}'.format(var.name,var_max))\n",
        "    print('maxium value:{0}'.format(f.subs({var:var_max})))"
      ],
      "metadata": {
        "colab": {
          "base_uri": "https://localhost:8080/"
        },
        "id": "aBpUHDmamSp_",
        "outputId": "e54788d4-18a0-4843-ced3-eae5dde25afb"
      },
      "execution_count": 58,
      "outputs": [
        {
          "output_type": "stream",
          "name": "stdout",
          "text": [
            "enter a function in one variable:x**5 -30*x**3 + 50*x\n",
            "enter the variable to differentiate  with respect to:x\n",
            "enter the inital value of the varible :0.5\n",
            "x:0.527812500000000\n",
            "maxium value:22.0203528721678\n"
          ]
        }
      ]
    },
    {
      "cell_type": "markdown",
      "source": [
        " The Role of the Step Size and Epsilon\n"
      ],
      "metadata": {
        "id": "saDfEMvkmhII"
      }
    },
    {
      "cell_type": "code",
      "source": [
        "from sympy import Derivative, Symbol, sympify, solve, SympifyError\n",
        "\n",
        "def grad_ascent(x0, f1x, x):\n",
        "    # Check if f1x=0 has a solution\n",
        "    if not solve(f1x):\n",
        "        print('cannot continue, solution for {0}=0 does not exist'.format(f1x))\n",
        "        return\n",
        "    epsilon = 1e-6\n",
        "    step_size = 1e-4\n",
        "    x_old = x0\n",
        "    x_new = x_old + step_size*f1x.subs({x: x_old}).evalf()\n",
        "    while abs(x_old - x_new) > epsilon:\n",
        "        x_old = x_new\n",
        "        x_new = x_old + step_size*f1x.subs({x: x_old}).evalf()  # Fixed here\n",
        "    return x_new\n",
        "\n",
        "if __name__ == '__main__':\n",
        "    f = input('enter a function in one variable:')\n",
        "    var = input('enter the variable to differentiate with respect to: ')\n",
        "    var0 = float(input('enter the initial value of the variable: '))\n",
        "    try:\n",
        "        f = sympify(f)\n",
        "    except SympifyError:\n",
        "        print('invalid function entered')\n",
        "    else:\n",
        "        var = Symbol(var)\n",
        "        d = Derivative(f, var).doit()\n",
        "        var_max = grad_ascent(var0, d, var)\n",
        "        if var_max:\n",
        "            print('{0}: {1}'.format(var.name, var_max))\n",
        "            print('maximum value: {0}'.format(f.subs({var: var_max})))"
      ],
      "metadata": {
        "colab": {
          "base_uri": "https://localhost:8080/"
        },
        "id": "dqb-aVU5qC_S",
        "outputId": "e0e37b77-dcc5-40b4-f684-b7583eabd5ce"
      },
      "execution_count": 61,
      "outputs": [
        {
          "output_type": "stream",
          "name": "stdout",
          "text": [
            "enter a function in one variable:log(x)\n",
            "enter the variable to differentiate with respect to: x\n",
            "enter the initial value of the variable: 0.1\n",
            "cannot continue, solution for 1/x=0 does not exist\n"
          ]
        }
      ]
    },
    {
      "cell_type": "markdown",
      "source": [
        "Finding the integrals of Functions\n"
      ],
      "metadata": {
        "id": "PkOK3mnaroN7"
      }
    },
    {
      "cell_type": "code",
      "source": [
        "from sympy import Integral, symbols\n",
        "x = Symbol('x')\n",
        "k = Symbol('k')\n",
        "Integral(k*x,x)"
      ],
      "metadata": {
        "colab": {
          "base_uri": "https://localhost:8080/",
          "height": 55
        },
        "id": "E1gQ9KC0qZnF",
        "outputId": "60f7429e-82d9-4e73-d14d-4c3b7def96be"
      },
      "execution_count": 64,
      "outputs": [
        {
          "output_type": "execute_result",
          "data": {
            "text/plain": [
              "Integral(k*x, x)"
            ],
            "text/latex": "$\\displaystyle \\int k x\\, dx$"
          },
          "metadata": {},
          "execution_count": 64
        }
      ]
    },
    {
      "cell_type": "code",
      "source": [
        "Integral(k*x,x).doit()"
      ],
      "metadata": {
        "colab": {
          "base_uri": "https://localhost:8080/",
          "height": 54
        },
        "id": "8RjXzx3cr57t",
        "outputId": "0bb338e4-783f-4632-9051-62a28c69cb74"
      },
      "execution_count": 65,
      "outputs": [
        {
          "output_type": "execute_result",
          "data": {
            "text/plain": [
              "k*x**2/2"
            ],
            "text/latex": "$\\displaystyle \\frac{k x^{2}}{2}$"
          },
          "metadata": {},
          "execution_count": 65
        }
      ]
    },
    {
      "cell_type": "code",
      "source": [
        "Integral(k*x,(x,0,2)).doit()"
      ],
      "metadata": {
        "colab": {
          "base_uri": "https://localhost:8080/",
          "height": 38
        },
        "id": "zJPmIDxMsBTH",
        "outputId": "c074bfa8-1f16-496c-a5c2-63cedf76e9a0"
      },
      "execution_count": 66,
      "outputs": [
        {
          "output_type": "execute_result",
          "data": {
            "text/plain": [
              "2*k"
            ],
            "text/latex": "$\\displaystyle 2 k$"
          },
          "metadata": {},
          "execution_count": 66
        }
      ]
    },
    {
      "cell_type": "code",
      "source": [
        "from sympy import Integral, Symbol\n",
        "x = Symbol('x')\n",
        "Integral(x,(x,2,4)).doit()"
      ],
      "metadata": {
        "colab": {
          "base_uri": "https://localhost:8080/",
          "height": 37
        },
        "id": "pRqnSZYKsKX2",
        "outputId": "23a129e8-1f9a-49ce-c27c-2e8435896120"
      },
      "execution_count": 67,
      "outputs": [
        {
          "output_type": "execute_result",
          "data": {
            "text/plain": [
              "6"
            ],
            "text/latex": "$\\displaystyle 6$"
          },
          "metadata": {},
          "execution_count": 67
        }
      ]
    },
    {
      "cell_type": "markdown",
      "source": [
        " Probability Density Functions\n"
      ],
      "metadata": {
        "id": "XfyjlOxeskfq"
      }
    },
    {
      "cell_type": "code",
      "source": [
        "from sympy import Symbol, exp, sqrt, pi,integrals\n",
        "x = Symbol('x')\n",
        "p = exp(-(x-10)**2/2)/sqrt(2*pi)\n",
        "Integral(p,(x,11,12)).doit().evalf()"
      ],
      "metadata": {
        "colab": {
          "base_uri": "https://localhost:8080/",
          "height": 37
        },
        "id": "ENuQIoHBshmn",
        "outputId": "2b305732-2a6c-44ae-8543-0cf74ae7aa8c"
      },
      "execution_count": 68,
      "outputs": [
        {
          "output_type": "execute_result",
          "data": {
            "text/plain": [
              "0.135905121983278"
            ],
            "text/latex": "$\\displaystyle 0.135905121983278$"
          },
          "metadata": {},
          "execution_count": 68
        }
      ]
    },
    {
      "cell_type": "code",
      "source": [
        "from sympy import Symbol, exp, sqrt,pi,Integral,S\n",
        "x =Symbol('x')\n",
        "p = exp(-(x-10)**2/2)/sqrt(2*pi)\n",
        "Integral(p,(x,S.NegativeInfinity,S.Infinity)).doit().evalf()"
      ],
      "metadata": {
        "colab": {
          "base_uri": "https://localhost:8080/",
          "height": 37
        },
        "id": "kWTvBKujvYdF",
        "outputId": "ac27d25c-f4a2-4595-8df7-2dcde3a691bf"
      },
      "execution_count": 69,
      "outputs": [
        {
          "output_type": "execute_result",
          "data": {
            "text/plain": [
              "1.00000000000000"
            ],
            "text/latex": "$\\displaystyle 1.0$"
          },
          "metadata": {},
          "execution_count": 69
        }
      ]
    },
    {
      "cell_type": "markdown",
      "source": [
        "chapter ends."
      ],
      "metadata": {
        "id": "P_viDZNswHSY"
      }
    }
  ]
}