{
  "nbformat": 4,
  "nbformat_minor": 0,
  "metadata": {
    "colab": {
      "provenance": [],
      "authorship_tag": "ABX9TyND2jqljtQe3X/w/MpudAl4",
      "include_colab_link": true
    },
    "kernelspec": {
      "name": "python3",
      "display_name": "Python 3"
    },
    "language_info": {
      "name": "python"
    }
  },
  "cells": [
    {
      "cell_type": "markdown",
      "metadata": {
        "id": "view-in-github",
        "colab_type": "text"
      },
      "source": [
        "<a href=\"https://colab.research.google.com/github/rahulchirra/Doing-math-with-python-/blob/main/chapter%2001%20working%20with%20numbers.ipynb\" target=\"_parent\"><img src=\"https://colab.research.google.com/assets/colab-badge.svg\" alt=\"Open In Colab\"/></a>"
      ]
    },
    {
      "cell_type": "markdown",
      "source": [
        "# chapter 01 - Working with numbers"
      ],
      "metadata": {
        "id": "Pl0GwOq5IXvN"
      }
    },
    {
      "cell_type": "code",
      "execution_count": null,
      "metadata": {
        "colab": {
          "base_uri": "https://localhost:8080/"
        },
        "id": "aQ9qp2ty96Rr",
        "outputId": "470b6f81-be6d-4df5-eef1-251f56dba91d"
      },
      "outputs": [
        {
          "output_type": "stream",
          "name": "stdout",
          "text": [
            "3\n",
            "4.5\n",
            "1.5\n",
            "55\n"
          ]
        },
        {
          "output_type": "execute_result",
          "data": {
            "text/plain": [
              "3.9"
            ]
          },
          "metadata": {},
          "execution_count": 2
        }
      ],
      "source": [
        "print(1+ 2)  # addition and subtractions by using the operators\n",
        "print(1+3.5)  # (+) and (-) operators\n",
        "print(-1 + 2.5)\n",
        "print(100 - 45)\n",
        "- 1.1 + 5"
      ]
    },
    {
      "cell_type": "code",
      "source": [
        "print(3 * 2 ) # multiplication (* ) operator\n",
        "print(3.5 * 1.5 )"
      ],
      "metadata": {
        "colab": {
          "base_uri": "https://localhost:8080/"
        },
        "id": "NLn6M4bZ-Puc",
        "outputId": "4fb856d0-3e00-4f10-ea5d-da3e5d3e41ce"
      },
      "execution_count": null,
      "outputs": [
        {
          "output_type": "stream",
          "name": "stdout",
          "text": [
            "6\n",
            "5.25\n"
          ]
        }
      ]
    },
    {
      "cell_type": "code",
      "source": [
        "print(3/2) # division (/ )  using  the opeartor\n",
        "print(4/2)"
      ],
      "metadata": {
        "colab": {
          "base_uri": "https://localhost:8080/"
        },
        "id": "QMT0K6yT-wqN",
        "outputId": "675f9e1b-e9d5-43c1-da46-e31f7014f38f"
      },
      "execution_count": null,
      "outputs": [
        {
          "output_type": "stream",
          "name": "stdout",
          "text": [
            "1.5\n",
            "2.0\n"
          ]
        }
      ]
    },
    {
      "cell_type": "code",
      "source": [
        "# results in the  integers form of floor division eliminating  decimal\n",
        "# using the (// )  operator\n",
        "print(3//2)"
      ],
      "metadata": {
        "colab": {
          "base_uri": "https://localhost:8080/"
        },
        "id": "9Un5I4Vv-67x",
        "outputId": "bfe4fe03-ca6e-445b-dc2d-742700e74ec5"
      },
      "execution_count": null,
      "outputs": [
        {
          "output_type": "stream",
          "name": "stdout",
          "text": [
            "1\n"
          ]
        }
      ]
    },
    {
      "cell_type": "code",
      "source": [
        "print(-3//2)"
      ],
      "metadata": {
        "colab": {
          "base_uri": "https://localhost:8080/"
        },
        "id": "_MWWucfJ_0cO",
        "outputId": "869010d4-c6a2-4674-f469-328d261b4389"
      },
      "execution_count": null,
      "outputs": [
        {
          "output_type": "stream",
          "name": "stdout",
          "text": [
            "-2\n"
          ]
        }
      ]
    },
    {
      "cell_type": "code",
      "source": [
        "print(9 % 2 ) # if u want the remainder just use the modulo (% ) operator"
      ],
      "metadata": {
        "colab": {
          "base_uri": "https://localhost:8080/"
        },
        "id": "koOc8RFfALh8",
        "outputId": "ac21e056-4f4a-4018-9d37-9241361344b9"
      },
      "execution_count": null,
      "outputs": [
        {
          "output_type": "stream",
          "name": "stdout",
          "text": [
            "1\n"
          ]
        }
      ]
    },
    {
      "cell_type": "code",
      "source": [
        "print(2**2 )   # calculating the power of numbers by using the exponentional (**) operator\n",
        "print(2** 10 )\n",
        "print(1** 10 )"
      ],
      "metadata": {
        "colab": {
          "base_uri": "https://localhost:8080/"
        },
        "id": "PkxS9kGGAiMY",
        "outputId": "a12a2048-b961-465c-9896-c7b34ae9b74f"
      },
      "execution_count": null,
      "outputs": [
        {
          "output_type": "stream",
          "name": "stdout",
          "text": [
            "4\n",
            "1024\n",
            "1\n"
          ]
        }
      ]
    },
    {
      "cell_type": "code",
      "source": [
        "print( 8 ** (1/3)) # calulating the power less then  < 1\n",
        "                    #square root of number  n can be expressed as (n(1/2))\n",
        "                    #cube root of the number n as expressed as (n(1/3))"
      ],
      "metadata": {
        "colab": {
          "base_uri": "https://localhost:8080/"
        },
        "id": "9-cwl2JhBDv3",
        "outputId": "fae257b6-26e5-4e9a-db8c-9de0c1fe613a"
      },
      "execution_count": null,
      "outputs": [
        {
          "output_type": "stream",
          "name": "stdout",
          "text": [
            "2.0\n"
          ]
        }
      ]
    },
    {
      "cell_type": "code",
      "source": [
        "# PEMDAS rule : parentheses () , exponents , multiplication , divison ,addition , and subtraction\n",
        "print(5+5 * 5 )\n",
        "(5+5) * 5 # using the parantheses without print func"
      ],
      "metadata": {
        "colab": {
          "base_uri": "https://localhost:8080/"
        },
        "id": "4lp1o1YHBWxl",
        "outputId": "7af66673-6b45-425b-ea6d-7e6ba73581f7"
      },
      "execution_count": null,
      "outputs": [
        {
          "output_type": "stream",
          "name": "stdout",
          "text": [
            "30\n"
          ]
        },
        {
          "output_type": "execute_result",
          "data": {
            "text/plain": [
              "50"
            ]
          },
          "metadata": {},
          "execution_count": 10
        }
      ]
    },
    {
      "cell_type": "code",
      "source": [
        "a = 3  # a is the variable  3 is the value assing to a\n",
        "a+ 1  # 1 is assigning to the varaible a (a = 3) +1"
      ],
      "metadata": {
        "colab": {
          "base_uri": "https://localhost:8080/"
        },
        "id": "uC3nC4Y8B8UT",
        "outputId": "4ee65bce-637d-40e7-8571-12ca45e72e4a"
      },
      "execution_count": null,
      "outputs": [
        {
          "output_type": "execute_result",
          "data": {
            "text/plain": [
              "4"
            ]
          },
          "metadata": {},
          "execution_count": 11
        }
      ]
    },
    {
      "cell_type": "code",
      "source": [
        "a = 5 #example\n",
        "a+ 4"
      ],
      "metadata": {
        "colab": {
          "base_uri": "https://localhost:8080/"
        },
        "id": "xi18dVqSDWYA",
        "outputId": "b300c03b-d9bf-45e8-e568-0f9afa8bf763"
      },
      "execution_count": null,
      "outputs": [
        {
          "output_type": "execute_result",
          "data": {
            "text/plain": [
              "9"
            ]
          },
          "metadata": {},
          "execution_count": 12
        }
      ]
    },
    {
      "cell_type": "code",
      "source": [
        "print(type(3)) # display the type of the input  ( #integer )\n",
        "print(type (7.8))  # float point decimal\n",
        "print(type(\"rahul\"))  # striing"
      ],
      "metadata": {
        "colab": {
          "base_uri": "https://localhost:8080/"
        },
        "id": "iMWbO8UvEPyj",
        "outputId": "91a5166f-873b-4aaa-a925-7c973fb52ac9"
      },
      "execution_count": null,
      "outputs": [
        {
          "output_type": "stream",
          "name": "stdout",
          "text": [
            "<class 'int'>\n",
            "<class 'float'>\n",
            "<class 'str'>\n"
          ]
        }
      ]
    },
    {
      "cell_type": "code",
      "source": [
        "type(8.9) , type (9) , type ('rahul')"
      ],
      "metadata": {
        "colab": {
          "base_uri": "https://localhost:8080/"
        },
        "id": "wnCM2I95E-LI",
        "outputId": "51d33eab-290a-4562-fc34-b77904443eee"
      },
      "execution_count": null,
      "outputs": [
        {
          "output_type": "execute_result",
          "data": {
            "text/plain": [
              "(float, int, str)"
            ]
          },
          "metadata": {},
          "execution_count": 14
        }
      ]
    },
    {
      "cell_type": "code",
      "source": [
        "# 3.0 , 4.0 python accept it as a folat points   but\n",
        "# as an integers convert them floating points to integers func used\n",
        "int(3.8) , int(1.0) , int(3.0) # using the func \"int()\""
      ],
      "metadata": {
        "colab": {
          "base_uri": "https://localhost:8080/"
        },
        "id": "JtRrf57lFzV4",
        "outputId": "703b8f86-604b-4f67-f2b0-9abf6ceba0a8"
      },
      "execution_count": null,
      "outputs": [
        {
          "output_type": "execute_result",
          "data": {
            "text/plain": [
              "(3, 1, 3)"
            ]
          },
          "metadata": {},
          "execution_count": 15
        }
      ]
    },
    {
      "cell_type": "code",
      "source": [
        "# float() similarly the revers function that used for converting\n",
        "# the  integers to the floating point decimals\n",
        "float(3) , float(1) , float(8)"
      ],
      "metadata": {
        "colab": {
          "base_uri": "https://localhost:8080/"
        },
        "id": "sLVJdJSQGs2S",
        "outputId": "15d6bdf1-8838-4b83-cf09-12ab7c241952"
      },
      "execution_count": null,
      "outputs": [
        {
          "output_type": "execute_result",
          "data": {
            "text/plain": [
              "(3.0, 1.0, 8.0)"
            ]
          },
          "metadata": {},
          "execution_count": 16
        }
      ]
    },
    {
      "cell_type": "code",
      "source": [
        "# working with FRACTIONS\n",
        "from fractions import Fraction # importing fractions module\n",
        "f = Fraction (3, 4) # (numarator , denaminator )\n",
        "f"
      ],
      "metadata": {
        "colab": {
          "base_uri": "https://localhost:8080/"
        },
        "id": "B3g-MhuiHP0Y",
        "outputId": "d01e26b7-273d-4c9c-fd83-bbd66242559e"
      },
      "execution_count": null,
      "outputs": [
        {
          "output_type": "execute_result",
          "data": {
            "text/plain": [
              "Fraction(3, 4)"
            ]
          },
          "metadata": {},
          "execution_count": 17
        }
      ]
    },
    {
      "cell_type": "code",
      "source": [
        "Fraction (3, 4 ) +1 + 1.5 # combining the fraction and integer and floating point\n",
        "                          # When you have a floating point number in an expression, the result of\n",
        "                          #the expression is returned as a floating point number"
      ],
      "metadata": {
        "colab": {
          "base_uri": "https://localhost:8080/"
        },
        "id": "7GAQE6EZILu6",
        "outputId": "230c812f-573f-4eea-fbd2-e2813561b5dd"
      },
      "execution_count": null,
      "outputs": [
        {
          "output_type": "execute_result",
          "data": {
            "text/plain": [
              "3.25"
            ]
          },
          "metadata": {},
          "execution_count": 18
        }
      ]
    },
    {
      "cell_type": "code",
      "source": [
        "Fraction (3, 4) +2+ Fraction(2,3) #d, when you have only a fraction and an integer in the\n",
        "                                  #expression, the result is a fraction, even if the result has a denominator"
      ],
      "metadata": {
        "colab": {
          "base_uri": "https://localhost:8080/"
        },
        "id": "YKYVNzUlJv2D",
        "outputId": "6db7f4e8-e793-4e2a-bb70-2ddd86f4ec73"
      },
      "execution_count": null,
      "outputs": [
        {
          "output_type": "execute_result",
          "data": {
            "text/plain": [
              "Fraction(41, 12)"
            ]
          },
          "metadata": {},
          "execution_count": 19
        }
      ]
    },
    {
      "cell_type": "code",
      "source": [
        "# complex number\n",
        "a = 2 + 3j\n",
        "type(a)"
      ],
      "metadata": {
        "colab": {
          "base_uri": "https://localhost:8080/"
        },
        "id": "7vOtXwf1K8AE",
        "outputId": "04385ee2-6e6c-42c6-8da2-4a87efdc753e"
      },
      "execution_count": null,
      "outputs": [
        {
          "output_type": "execute_result",
          "data": {
            "text/plain": [
              "complex"
            ]
          },
          "metadata": {},
          "execution_count": 20
        }
      ]
    },
    {
      "cell_type": "code",
      "source": [
        "a = complex(2,3) # define using the complex func\n",
        "a"
      ],
      "metadata": {
        "colab": {
          "base_uri": "https://localhost:8080/"
        },
        "id": "OFjus-BzLEd_",
        "outputId": "2b399253-870b-40bf-8e95-2507c9c23d25"
      },
      "execution_count": null,
      "outputs": [
        {
          "output_type": "execute_result",
          "data": {
            "text/plain": [
              "(2+3j)"
            ]
          },
          "metadata": {},
          "execution_count": 21
        }
      ]
    },
    {
      "cell_type": "code",
      "source": [
        "b = 3 + 3j\n",
        "a + b  # a (2 + 3j ) assigns the values"
      ],
      "metadata": {
        "colab": {
          "base_uri": "https://localhost:8080/"
        },
        "id": "Cd9AEpE7LYDw",
        "outputId": "7ea35576-91c0-444b-e458-837d9385d549"
      },
      "execution_count": null,
      "outputs": [
        {
          "output_type": "execute_result",
          "data": {
            "text/plain": [
              "(5+6j)"
            ]
          },
          "metadata": {},
          "execution_count": 22
        }
      ]
    },
    {
      "cell_type": "code",
      "source": [
        "a - b"
      ],
      "metadata": {
        "colab": {
          "base_uri": "https://localhost:8080/"
        },
        "id": "sbLvAELNLnDe",
        "outputId": "3f08ecbe-4be4-4ab5-e345-9be588b78b46"
      },
      "execution_count": null,
      "outputs": [
        {
          "output_type": "execute_result",
          "data": {
            "text/plain": [
              "(-1+0j)"
            ]
          },
          "metadata": {},
          "execution_count": 23
        }
      ]
    },
    {
      "cell_type": "code",
      "source": [
        "a* b"
      ],
      "metadata": {
        "colab": {
          "base_uri": "https://localhost:8080/"
        },
        "id": "njM7dL4qL02d",
        "outputId": "cc7c1311-6ad7-477b-bc05-c2bc93f74be0"
      },
      "execution_count": null,
      "outputs": [
        {
          "output_type": "execute_result",
          "data": {
            "text/plain": [
              "(-3+15j)"
            ]
          },
          "metadata": {},
          "execution_count": 24
        }
      ]
    },
    {
      "cell_type": "code",
      "source": [
        "a/b"
      ],
      "metadata": {
        "colab": {
          "base_uri": "https://localhost:8080/"
        },
        "id": "or-lFQ3DL5D4",
        "outputId": "020ffcc3-6ba5-4883-824e-7d201f79393e"
      },
      "execution_count": null,
      "outputs": [
        {
          "output_type": "execute_result",
          "data": {
            "text/plain": [
              "(0.8333333333333334+0.16666666666666666j)"
            ]
          },
          "metadata": {},
          "execution_count": 25
        }
      ]
    },
    {
      "cell_type": "code",
      "source": [
        "# the modules of the (%) and (// ) are not valid for the complex numbers\n",
        "# retrived can by using the attributes \"real \" amd \"imag\"\n",
        "z = 2 + 3j\n",
        "z.real"
      ],
      "metadata": {
        "colab": {
          "base_uri": "https://localhost:8080/"
        },
        "id": "gGukqV4hL61V",
        "outputId": "352eda5f-77a2-4953-d228-19481cc9934d"
      },
      "execution_count": null,
      "outputs": [
        {
          "output_type": "execute_result",
          "data": {
            "text/plain": [
              "2.0"
            ]
          },
          "metadata": {},
          "execution_count": 26
        }
      ]
    },
    {
      "cell_type": "code",
      "source": [
        "z.imag"
      ],
      "metadata": {
        "colab": {
          "base_uri": "https://localhost:8080/"
        },
        "id": "-ztUY2dDMh3P",
        "outputId": "3cf5ead1-a7c2-4477-c017-cec8252eddd9"
      },
      "execution_count": null,
      "outputs": [
        {
          "output_type": "execute_result",
          "data": {
            "text/plain": [
              "3.0"
            ]
          },
          "metadata": {},
          "execution_count": 27
        }
      ]
    },
    {
      "cell_type": "code",
      "source": [
        "z.conjugate() # conjugate of a comples number has the same real part and imaginary part with an equal magnitude of an opposite sign"
      ],
      "metadata": {
        "colab": {
          "base_uri": "https://localhost:8080/"
        },
        "id": "Bgvw4zhrMk-B",
        "outputId": "43c01ec2-de04-4eaa-c4fa-0e264b91bcf2"
      },
      "execution_count": null,
      "outputs": [
        {
          "output_type": "execute_result",
          "data": {
            "text/plain": [
              "(2-3j)"
            ]
          },
          "metadata": {},
          "execution_count": 28
        }
      ]
    },
    {
      "cell_type": "code",
      "source": [
        "(z.real ** 2 + z.imag ** 2) ** 0.5 # calculating the magnitude of a complex number"
      ],
      "metadata": {
        "colab": {
          "base_uri": "https://localhost:8080/"
        },
        "id": "2lVOGhRSMyih",
        "outputId": "9300df6e-960a-4a39-ca65-1985b93f5095"
      },
      "execution_count": null,
      "outputs": [
        {
          "output_type": "execute_result",
          "data": {
            "text/plain": [
              "3.605551275463989"
            ]
          },
          "metadata": {},
          "execution_count": 29
        }
      ]
    },
    {
      "cell_type": "code",
      "source": [
        "abs(z) # the abs() func simple way to calculate the magnitude\n",
        "# cmath complex math"
      ],
      "metadata": {
        "colab": {
          "base_uri": "https://localhost:8080/"
        },
        "id": "2q3dA-KJNYhp",
        "outputId": "bcd894a0-ed23-4c2a-92e5-18c403e5749d"
      },
      "execution_count": null,
      "outputs": [
        {
          "output_type": "execute_result",
          "data": {
            "text/plain": [
              "3.605551275463989"
            ]
          },
          "metadata": {},
          "execution_count": 30
        }
      ]
    },
    {
      "cell_type": "code",
      "source": [
        "# GETTING THE USER INPUT\n",
        "a = input() # input() accept the user input via input func\n",
        "              # the input stored in the variable 'a'"
      ],
      "metadata": {
        "colab": {
          "base_uri": "https://localhost:8080/"
        },
        "id": "97jybQ7hNpXc",
        "outputId": "9bd928d4-b276-4413-b28d-12623268691f"
      },
      "execution_count": null,
      "outputs": [
        {
          "name": "stdout",
          "output_type": "stream",
          "text": [
            "1\n"
          ]
        }
      ]
    },
    {
      "cell_type": "code",
      "source": [
        "a # result in the string format '1'   single quotes or  double quotes"
      ],
      "metadata": {
        "colab": {
          "base_uri": "https://localhost:8080/",
          "height": 36
        },
        "id": "ih435f8yOEpB",
        "outputId": "dc6983b8-24d1-4173-eb2f-f070433d8abd"
      },
      "execution_count": null,
      "outputs": [
        {
          "output_type": "execute_result",
          "data": {
            "text/plain": [
              "'1'"
            ],
            "application/vnd.google.colaboratory.intrinsic+json": {
              "type": "string"
            }
          },
          "metadata": {},
          "execution_count": 32
        }
      ]
    },
    {
      "cell_type": "code",
      "source": [
        "s1 = 'rahul '\n",
        "s2 = \" rahul .c \"\n",
        "print(s1)\n",
        "print(s2)"
      ],
      "metadata": {
        "colab": {
          "base_uri": "https://localhost:8080/"
        },
        "id": "hBxZgjLzOknp",
        "outputId": "e70318fe-da52-4ee1-fff1-c2d4180239b5"
      },
      "execution_count": null,
      "outputs": [
        {
          "output_type": "stream",
          "name": "stdout",
          "text": [
            "rahul \n",
            " rahul .c \n"
          ]
        }
      ]
    },
    {
      "cell_type": "code",
      "source": [
        "a = '1' # converting the string '1' to int\n",
        "int(a) +1"
      ],
      "metadata": {
        "colab": {
          "base_uri": "https://localhost:8080/"
        },
        "id": "CZLw3OdpPBev",
        "outputId": "6c40bb8d-ccdd-4a1d-8722-3fdbd459c10d"
      },
      "execution_count": null,
      "outputs": [
        {
          "output_type": "execute_result",
          "data": {
            "text/plain": [
              "2"
            ]
          },
          "metadata": {},
          "execution_count": 34
        }
      ]
    },
    {
      "cell_type": "code",
      "source": [
        "float(a )+ 1 # string to float conversion using the float and int funcs"
      ],
      "metadata": {
        "colab": {
          "base_uri": "https://localhost:8080/"
        },
        "id": "97tMF31JPYz-",
        "outputId": "8080b6a1-9ee7-4a6f-fc8c-d4884bc0bb46"
      },
      "execution_count": null,
      "outputs": [
        {
          "output_type": "execute_result",
          "data": {
            "text/plain": [
              "2.0"
            ]
          },
          "metadata": {},
          "execution_count": 35
        }
      ]
    },
    {
      "cell_type": "markdown",
      "source": [
        "## SESSION 2"
      ],
      "metadata": {
        "id": "RECdyXzanZD1"
      }
    },
    {
      "cell_type": "code",
      "source": [
        "a = Fraction(input('enter a fraction'))"
      ],
      "metadata": {
        "id": "z5VILIk7Pv6R",
        "colab": {
          "base_uri": "https://localhost:8080/"
        },
        "outputId": "f51820cf-d487-4af9-c253-ade2ef6b25a8"
      },
      "execution_count": null,
      "outputs": [
        {
          "name": "stdout",
          "output_type": "stream",
          "text": [
            "enter a fraction3/4\n"
          ]
        }
      ]
    },
    {
      "cell_type": "code",
      "source": [
        "a"
      ],
      "metadata": {
        "colab": {
          "base_uri": "https://localhost:8080/"
        },
        "id": "RiXO8vhLm7lZ",
        "outputId": "96a158c7-0d3c-4b39-a681-2e22b2d40507"
      },
      "execution_count": null,
      "outputs": [
        {
          "output_type": "execute_result",
          "data": {
            "text/plain": [
              "Fraction(3, 4)"
            ]
          },
          "metadata": {},
          "execution_count": 37
        }
      ]
    },
    {
      "cell_type": "code",
      "source": [
        "print(a) , type(a)"
      ],
      "metadata": {
        "colab": {
          "base_uri": "https://localhost:8080/"
        },
        "id": "xr6WVzEwnPzO",
        "outputId": "7423877f-3cda-4c74-cba6-6a5858986bbd"
      },
      "execution_count": null,
      "outputs": [
        {
          "output_type": "stream",
          "name": "stdout",
          "text": [
            "3/4\n"
          ]
        },
        {
          "output_type": "execute_result",
          "data": {
            "text/plain": [
              "(None, fractions.Fraction)"
            ]
          },
          "metadata": {},
          "execution_count": 38
        }
      ]
    },
    {
      "cell_type": "code",
      "source": [
        "#calculating the factors of an integers\n",
        "def is_factor(a, b ):\n",
        "  if b % a == 0:\n",
        "    return True\n",
        "  else:\n",
        "    return False"
      ],
      "metadata": {
        "id": "kyVWc9_EntrL"
      },
      "execution_count": null,
      "outputs": []
    },
    {
      "cell_type": "code",
      "source": [
        "is_factor(4, 1024)"
      ],
      "metadata": {
        "colab": {
          "base_uri": "https://localhost:8080/"
        },
        "id": "5A901yOQoc48",
        "outputId": "a5816c23-a596-4e66-f973-d515296c47dd"
      },
      "execution_count": null,
      "outputs": [
        {
          "output_type": "execute_result",
          "data": {
            "text/plain": [
              "True"
            ]
          },
          "metadata": {},
          "execution_count": 41
        }
      ]
    },
    {
      "cell_type": "code",
      "source": [
        "for i in range(1,4):\n",
        "  print(i)"
      ],
      "metadata": {
        "colab": {
          "base_uri": "https://localhost:8080/"
        },
        "id": "bWsccFlxo9ti",
        "outputId": "77ef484a-55c2-43b8-d4c9-9ea25c01e6f5"
      },
      "execution_count": null,
      "outputs": [
        {
          "output_type": "stream",
          "name": "stdout",
          "text": [
            "1\n",
            "2\n",
            "3\n"
          ]
        }
      ]
    },
    {
      "cell_type": "code",
      "source": [
        "for i in range(5):\n",
        "  print(i)"
      ],
      "metadata": {
        "colab": {
          "base_uri": "https://localhost:8080/"
        },
        "id": "e27lKFmFpReJ",
        "outputId": "afd1cd89-4a72-422b-ca7c-53f57646ede0"
      },
      "execution_count": null,
      "outputs": [
        {
          "output_type": "stream",
          "name": "stdout",
          "text": [
            "0\n",
            "1\n",
            "2\n",
            "3\n",
            "4\n"
          ]
        }
      ]
    },
    {
      "cell_type": "code",
      "source": [
        "for i in range(1, 10, 2):\n",
        "  print(i)"
      ],
      "metadata": {
        "colab": {
          "base_uri": "https://localhost:8080/"
        },
        "id": "7L2v295PpZkw",
        "outputId": "978f6a1e-4239-4435-8551-aba76c7a97ed"
      },
      "execution_count": null,
      "outputs": [
        {
          "output_type": "stream",
          "name": "stdout",
          "text": [
            "1\n",
            "3\n",
            "5\n",
            "7\n",
            "9\n"
          ]
        }
      ]
    },
    {
      "cell_type": "code",
      "source": [
        "def factors(b): # finding the factor of an integer\n",
        "\n",
        "  for i in range(1, b+1):\n",
        "    if b% i == 0:\n",
        "      print(i)\n",
        "\n",
        "if __name__ == '__main__':\n",
        "  b = input('your integer :')\n",
        "  b = float(b)\n",
        "\n",
        "  if b> 0 and b.is_integer():\n",
        "    factors(int(b))\n",
        "  else:\n",
        "    print('please enter a positive integer')"
      ],
      "metadata": {
        "colab": {
          "base_uri": "https://localhost:8080/"
        },
        "id": "YoN6qQEzpyi4",
        "outputId": "b104f744-127f-472a-dd03-e92c793ff2da"
      },
      "execution_count": null,
      "outputs": [
        {
          "output_type": "stream",
          "name": "stdout",
          "text": [
            "your integer :4\n",
            "1\n",
            "2\n",
            "4\n"
          ]
        }
      ]
    },
    {
      "cell_type": "code",
      "source": [
        "def factors(b): # finding the factor of an integer\n",
        "\n",
        "  for i in range(1, b+1):\n",
        "    if b% i == 0:\n",
        "      print(i)\n",
        "\n",
        "if __name__ == '__main__':\n",
        "  b = input('your integer :')\n",
        "  b = float(b)\n",
        "\n",
        "  if b> 0 and b.is_integer():\n",
        "    factors(int(b))\n",
        "  else:\n",
        "    print('please enter a positive integer')"
      ],
      "metadata": {
        "colab": {
          "base_uri": "https://localhost:8080/"
        },
        "id": "KO_iED0RqqXh",
        "outputId": "6fb2d00e-0029-41a3-fde6-f9c25eb359e1"
      },
      "execution_count": null,
      "outputs": [
        {
          "output_type": "stream",
          "name": "stdout",
          "text": [
            "your integer :4.5\n",
            "please enter a positive integer\n"
          ]
        }
      ]
    },
    {
      "cell_type": "code",
      "source": [
        "item1 = 'apples'\n",
        "item2 = 'bananas'\n",
        "item3 = 'grapes'\n",
        "print('at the grocery store , i bought some{0} and {1} and {2}'. format(item1, item2,item3))"
      ],
      "metadata": {
        "colab": {
          "base_uri": "https://localhost:8080/"
        },
        "id": "H8n9nuMtrEJX",
        "outputId": "bea4a267-11aa-436c-cfc4-588ab0c83871"
      },
      "execution_count": null,
      "outputs": [
        {
          "output_type": "stream",
          "name": "stdout",
          "text": [
            "at the grocery store , i bought someapples and bananas and grapes\n"
          ]
        }
      ]
    },
    {
      "cell_type": "markdown",
      "source": [
        "# SESSION 3"
      ],
      "metadata": {
        "id": "fM-qrrEm7FJS"
      }
    },
    {
      "cell_type": "code",
      "source": [
        "print('number 1: {0} number 2 :{1}'.format(1,3.578))"
      ],
      "metadata": {
        "colab": {
          "base_uri": "https://localhost:8080/"
        },
        "id": "EGmUoJD8r36D",
        "outputId": "e19b8976-dafe-452c-a9ef-990985ce2d94"
      },
      "execution_count": null,
      "outputs": [
        {
          "output_type": "stream",
          "name": "stdout",
          "text": [
            "number 1: 1 number 2 :3.578\n"
          ]
        }
      ]
    },
    {
      "cell_type": "code",
      "source": [
        "def multiple_table(a):   #multiplcation table printer  format() method.\n",
        "\n",
        "  for i in range(1, 11):\n",
        "    print('{0} x {1} = 2'.format(a, i, a*i))\n",
        "\n",
        "\n",
        "if __name__=='__main__':\n",
        "  a = input('enter a number : ')\n",
        "  multiple_table(float(a))"
      ],
      "metadata": {
        "id": "ViQVos8BsFf3",
        "colab": {
          "base_uri": "https://localhost:8080/"
        },
        "outputId": "fc8fbe46-a74f-4b63-f5a8-c367fb803ccd"
      },
      "execution_count": null,
      "outputs": [
        {
          "output_type": "stream",
          "name": "stdout",
          "text": [
            "enter a number : 5\n",
            "5.0 x 1 = 2\n",
            "5.0 x 2 = 2\n",
            "5.0 x 3 = 2\n",
            "5.0 x 4 = 2\n",
            "5.0 x 5 = 2\n",
            "5.0 x 6 = 2\n",
            "5.0 x 7 = 2\n",
            "5.0 x 8 = 2\n",
            "5.0 x 9 = 2\n",
            "5.0 x 10 = 2\n"
          ]
        }
      ]
    },
    {
      "cell_type": "code",
      "source": [
        "'{0}'.format(1.25456) , '{0:.2f}'.format(1.25456)"
      ],
      "metadata": {
        "colab": {
          "base_uri": "https://localhost:8080/"
        },
        "id": "4T7e4jgn5kCU",
        "outputId": "09af3ab2-9eb4-47af-afd7-1c31e9d2ee1e"
      },
      "execution_count": null,
      "outputs": [
        {
          "output_type": "execute_result",
          "data": {
            "text/plain": [
              "('1.25456', '1.25')"
            ]
          },
          "metadata": {},
          "execution_count": 52
        }
      ]
    },
    {
      "cell_type": "code",
      "source": [
        "'{0:.2f}'.format(1.25556)"
      ],
      "metadata": {
        "colab": {
          "base_uri": "https://localhost:8080/",
          "height": 36
        },
        "id": "qIzek4hD6RZx",
        "outputId": "f9582701-38ad-4678-cae7-c185b8086c2b"
      },
      "execution_count": null,
      "outputs": [
        {
          "output_type": "execute_result",
          "data": {
            "text/plain": [
              "'1.26'"
            ],
            "application/vnd.google.colaboratory.intrinsic+json": {
              "type": "string"
            }
          },
          "metadata": {},
          "execution_count": 53
        }
      ]
    },
    {
      "cell_type": "code",
      "source": [
        "'{0:.2f}'.format(1)"
      ],
      "metadata": {
        "colab": {
          "base_uri": "https://localhost:8080/",
          "height": 36
        },
        "id": "TeFZx1z562Q6",
        "outputId": "26c49a18-a5bc-47de-a9aa-ad231eb278fb"
      },
      "execution_count": null,
      "outputs": [
        {
          "output_type": "execute_result",
          "data": {
            "text/plain": [
              "'1.00'"
            ],
            "application/vnd.google.colaboratory.intrinsic+json": {
              "type": "string"
            }
          },
          "metadata": {},
          "execution_count": 54
        }
      ]
    },
    {
      "cell_type": "code",
      "source": [
        "(25.5 * 2.54) / 100 # converting units of measurements"
      ],
      "metadata": {
        "colab": {
          "base_uri": "https://localhost:8080/"
        },
        "id": "0hSzTaWa68Aa",
        "outputId": "d2583de0-e448-4629-9914-268d3e0a975a"
      },
      "execution_count": null,
      "outputs": [
        {
          "output_type": "execute_result",
          "data": {
            "text/plain": [
              "0.6476999999999999"
            ]
          },
          "metadata": {},
          "execution_count": 56
        }
      ]
    },
    {
      "cell_type": "code",
      "source": [
        "650 *1.609"
      ],
      "metadata": {
        "colab": {
          "base_uri": "https://localhost:8080/"
        },
        "id": "KvqzpK647SMU",
        "outputId": "9afdea1e-2be2-4839-a40e-41ba631f6913"
      },
      "execution_count": null,
      "outputs": [
        {
          "output_type": "execute_result",
          "data": {
            "text/plain": [
              "1045.85"
            ]
          },
          "metadata": {},
          "execution_count": 57
        }
      ]
    },
    {
      "cell_type": "markdown",
      "source": [
        "![Screenshot 2024-12-29 111053.png](data:image/png;base64,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)"
      ],
      "metadata": {
        "id": "UZopPhBJ7iCH"
      }
    },
    {
      "cell_type": "code",
      "source": [
        "F = 98.6  #converting temperature to its equilent in celsius\n",
        "(F - 32 )*(5/9)"
      ],
      "metadata": {
        "colab": {
          "base_uri": "https://localhost:8080/"
        },
        "id": "1MPDQb037bp0",
        "outputId": "28946d41-0a91-4b31-93ef-0aca2651fd6b"
      },
      "execution_count": null,
      "outputs": [
        {
          "output_type": "execute_result",
          "data": {
            "text/plain": [
              "37.0"
            ]
          },
          "metadata": {},
          "execution_count": 58
        }
      ]
    },
    {
      "cell_type": "code",
      "source": [
        "c = 37 # converting the celsius to  fahrenheit\n",
        "c* (9/5) + 32"
      ],
      "metadata": {
        "colab": {
          "base_uri": "https://localhost:8080/"
        },
        "id": "ENa1CZB_7_g0",
        "outputId": "dbdf9c21-c3bc-4059-92a9-55e3ec4ead33"
      },
      "execution_count": null,
      "outputs": [
        {
          "output_type": "execute_result",
          "data": {
            "text/plain": [
              "98.60000000000001"
            ]
          },
          "metadata": {},
          "execution_count": 59
        }
      ]
    },
    {
      "cell_type": "code",
      "source": [
        "def print_menu():\n",
        "  print('1. kilometers to miles ')         # unit conversion ; miles to kilometers\n",
        "  print('2. miles to kilometers ')\n",
        "\n",
        "def km_miles():\n",
        "  km = float(input('enter the distance in kilometers : '))\n",
        "  miles = km / 1.609\n",
        "  print('distance in miles: {0}'.format(miles))\n",
        "\n",
        "def miles_km():\n",
        "  miles = float(input('enter the distance in miles :'))\n",
        "  km = miles * 1.609\n",
        "  print('distance in kilometers: {0}'.format(km))\n",
        "\n",
        "if __name__ == '__main__' :\n",
        "  print_menu()\n",
        "  choice = input('which conversion would you like to do?:')\n",
        "  if choice == '1':\n",
        "    km_miles()\n",
        "\n",
        "  if choice  == '2':\n",
        "    miles_km()"
      ],
      "metadata": {
        "colab": {
          "base_uri": "https://localhost:8080/"
        },
        "id": "m3F9Yc2M8HQH",
        "outputId": "83a58bf0-3825-4723-fc97-ae19ea5b5928"
      },
      "execution_count": null,
      "outputs": [
        {
          "output_type": "stream",
          "name": "stdout",
          "text": [
            "1. kilometers to miles \n",
            "2. miles to kilometers \n",
            "which conversion would you like to do?:2\n",
            "enter the distance in miles :100\n",
            "distance in kilometers: 160.9\n"
          ]
        }
      ]
    },
    {
      "cell_type": "markdown",
      "source": [
        " Finding the Roots of a Quadratic Equation\n"
      ],
      "metadata": {
        "id": "eqP59OfN-3Zs"
      }
    },
    {
      "cell_type": "code",
      "source": [
        "x = 10 - 500 + 79\n",
        "x"
      ],
      "metadata": {
        "colab": {
          "base_uri": "https://localhost:8080/"
        },
        "id": "hVXXeSM2-c8e",
        "outputId": "ce2d1261-b25d-4a15-a67f-5ec3cad96d2f"
      },
      "execution_count": null,
      "outputs": [
        {
          "output_type": "execute_result",
          "data": {
            "text/plain": [
              "-411"
            ]
          },
          "metadata": {},
          "execution_count": 62
        }
      ]
    },
    {
      "cell_type": "markdown",
      "source": [
        "![image.png](data:image/png;base64,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)"
      ],
      "metadata": {
        "id": "ZV39yZPJAG0H"
      }
    },
    {
      "cell_type": "code",
      "source": [
        "a =1\n",
        "b = 2\n",
        "c = 1\n",
        "d = (b**2 - 4*a*c) ** 0.5\n",
        "x_1 = (-b + d)/(2*a)\n",
        "x_1"
      ],
      "metadata": {
        "colab": {
          "base_uri": "https://localhost:8080/"
        },
        "id": "5dA-UJNU-_fb",
        "outputId": "9ea47a01-e904-4b86-e140-229f64b7c6de"
      },
      "execution_count": null,
      "outputs": [
        {
          "output_type": "execute_result",
          "data": {
            "text/plain": [
              "-1.0"
            ]
          },
          "metadata": {},
          "execution_count": 64
        }
      ]
    },
    {
      "cell_type": "code",
      "source": [
        "x_2 = (-b + d)/(2* a)\n",
        "x_2"
      ],
      "metadata": {
        "colab": {
          "base_uri": "https://localhost:8080/"
        },
        "id": "lN-mnS4E_Vlj",
        "outputId": "95f9161b-3e96-433c-e58b-9b5267918c14"
      },
      "execution_count": null,
      "outputs": [
        {
          "output_type": "execute_result",
          "data": {
            "text/plain": [
              "-1.0"
            ]
          },
          "metadata": {},
          "execution_count": 65
        }
      ]
    },
    {
      "cell_type": "markdown",
      "source": [
        "Quadratice equation root calculator"
      ],
      "metadata": {
        "id": "dx7hCjG-BVN7"
      }
    },
    {
      "cell_type": "code",
      "source": [
        "def roots(a, b , c):\n",
        "  d = (b*b - 4*a*c) ** 0.5\n",
        "  x_1 = (-b + d)/(2*a)\n",
        "  x_2 = (-b - d)/(2*a)\n",
        "\n",
        "  print('x1: {0}'.format(x_1))\n",
        "  print('x2: {0}'.format(x_2))\n",
        "\n",
        "if __name__ == '__main__':\n",
        "  a = input('enter a:')\n",
        "  b = input('enter b:')\n",
        "  c = input('enter c:')\n",
        "  roots(float(a), float(b), float(c)) # a =1 , b = 2 , c = 1"
      ],
      "metadata": {
        "colab": {
          "base_uri": "https://localhost:8080/"
        },
        "id": "Gdvb2OXK_ytr",
        "outputId": "6aa72124-e742-4d8b-f534-7b20c8dcf486"
      },
      "execution_count": null,
      "outputs": [
        {
          "output_type": "stream",
          "name": "stdout",
          "text": [
            "enter a:1\n",
            "enter b:2\n",
            "enter c:1\n",
            "x1: -1.0\n",
            "x2: -1.0\n"
          ]
        }
      ]
    },
    {
      "cell_type": "code",
      "source": [
        "def roots(a, b , c):\n",
        "  d = (b*b - 4*a*c) ** 0.5\n",
        "  x_1 = (-b + d)/(2*a)\n",
        "  x_2 = (-b - d)/(2*a)\n",
        "\n",
        "  print('x1: {0}'.format(x_1))\n",
        "  print('x2: {0}'.format(x_2))\n",
        "\n",
        "if __name__ == '__main__':\n",
        "  a = input('enter a:')\n",
        "  b = input('enter b:')\n",
        "  c = input('enter c:')\n",
        "  roots(float(a), float(b), float(c)) # a =1 , b = 1 , c = 1\n",
        "\n",
        "print('the roots printed above are complex numbers indiicating the j ')"
      ],
      "metadata": {
        "colab": {
          "base_uri": "https://localhost:8080/"
        },
        "id": "iU8FEwV8Bs7h",
        "outputId": "3749fec7-5af1-4d30-ff1f-32f8223fb189"
      },
      "execution_count": null,
      "outputs": [
        {
          "output_type": "stream",
          "name": "stdout",
          "text": [
            "enter a:1\n",
            "enter b:1\n",
            "enter c:1\n",
            "x1: (-0.49999999999999994+0.8660254037844386j)\n",
            "x2: (-0.5-0.8660254037844386j)\n",
            "the roots printed above are complex numbers indiicating the j \n"
          ]
        }
      ]
    },
    {
      "cell_type": "markdown",
      "source": [
        "programming challenges"
      ],
      "metadata": {
        "id": "0Q34ci28DHS4"
      }
    },
    {
      "cell_type": "code",
      "source": [
        "from fractions import Fraction\n",
        "\n",
        "def add(a,b):\n",
        "  print('result of addition: {0}'.format(a+b))    # fractions operations\n",
        "\n",
        "\n",
        "if __name__ == '__main__':\n",
        "  a = Fraction(input('enter first fraction:'))\n",
        "  b = Fraction(input('enter second fraction:'))\n",
        "  op = input('operation to perform - add , subtract, divide , multiply:')\n",
        "  if op == 'add':\n",
        "    add(a,b)"
      ],
      "metadata": {
        "colab": {
          "base_uri": "https://localhost:8080/"
        },
        "id": "4TUbxFtSCcyn",
        "outputId": "e4e1b7ff-8d42-46f9-8b62-0be4155d8a51"
      },
      "execution_count": null,
      "outputs": [
        {
          "output_type": "stream",
          "name": "stdout",
          "text": [
            "enter first fraction:3/4\n",
            "enter second fraction:1/4\n",
            "operation to perform - add , subtract, divide , multiply:add\n",
            "result of addition: 1\n"
          ]
        }
      ]
    },
    {
      "cell_type": "code",
      "source": [
        "from fractions import Fraction\n",
        "\n",
        "def add(a, b):\n",
        "    print('Result of addition: {0}'.format(a + b))\n",
        "\n",
        "def subtract(a, b):\n",
        "    print('Result of subtraction: {0}'.format(a - b))\n",
        "\n",
        "def multiply(a, b):\n",
        "    print('Result of multiplication: {0}'.format(a * b))\n",
        "\n",
        "def divide(a, b):\n",
        "    if b != 0:\n",
        "        print('Result of division: {0}'.format(a / b))\n",
        "    else:\n",
        "        print('Error: Cannot divide by zero.')\n",
        "\n",
        "if __name__ == '__main__':\n",
        "    a = Fraction(input('Enter first fraction (e.g., 1/2): '))\n",
        "    b = Fraction(input('Enter second fraction (e.g., 1/3): '))\n",
        "    op = input('Operation to perform - add, subtract, divide, multiply: ')\n",
        "\n",
        "    if op == 'add':\n",
        "        add(a, b)\n",
        "    elif op == 'subtract':\n",
        "        subtract(a, b)\n",
        "    elif op == 'multiply':\n",
        "        multiply(a, b)\n",
        "    elif op == 'divide':\n",
        "        divide(a, b)\n",
        "    else:\n",
        "        print('Invalid operation. Please choose from add, subtract, divide, multiply.')"
      ],
      "metadata": {
        "colab": {
          "base_uri": "https://localhost:8080/"
        },
        "id": "dLaKM8MiEL6n",
        "outputId": "056e9bcd-1c8a-4be5-f7a5-a45921370bf1"
      },
      "execution_count": null,
      "outputs": [
        {
          "output_type": "stream",
          "name": "stdout",
          "text": [
            "Enter first fraction (e.g., 1/2): 3/4\n",
            "Enter second fraction (e.g., 1/3): 1/4\n",
            "Operation to perform - add, subtract, divide, multiply: subtract\n",
            "Result of subtraction: 1/2\n"
          ]
        }
      ]
    },
    {
      "cell_type": "code",
      "source": [
        "def fun():\n",
        "  print('iam in an endless loop ') # run untill exit layout infinate loop\n",
        "\n",
        "\n",
        "if __name__ == '__main__':\n",
        "  while True:\n",
        "    fun()\n",
        "    answer = input('do u want to exist? (y) for yes : ')\n",
        "    if answer == 'y':\n",
        "      break"
      ],
      "metadata": {
        "colab": {
          "base_uri": "https://localhost:8080/"
        },
        "id": "asHjuUZyEiAW",
        "outputId": "d6f1fb46-f82b-4773-a8ee-51a39410746d"
      },
      "execution_count": null,
      "outputs": [
        {
          "name": "stdout",
          "output_type": "stream",
          "text": [
            "iam in an endless loop \n",
            "do u want to exist? (y) for yes : h\n",
            "iam in an endless loop \n",
            "do u want to exist? (y) for yes : j\n",
            "iam in an endless loop \n",
            "do u want to exist? (y) for yes : k\n",
            "iam in an endless loop \n",
            "do u want to exist? (y) for yes : i\n",
            "iam in an endless loop \n",
            "do u want to exist? (y) for yes : y\n"
          ]
        }
      ]
    },
    {
      "cell_type": "code",
      "source": [
        "def multi_table(a): # multiplication table printer with the exit power to the user\n",
        "\n",
        "  for i in range(1,11):\n",
        "    print('{0} x {1} = {2}'.format(a, i, a*i))\n",
        "\n",
        "if __name__ == '__main__':\n",
        "  while True:\n",
        "    a = input('enter a number :')\n",
        "    multi_table(float(a))\n",
        "\n",
        "    answer = input('do u want to exist ?(y) for yes :')\n",
        "    if answer == \"y\" :\n",
        "      break"
      ],
      "metadata": {
        "colab": {
          "base_uri": "https://localhost:8080/"
        },
        "id": "Ka0quRQvGKuh",
        "outputId": "0e7e1d43-4e6c-41a4-8b1b-6ec46d6791ef"
      },
      "execution_count": null,
      "outputs": [
        {
          "name": "stdout",
          "output_type": "stream",
          "text": [
            "enter a number :6\n",
            "6.0 x 1 = 6.0\n",
            "6.0 x 2 = 12.0\n",
            "6.0 x 3 = 18.0\n",
            "6.0 x 4 = 24.0\n",
            "6.0 x 5 = 30.0\n",
            "6.0 x 6 = 36.0\n",
            "6.0 x 7 = 42.0\n",
            "6.0 x 8 = 48.0\n",
            "6.0 x 9 = 54.0\n",
            "6.0 x 10 = 60.0\n",
            "do u want to exist ?(y) for yes :y\n"
          ]
        }
      ]
    },
    {
      "cell_type": "markdown",
      "source": [
        "session ends."
      ],
      "metadata": {
        "id": "byxd6vWNIw-x"
      }
    },
    {
      "cell_type": "code",
      "source": [],
      "metadata": {
        "id": "3I3ZltXKHXxQ"
      },
      "execution_count": null,
      "outputs": []
    }
  ]
}