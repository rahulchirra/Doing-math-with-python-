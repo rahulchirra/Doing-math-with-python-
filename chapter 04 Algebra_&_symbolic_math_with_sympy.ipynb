{
  "nbformat": 4,
  "nbformat_minor": 0,
  "metadata": {
    "colab": {
      "provenance": [],
      "gpuType": "T4",
      "authorship_tag": "ABX9TyM0tWAOUnlxyRLgNs/TYEUA",
      "include_colab_link": true
    },
    "kernelspec": {
      "name": "python3",
      "display_name": "Python 3"
    },
    "language_info": {
      "name": "python"
    },
    "accelerator": "GPU"
  },
  "cells": [
    {
      "cell_type": "markdown",
      "metadata": {
        "id": "view-in-github",
        "colab_type": "text"
      },
      "source": [
        "<a href=\"https://colab.research.google.com/github/rahulchirra/Doing-math-with-python-/blob/main/chapter%2004%20Algebra_%26_symbolic_math_with_sympy.ipynb\" target=\"_parent\"><img src=\"https://colab.research.google.com/assets/colab-badge.svg\" alt=\"Open In Colab\"/></a>"
      ]
    },
    {
      "cell_type": "markdown",
      "source": [
        "# chapter 04 Algebra & symbolic math with sympy"
      ],
      "metadata": {
        "id": "A_RqVPx8xtQp"
      }
    },
    {
      "cell_type": "code",
      "execution_count": 1,
      "metadata": {
        "id": "eTXcY3EUJcJ1",
        "colab": {
          "base_uri": "https://localhost:8080/"
        },
        "outputId": "16f8a05e-7dd3-42d5-9973-15edf4da728c"
      },
      "outputs": [
        {
          "output_type": "execute_result",
          "data": {
            "text/plain": [
              "3"
            ]
          },
          "metadata": {},
          "execution_count": 1
        }
      ],
      "source": [
        "x = 1\n",
        "x + x + 1"
      ]
    },
    {
      "cell_type": "code",
      "source": [
        "from sympy import Symbol\n",
        "x = Symbol('x')\n",
        "x"
      ],
      "metadata": {
        "id": "7WqaP1PIKCyz",
        "colab": {
          "base_uri": "https://localhost:8080/",
          "height": 38
        },
        "outputId": "81892eb3-560a-4914-d430-84a8463b06ad"
      },
      "execution_count": 2,
      "outputs": [
        {
          "output_type": "execute_result",
          "data": {
            "text/plain": [
              "x"
            ],
            "text/latex": "$\\displaystyle x$"
          },
          "metadata": {},
          "execution_count": 2
        }
      ]
    },
    {
      "cell_type": "code",
      "source": [
        "from sympy import symbols\n",
        "x = Symbol('x')\n",
        "x + x + 1\n"
      ],
      "metadata": {
        "id": "CKjYDtk3KTWf",
        "colab": {
          "base_uri": "https://localhost:8080/",
          "height": 38
        },
        "outputId": "c55e5197-8c5b-4c46-dd75-325b5418816f"
      },
      "execution_count": 3,
      "outputs": [
        {
          "output_type": "execute_result",
          "data": {
            "text/plain": [
              "2*x + 1"
            ],
            "text/latex": "$\\displaystyle 2 x + 1$"
          },
          "metadata": {},
          "execution_count": 3
        }
      ]
    },
    {
      "cell_type": "code",
      "source": [
        "a = Symbol('x')\n",
        "a + a + 1"
      ],
      "metadata": {
        "id": "2klqd5pOKyaW",
        "colab": {
          "base_uri": "https://localhost:8080/",
          "height": 38
        },
        "outputId": "27d152fc-8fbb-4a4f-b12b-ae69d29a9421"
      },
      "execution_count": 4,
      "outputs": [
        {
          "output_type": "execute_result",
          "data": {
            "text/plain": [
              "2*x + 1"
            ],
            "text/latex": "$\\displaystyle 2 x + 1$"
          },
          "metadata": {},
          "execution_count": 4
        }
      ]
    },
    {
      "cell_type": "code",
      "source": [
        "x = Symbol('x')\n",
        "y = Symbol('y')\n",
        "z = Symbol('z')"
      ],
      "metadata": {
        "id": "ngmj20vMK9f2"
      },
      "execution_count": 5,
      "outputs": []
    },
    {
      "cell_type": "code",
      "source": [
        "from sympy import Symbol\n",
        "x,y,z = symbols('x,y,z')"
      ],
      "metadata": {
        "id": "Pc6cOkirLKWM"
      },
      "execution_count": 6,
      "outputs": []
    },
    {
      "cell_type": "code",
      "source": [
        "from sympy import Symbol\n",
        "x = Symbol('x')\n",
        "y = Symbol('y')\n",
        "s = x*y + x*y\n",
        "s"
      ],
      "metadata": {
        "id": "jzit-U6fLcC1",
        "colab": {
          "base_uri": "https://localhost:8080/",
          "height": 38
        },
        "outputId": "3931a65f-a688-4be2-e17a-524f7f1eb14e"
      },
      "execution_count": 7,
      "outputs": [
        {
          "output_type": "execute_result",
          "data": {
            "text/plain": [
              "2*x*y"
            ],
            "text/latex": "$\\displaystyle 2 x y$"
          },
          "metadata": {},
          "execution_count": 7
        }
      ]
    },
    {
      "cell_type": "code",
      "source": [
        "p = (x+2)*(x +3 )\n",
        "p"
      ],
      "metadata": {
        "id": "PhQRhf8KLvwx",
        "colab": {
          "base_uri": "https://localhost:8080/",
          "height": 38
        },
        "outputId": "7a0a729d-7183-4a46-8cc2-af82730d437b"
      },
      "execution_count": 8,
      "outputs": [
        {
          "output_type": "execute_result",
          "data": {
            "text/plain": [
              "(x + 2)*(x + 3)"
            ],
            "text/latex": "$\\displaystyle \\left(x + 2\\right) \\left(x + 3\\right)$"
          },
          "metadata": {},
          "execution_count": 8
        }
      ]
    },
    {
      "cell_type": "code",
      "source": [
        "#working with the expressions\n",
        "from sympy import Symbol    # factorizing and expanding\n",
        "x = Symbol('x')\n",
        "y = Symbol('y')\n",
        "\n",
        "from sympy import factor\n",
        "expr = x**2 - y**2\n",
        "factor(expr)"
      ],
      "metadata": {
        "id": "AIcKxxYwL-y5",
        "colab": {
          "base_uri": "https://localhost:8080/",
          "height": 38
        },
        "outputId": "dcaff5bf-bc5d-48a9-9e9c-a4d6b60e0bc1"
      },
      "execution_count": 9,
      "outputs": [
        {
          "output_type": "execute_result",
          "data": {
            "text/plain": [
              "(x - y)*(x + y)"
            ],
            "text/latex": "$\\displaystyle \\left(x - y\\right) \\left(x + y\\right)$"
          },
          "metadata": {},
          "execution_count": 9
        }
      ]
    },
    {
      "source": [
        "from sympy import Symbol, factor, expand  # Import expand along with Symbol and factor\n",
        "\n",
        "factors = factor(expr)\n",
        "expand(factors)"
      ],
      "cell_type": "code",
      "metadata": {
        "id": "twjumYk_Nd6R",
        "colab": {
          "base_uri": "https://localhost:8080/",
          "height": 38
        },
        "outputId": "e3a736f2-7c0c-44b2-a38e-c957330e7670"
      },
      "execution_count": 10,
      "outputs": [
        {
          "output_type": "execute_result",
          "data": {
            "text/plain": [
              "x**2 - y**2"
            ],
            "text/latex": "$\\displaystyle x^{2} - y^{2}$"
          },
          "metadata": {},
          "execution_count": 10
        }
      ]
    },
    {
      "cell_type": "markdown",
      "source": [
        "![image.png](data:image/png;base64,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)"
      ],
      "metadata": {
        "id": "2UgbwCRZNzc9"
      }
    },
    {
      "cell_type": "code",
      "source": [
        "expr =x**3+3*x**2*y + 3*x*y**2 + y**3\n",
        "factors = factor(expr)\n",
        "factors"
      ],
      "metadata": {
        "id": "qRtzh-EjNPJi",
        "colab": {
          "base_uri": "https://localhost:8080/",
          "height": 39
        },
        "outputId": "523e9573-e5da-4b6e-cfaf-1ecf836a3424"
      },
      "execution_count": 11,
      "outputs": [
        {
          "output_type": "execute_result",
          "data": {
            "text/plain": [
              "(x + y)**3"
            ],
            "text/latex": "$\\displaystyle \\left(x + y\\right)^{3}$"
          },
          "metadata": {},
          "execution_count": 11
        }
      ]
    },
    {
      "cell_type": "code",
      "source": [
        "expand(factors)"
      ],
      "metadata": {
        "id": "i-i7rfPeOVdg",
        "colab": {
          "base_uri": "https://localhost:8080/",
          "height": 38
        },
        "outputId": "c378ace7-cbb5-4317-c368-aabfb19d8482"
      },
      "execution_count": 12,
      "outputs": [
        {
          "output_type": "execute_result",
          "data": {
            "text/plain": [
              "x**3 + 3*x**2*y + 3*x*y**2 + y**3"
            ],
            "text/latex": "$\\displaystyle x^{3} + 3 x^{2} y + 3 x y^{2} + y^{3}$"
          },
          "metadata": {},
          "execution_count": 12
        }
      ]
    },
    {
      "cell_type": "code",
      "source": [
        "expr = x + y + x*y\n",
        "factor(expr)"
      ],
      "metadata": {
        "id": "CzY2zZnyOYib",
        "colab": {
          "base_uri": "https://localhost:8080/",
          "height": 38
        },
        "outputId": "7468ad41-efb7-4611-c333-79650671c5af"
      },
      "execution_count": 13,
      "outputs": [
        {
          "output_type": "execute_result",
          "data": {
            "text/plain": [
              "x*y + x + y"
            ],
            "text/latex": "$\\displaystyle x y + x + y$"
          },
          "metadata": {},
          "execution_count": 13
        }
      ]
    },
    {
      "cell_type": "code",
      "source": [
        "expr = x*x + 2*x*y + y*y\n",
        "expr"
      ],
      "metadata": {
        "id": "mJbAohhPO7Mb",
        "colab": {
          "base_uri": "https://localhost:8080/",
          "height": 38
        },
        "outputId": "71e0822e-4814-4673-c7cf-52714e980ed8"
      },
      "execution_count": 14,
      "outputs": [
        {
          "output_type": "execute_result",
          "data": {
            "text/plain": [
              "x**2 + 2*x*y + y**2"
            ],
            "text/latex": "$\\displaystyle x^{2} + 2 x y + y^{2}$"
          },
          "metadata": {},
          "execution_count": 14
        }
      ]
    },
    {
      "cell_type": "code",
      "source": [
        "from sympy import pprint\n",
        "pprint(expr)"
      ],
      "metadata": {
        "id": "VNA4CgMZPcZA",
        "colab": {
          "base_uri": "https://localhost:8080/"
        },
        "outputId": "39279e71-c432-4d23-e1c3-79df247fbc51"
      },
      "execution_count": 15,
      "outputs": [
        {
          "output_type": "stream",
          "name": "stdout",
          "text": [
            " 2            2\n",
            "x  + 2⋅x⋅y + y \n"
          ]
        }
      ]
    },
    {
      "cell_type": "code",
      "source": [
        "from sympy import init_printing\n",
        "init_printing(order ='rev -lev ')\n",
        "print(expr)"
      ],
      "metadata": {
        "id": "bR9OdobzPsPc",
        "colab": {
          "base_uri": "https://localhost:8080/"
        },
        "outputId": "41a71e69-e9a4-4de0-eaf2-992bc78d7777"
      },
      "execution_count": 16,
      "outputs": [
        {
          "output_type": "stream",
          "name": "stdout",
          "text": [
            "x**2 + 2*x*y + y**2\n"
          ]
        }
      ]
    },
    {
      "cell_type": "markdown",
      "source": [
        "![image.png](data:image/png;base64,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)"
      ],
      "metadata": {
        "id": "zWE_262dQIJy"
      }
    },
    {
      "cell_type": "code",
      "source": [
        "from sympy import Symbol, pprint, init_printing\n",
        "\n",
        "def print_series(n):                               #printing the series\n",
        "\n",
        "  #intialzing printing system with reverse order\n",
        "  init_printing(order = 'rev-lex')\n",
        "\n",
        "  x = Symbol('x')\n",
        "  series = x\n",
        "  for i in range(2,n+1):\n",
        "    series = x\n",
        "  for i in range(2 , n+1):\n",
        "    series = series + (x**i)/i\n",
        "  pprint(series)\n",
        "\n",
        "\n",
        "if __name__ =='__main__':\n",
        "  n = input('enter the number of terms you want in the series: ')\n",
        "  print_series(int(n))"
      ],
      "metadata": {
        "id": "R7jP_UI2P_br",
        "colab": {
          "base_uri": "https://localhost:8080/"
        },
        "outputId": "03ba6dc2-9038-4fe5-c4c7-28aff43ed01c"
      },
      "execution_count": 17,
      "outputs": [
        {
          "output_type": "stream",
          "name": "stdout",
          "text": [
            "enter the number of terms you want in the series: 5\n",
            "     2    3    4    5\n",
            "    x    x    x    x \n",
            "x + ── + ── + ── + ──\n",
            "    2    3    4    5 \n"
          ]
        }
      ]
    },
    {
      "cell_type": "markdown",
      "source": [
        " Substituting in Values"
      ],
      "metadata": {
        "id": "HiHne3ZwSacj"
      }
    },
    {
      "cell_type": "code",
      "source": [
        "x = Symbol('x')\n",
        "y = Symbol('y')\n",
        "x*x + x*y + x*y + y*y"
      ],
      "metadata": {
        "id": "CM3iCKRjQYNV",
        "colab": {
          "base_uri": "https://localhost:8080/",
          "height": 38
        },
        "outputId": "47f6873d-4be7-4b4d-86d8-5f3ec3e92b28"
      },
      "execution_count": 18,
      "outputs": [
        {
          "output_type": "execute_result",
          "data": {
            "text/plain": [
              " 2            2\n",
              "y  + 2⋅x⋅y + x "
            ],
            "text/latex": "$\\displaystyle y^{2} + 2 x y + x^{2}$"
          },
          "metadata": {},
          "execution_count": 18
        }
      ]
    },
    {
      "cell_type": "code",
      "source": [
        "expr = x*x + x*y + x*y + y*y\n",
        "res = expr.subs({x:1,y:2})\n",
        "res"
      ],
      "metadata": {
        "id": "Bvf5qKdtSSvH",
        "colab": {
          "base_uri": "https://localhost:8080/",
          "height": 37
        },
        "outputId": "6d2ed936-fea1-45da-ee8c-ef4f39d3aff2"
      },
      "execution_count": 19,
      "outputs": [
        {
          "output_type": "execute_result",
          "data": {
            "text/plain": [
              "9"
            ],
            "text/latex": "$\\displaystyle 9$"
          },
          "metadata": {},
          "execution_count": 19
        }
      ]
    },
    {
      "cell_type": "code",
      "source": [
        "expr.subs({x:1-y})"
      ],
      "metadata": {
        "id": "i_ipsML6SvP0",
        "colab": {
          "base_uri": "https://localhost:8080/",
          "height": 39
        },
        "outputId": "f9add44b-a3e2-4ba9-b038-b89440495e1c"
      },
      "execution_count": 20,
      "outputs": [
        {
          "output_type": "execute_result",
          "data": {
            "text/plain": [
              "       2                  2\n",
              "(1 - y)  + 2⋅y⋅(1 - y) + y "
            ],
            "text/latex": "$\\displaystyle \\left(1 - y\\right)^{2} + 2 y \\left(1 - y\\right) + y^{2}$"
          },
          "metadata": {},
          "execution_count": 20
        }
      ]
    },
    {
      "cell_type": "code",
      "source": [
        "expr_subs = expr.subs({x:1-y})\n",
        "from sympy import simplify\n",
        "simplify(expr_subs)"
      ],
      "metadata": {
        "id": "jDhGsaYES182",
        "colab": {
          "base_uri": "https://localhost:8080/",
          "height": 37
        },
        "outputId": "7929d5d8-0d4c-4b83-f456-ad138d94e18b"
      },
      "execution_count": 21,
      "outputs": [
        {
          "output_type": "execute_result",
          "data": {
            "text/plain": [
              "1"
            ],
            "text/latex": "$\\displaystyle 1$"
          },
          "metadata": {},
          "execution_count": 21
        }
      ]
    },
    {
      "cell_type": "code",
      "source": [
        "#calculating the value of a series\n",
        "\n",
        "from sympy import Symbol, pprint, init_printing\n",
        "\n",
        "def print_series(n,x_value):\n",
        "\n",
        "  #intilizing printing system with reverse order\n",
        "  init_printing(order='rev-lex')\n",
        "\n",
        "  x = Symbol('x')\n",
        "  series = x\n",
        "  for i in range(2,n+1):\n",
        "    series = series + (x**i)/i\n",
        "\n",
        "    pprint(series)\n",
        "\n",
        "    #evalute the series at the x_value\n",
        "    series_value = series.subs({x:x_value})\n",
        "    print('value of the series at {0}: {1}'.format(x_value,series_value))\n",
        "\n",
        "if __name__ == '__main__':\n",
        "  n = input('enter the number of terms in the series:')\n",
        "  x_value = input('enter the value of x at which you want to evalute the series :')\n",
        "\n",
        "  print_series(int(n), float(x_value))"
      ],
      "metadata": {
        "id": "FSQEa8rNTMHQ",
        "colab": {
          "base_uri": "https://localhost:8080/"
        },
        "outputId": "f31fe438-8458-48ff-a342-e4c372972d2a"
      },
      "execution_count": 22,
      "outputs": [
        {
          "output_type": "stream",
          "name": "stdout",
          "text": [
            "enter the number of terms in the series:5\n",
            "enter the value of x at which you want to evalute the series :1.2\n",
            "     2\n",
            "    x \n",
            "x + ──\n",
            "    2 \n",
            "value of the series at 1.2: 1.92000000000000\n",
            "     2    3\n",
            "    x    x \n",
            "x + ── + ──\n",
            "    2    3 \n",
            "value of the series at 1.2: 2.49600000000000\n",
            "     2    3    4\n",
            "    x    x    x \n",
            "x + ── + ── + ──\n",
            "    2    3    4 \n",
            "value of the series at 1.2: 3.01440000000000\n",
            "     2    3    4    5\n",
            "    x    x    x    x \n",
            "x + ── + ── + ── + ──\n",
            "    2    3    4    5 \n",
            "value of the series at 1.2: 3.51206400000000\n"
          ]
        }
      ]
    },
    {
      "cell_type": "markdown",
      "source": [
        "converting strings to mathematical expressions"
      ],
      "metadata": {
        "id": "CDAHmYncVeFg"
      }
    },
    {
      "cell_type": "code",
      "source": [
        "from sympy import sympify\n",
        "expr = input('enter an expresion:')\n",
        "expr = sympify(expr)   # x**2 + 3*x + x**3 + 2*x\n",
        "2*expr"
      ],
      "metadata": {
        "id": "8a7r14MmVLek",
        "colab": {
          "base_uri": "https://localhost:8080/",
          "height": 56
        },
        "outputId": "44a88473-bad9-43f6-c938-490051519f26"
      },
      "execution_count": 23,
      "outputs": [
        {
          "name": "stdout",
          "output_type": "stream",
          "text": [
            "enter an expresion: x**2 + 3*x + x**3 + 2*x\n"
          ]
        },
        {
          "output_type": "execute_result",
          "data": {
            "text/plain": [
              "          2      3\n",
              "10⋅x + 2⋅x  + 2⋅x "
            ],
            "text/latex": "$\\displaystyle 10 x + 2 x^{2} + 2 x^{3}$"
          },
          "metadata": {},
          "execution_count": 23
        }
      ]
    },
    {
      "cell_type": "code",
      "source": [
        "expr = input('enter an expresion:')"
      ],
      "metadata": {
        "id": "wv2mfeR2V8kH",
        "colab": {
          "base_uri": "https://localhost:8080/"
        },
        "outputId": "e10d702b-5911-4969-d206-c83ec382e94b"
      },
      "execution_count": 24,
      "outputs": [
        {
          "name": "stdout",
          "output_type": "stream",
          "text": [
            "enter an expresion: x**2 + 3*x + x**3 + 2*x\n"
          ]
        }
      ]
    },
    {
      "cell_type": "code",
      "source": [
        "from sympy import sympify\n",
        "from sympy.core.sympify import SympifyError\n",
        "expr = input('enter a mathematical expression:')\n",
        "try:\n",
        "  expr = sympify(expr)\n",
        "except SympifyError:                      #: x**2 + 3*x + x**3 + 2x\n",
        "  print('invalid input')\n",
        "else:\n",
        "  print(expr)"
      ],
      "metadata": {
        "id": "j6uAitTPWqJV",
        "colab": {
          "base_uri": "https://localhost:8080/"
        },
        "outputId": "0df4c446-6778-4108-c9ac-7b40997b877e"
      },
      "execution_count": 25,
      "outputs": [
        {
          "output_type": "stream",
          "name": "stdout",
          "text": [
            "enter a mathematical expression:: x**2 + 3*x + x**3 + 2x\n",
            "invalid input\n"
          ]
        }
      ]
    },
    {
      "cell_type": "markdown",
      "source": [
        "expression multiplier"
      ],
      "metadata": {
        "id": "2jf2JLC3XaX6"
      }
    },
    {
      "cell_type": "code",
      "source": [
        "from sympy import expand,sympify\n",
        "from sympy.core.sympify import SympifyError\n",
        "\n",
        "def product(expr1,expr2):\n",
        "  prod = expand(expr1*expr2)\n",
        "  print(prod)\n",
        "\n",
        "\n",
        "if __name__ == '__main__':\n",
        "  expr1 = input('enter the first expression:')\n",
        "  expr2 = input('enter the second expression:')\n",
        "\n",
        "  try:\n",
        "    expr1 = sympify(expr1)\n",
        "    expr2 = sympify(expr2)                 # x**2 + x*2 + x\n",
        "  except SympifyError:\n",
        "    print('invalid input')\n",
        "  else:                                   # x**3 + x*3 + x\n",
        "\n",
        "    product(expr1, expr2)"
      ],
      "metadata": {
        "id": "P-toQssEXJrQ",
        "colab": {
          "base_uri": "https://localhost:8080/"
        },
        "outputId": "1c4819a0-3eb0-4fae-fb38-40d2fdec932a"
      },
      "execution_count": 26,
      "outputs": [
        {
          "output_type": "stream",
          "name": "stdout",
          "text": [
            "enter the first expression: x**2 + x*2 + x\n",
            "enter the second expression: x**3 + x*3 + x\n",
            "x**5 + 3*x**4 + 4*x**3 + 12*x**2\n"
          ]
        }
      ]
    },
    {
      "cell_type": "code",
      "source": [
        "if __name__ == '__main__':\n",
        "  expr1 = input('enter the first expression:')\n",
        "  expr2 = input('enter the second expression:')\n",
        "\n",
        "  try:\n",
        "    expr1 = sympify(expr1)\n",
        "    expr2 = sympify(expr2)\n",
        "  except SympifyError:\n",
        "    print('invalid input')\n",
        "  else:\n",
        "\n",
        "    product(expr1, expr2)\n",
        "    #x*y+x\n",
        "    # x*x+y"
      ],
      "metadata": {
        "id": "AiXOvbOIY0D2",
        "colab": {
          "base_uri": "https://localhost:8080/"
        },
        "outputId": "74f9f252-200b-4d25-8b70-30b9ddb0b429"
      },
      "execution_count": 27,
      "outputs": [
        {
          "output_type": "stream",
          "name": "stdout",
          "text": [
            "enter the first expression:x*y+x\n",
            "enter the second expression: x*x+y\n",
            "x**3*y + x**3 + x*y**2 + x*y\n"
          ]
        }
      ]
    },
    {
      "cell_type": "markdown",
      "source": [
        "solving equations"
      ],
      "metadata": {
        "id": "pRrNuqjcalxo"
      }
    },
    {
      "cell_type": "code",
      "source": [
        "from sympy import Symbol , solve\n",
        "x = Symbol('x')\n",
        "expr = x - 5 - 7\n",
        "solve(expr)"
      ],
      "metadata": {
        "id": "ffeEJ_daaUfM",
        "colab": {
          "base_uri": "https://localhost:8080/",
          "height": 37
        },
        "outputId": "ed3dcab5-3ed2-47e3-c0a7-e0093c5999b9"
      },
      "execution_count": 28,
      "outputs": [
        {
          "output_type": "execute_result",
          "data": {
            "text/plain": [
              "[12]"
            ],
            "text/latex": "$\\displaystyle \\left[ 12\\right]$"
          },
          "metadata": {},
          "execution_count": 28
        }
      ]
    },
    {
      "cell_type": "code",
      "source": [
        "from sympy import solve  #solving the quadratic eqs\n",
        "x = Symbol('x')\n",
        "expr = x**2 + 5*x + 4\n",
        "solve(expr, dict = True)"
      ],
      "metadata": {
        "id": "9RkXehOybg0N",
        "colab": {
          "base_uri": "https://localhost:8080/",
          "height": 38
        },
        "outputId": "760eef97-2029-4503-eb47-7d94c1802593"
      },
      "execution_count": 29,
      "outputs": [
        {
          "output_type": "execute_result",
          "data": {
            "text/plain": [
              "[{x: -4}, {x: -1}]"
            ],
            "text/latex": "$\\displaystyle \\left[ \\left\\{ x : -4\\right\\}, \\  \\left\\{ x : -1\\right\\}\\right]$"
          },
          "metadata": {},
          "execution_count": 29
        }
      ]
    },
    {
      "cell_type": "code",
      "source": [
        "x = Symbol('x')\n",
        "expr = x**2 + x+1\n",
        "solve(expr, dict = True)"
      ],
      "metadata": {
        "id": "P3klE4tQby8M",
        "colab": {
          "base_uri": "https://localhost:8080/",
          "height": 68
        },
        "outputId": "e7c0ce0b-7e97-467a-fe4a-ced060579eec"
      },
      "execution_count": 30,
      "outputs": [
        {
          "output_type": "execute_result",
          "data": {
            "text/plain": [
              "⎡⎧     √3⋅ⅈ   1⎫  ⎧   √3⋅ⅈ   1⎫⎤\n",
              "⎢⎨x: - ──── - ─⎬, ⎨x: ──── - ─⎬⎥\n",
              "⎣⎩      2     2⎭  ⎩    2     2⎭⎦"
            ],
            "text/latex": "$\\displaystyle \\left[ \\left\\{ x : - \\frac{\\sqrt{3} i}{2} - \\frac{1}{2}\\right\\}, \\  \\left\\{ x : \\frac{\\sqrt{3} i}{2} - \\frac{1}{2}\\right\\}\\right]$"
          },
          "metadata": {},
          "execution_count": 30
        }
      ]
    },
    {
      "cell_type": "markdown",
      "source": [
        "Solving for One Variable in Terms of Others\n"
      ],
      "metadata": {
        "id": "vAnBVp21diz9"
      }
    },
    {
      "cell_type": "code",
      "source": [
        "x = Symbol('x')\n",
        "a = Symbol('a')\n",
        "b = Symbol('b')\n",
        "c = Symbol('c')"
      ],
      "metadata": {
        "id": "mMQ15DRFcFfH"
      },
      "execution_count": 31,
      "outputs": []
    },
    {
      "cell_type": "code",
      "source": [
        "expr = a*x*x + b*x +c\n",
        "solve(expr, x, dict = True)"
      ],
      "metadata": {
        "id": "72B1TOijcT1q",
        "colab": {
          "base_uri": "https://localhost:8080/",
          "height": 68
        },
        "outputId": "b57d0a88-d034-4d31-e00a-1159c9021fdc"
      },
      "execution_count": 32,
      "outputs": [
        {
          "output_type": "execute_result",
          "data": {
            "text/plain": [
              "⎡⎧        ____________    ⎫  ⎧      ____________    ⎫⎤\n",
              "⎢⎪       ╱  2             ⎪  ⎪     ╱  2             ⎪⎥\n",
              "⎢⎨   - ╲╱  b  - 4⋅a⋅c  - b⎬  ⎨   ╲╱  b  - 4⋅a⋅c  - b⎬⎥\n",
              "⎢⎪x: ─────────────────────⎪, ⎪x: ───────────────────⎪⎥\n",
              "⎣⎩            2⋅a         ⎭  ⎩           2⋅a        ⎭⎦"
            ],
            "text/latex": "$\\displaystyle \\left[ \\left\\{ x : \\frac{- \\sqrt{b^{2} - 4 a c} - b}{2 a}\\right\\}, \\  \\left\\{ x : \\frac{\\sqrt{b^{2} - 4 a c} - b}{2 a}\\right\\}\\right]$"
          },
          "metadata": {},
          "execution_count": 32
        }
      ]
    },
    {
      "cell_type": "code",
      "source": [
        "from sympy import Symbol, solve, pprint\n",
        "\n",
        "s = Symbol('s')\n",
        "u = Symbol('u')\n",
        "t = Symbol('t')\n",
        "a = Symbol('a')\n",
        "\n",
        "expr = u*t + (1/2)*a*t*t -s\n",
        "t_expr = solve(expr,t, dict =True)\n",
        "\n",
        "pprint(t_expr)"
      ],
      "metadata": {
        "id": "6wEya5lWchWi",
        "colab": {
          "base_uri": "https://localhost:8080/"
        },
        "outputId": "8e965865-20f0-48a4-a30d-3732ce32d04e"
      },
      "execution_count": 33,
      "outputs": [
        {
          "output_type": "stream",
          "name": "stdout",
          "text": [
            "⎡⎧                        ______________    ⎫  ⎧                      ______________    ⎫⎤\n",
            "⎢⎪                       ╱      2           ⎪  ⎪                     ╱      2           ⎪⎥\n",
            "⎢⎨   - 1.4142135623731⋅╲╱  0.5⋅u  + a⋅s  - u⎬  ⎨   1.4142135623731⋅╲╱  0.5⋅u  + a⋅s  - u⎬⎥\n",
            "⎢⎪t: ───────────────────────────────────────⎪, ⎪t: ─────────────────────────────────────⎪⎥\n",
            "⎣⎩                      a                   ⎭  ⎩                     a                  ⎭⎦\n"
          ]
        }
      ]
    },
    {
      "cell_type": "markdown",
      "source": [
        "Solving a System of Linear Equations\n"
      ],
      "metadata": {
        "id": "f2LeAoe3dmUF"
      }
    },
    {
      "cell_type": "markdown",
      "source": [
        "![image.png](data:image/png;base64,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)"
      ],
      "metadata": {
        "id": "PFQJQuN9drzS"
      }
    },
    {
      "cell_type": "code",
      "source": [
        "x = Symbol('x')\n",
        "y = Symbol('y')\n",
        "expr1 = 2*x + 3*y -6\n",
        "expr2 = 3*x + 2*y - 12\n",
        "solve((expr1,expr2), dict=True)"
      ],
      "metadata": {
        "id": "w6TRUSkWdVJb",
        "colab": {
          "base_uri": "https://localhost:8080/",
          "height": 58
        },
        "outputId": "90d0887c-4ef7-45b3-b1de-70db79755fe6"
      },
      "execution_count": 34,
      "outputs": [
        {
          "output_type": "execute_result",
          "data": {
            "text/plain": [
              "[{x: 24/5, y: -6/5}]"
            ],
            "text/latex": "$\\displaystyle \\left[ \\left\\{ x : \\frac{24}{5}, \\  y : - \\frac{6}{5}\\right\\}\\right]$"
          },
          "metadata": {},
          "execution_count": 34
        }
      ]
    },
    {
      "cell_type": "code",
      "source": [
        "soln = solve((expr1, expr2), dict = True)\n",
        "soln = soln[0]\n",
        "expr1.subs({x:soln[x],y:soln[y]})"
      ],
      "metadata": {
        "id": "6To8FBNgeG4E",
        "colab": {
          "base_uri": "https://localhost:8080/",
          "height": 37
        },
        "outputId": "3a64fc6b-49b6-4188-f582-3d6bb0699e98"
      },
      "execution_count": 35,
      "outputs": [
        {
          "output_type": "execute_result",
          "data": {
            "text/plain": [
              "0"
            ],
            "text/latex": "$\\displaystyle 0$"
          },
          "metadata": {},
          "execution_count": 35
        }
      ]
    },
    {
      "cell_type": "code",
      "source": [
        "expr2.subs({x:soln[x],y:soln[y]})"
      ],
      "metadata": {
        "id": "E2gcjVqKeebH",
        "colab": {
          "base_uri": "https://localhost:8080/",
          "height": 37
        },
        "outputId": "ce0dc774-d8d0-49fd-eaa8-727dd31d25cf"
      },
      "execution_count": 36,
      "outputs": [
        {
          "output_type": "execute_result",
          "data": {
            "text/plain": [
              "0"
            ],
            "text/latex": "$\\displaystyle 0$"
          },
          "metadata": {},
          "execution_count": 36
        }
      ]
    },
    {
      "cell_type": "markdown",
      "source": [
        "plotting using the sympy"
      ],
      "metadata": {
        "id": "on0NyuNTexXN"
      }
    },
    {
      "cell_type": "code",
      "source": [
        "from sympy.plotting import plot\n",
        "from sympy import Symbol\n",
        "x = Symbol('x')\n",
        "plot(2*x+3)"
      ],
      "metadata": {
        "id": "j7hU9LqrelzD",
        "colab": {
          "base_uri": "https://localhost:8080/",
          "height": 504
        },
        "outputId": "078aa352-34d4-4c31-e764-d9690093d464"
      },
      "execution_count": 37,
      "outputs": [
        {
          "output_type": "display_data",
          "data": {
            "text/plain": [
              "<Figure size 640x480 with 1 Axes>"
            ],
            "image/png": "[encoded data removed]"
          },
          "metadata": {}
        },
        {
          "output_type": "execute_result",
          "data": {
            "text/plain": [
              "<sympy.plotting.backends.matplotlibbackend.matplotlib.MatplotlibBackend at 0x7bd9e5d8bdf0>"
            ]
          },
          "metadata": {},
          "execution_count": 37
        }
      ]
    },
    {
      "cell_type": "code",
      "source": [
        "plot((2*x + 3), (x, -5,5))"
      ],
      "metadata": {
        "id": "smYawFsCfHGT",
        "colab": {
          "base_uri": "https://localhost:8080/",
          "height": 503
        },
        "outputId": "e9978238-8816-4ee1-913f-7a8dbd21e05d"
      },
      "execution_count": 38,
      "outputs": [
        {
          "output_type": "display_data",
          "data": {
            "text/plain": [
              "<Figure size 640x480 with 1 Axes>"
            ],
            "image/png": "[encoded data removed]"
          },
          "metadata": {}
        },
        {
          "output_type": "execute_result",
          "data": {
            "text/plain": [
              "<sympy.plotting.backends.matplotlibbackend.matplotlib.MatplotlibBackend at 0x7bd9e445d840>"
            ]
          },
          "metadata": {},
          "execution_count": 38
        }
      ]
    },
    {
      "cell_type": "code",
      "source": [
        "plot(2*x+3, (x, -5 ,5), title= 'A Line', xlabel='x', ylabel='2x+3')"
      ],
      "metadata": {
        "id": "GAzhrkoHfXLv",
        "colab": {
          "base_uri": "https://localhost:8080/",
          "height": 503
        },
        "outputId": "8a0a97cb-6bba-488f-c7ce-289838a98eff"
      },
      "execution_count": 39,
      "outputs": [
        {
          "output_type": "display_data",
          "data": {
            "text/plain": [
              "<Figure size 640x480 with 1 Axes>"
            ],
            "image/png": "[encoded data removed]"
          },
          "metadata": {}
        },
        {
          "output_type": "execute_result",
          "data": {
            "text/plain": [
              "<sympy.plotting.backends.matplotlibbackend.matplotlib.MatplotlibBackend at 0x7bd9e4224cd0>"
            ]
          },
          "metadata": {},
          "execution_count": 39
        }
      ]
    },
    {
      "cell_type": "code",
      "source": [
        "p = plot(2*x + 3, (x, -5 , 5), title ='A line',xlabel='x',ylabel='2x+3', show=False)\n",
        "p.save('line.png')"
      ],
      "metadata": {
        "id": "idesRu62fsg_",
        "colab": {
          "base_uri": "https://localhost:8080/",
          "height": 429
        },
        "outputId": "4fa41e2b-69e2-464c-cefa-08d38f5b824c"
      },
      "execution_count": 40,
      "outputs": [
        {
          "output_type": "display_data",
          "data": {
            "text/plain": [
              "<Figure size 640x480 with 1 Axes>"
            ],
            "image/png": "[encoded data removed]"
          },
          "metadata": {}
        }
      ]
    },
    {
      "cell_type": "markdown",
      "source": [
        "plotting expression input by  the user"
      ],
      "metadata": {
        "id": "LZ3HJ7w_gcXm"
      }
    },
    {
      "cell_type": "code",
      "source": [
        "expr = input('enter an expression:')\n",
        "expr = sympify(expr)\n",
        "y = Symbol('y')\n",
        "solve(expr, y)   #2*x + 3*y -6"
      ],
      "metadata": {
        "id": "vaANqERFgHJ9",
        "colab": {
          "base_uri": "https://localhost:8080/",
          "height": 75
        },
        "outputId": "9718f227-62e2-495c-9f58-dbce364f7436"
      },
      "execution_count": 41,
      "outputs": [
        {
          "name": "stdout",
          "output_type": "stream",
          "text": [
            "enter an expression:2*x + 3*y -6\n"
          ]
        },
        {
          "output_type": "execute_result",
          "data": {
            "text/plain": [
              "⎡    2⋅x⎤\n",
              "⎢2 - ───⎥\n",
              "⎣     3 ⎦"
            ],
            "text/latex": "$\\displaystyle \\left[ 2 - \\frac{2 x}{3}\\right]$"
          },
          "metadata": {},
          "execution_count": 41
        }
      ]
    },
    {
      "cell_type": "code",
      "source": [
        "solutions = solve(expr, y)\n",
        "expr_y = solutions[0]\n",
        "expr_y"
      ],
      "metadata": {
        "id": "5iVDv85Ig3f2",
        "colab": {
          "base_uri": "https://localhost:8080/",
          "height": 51
        },
        "outputId": "9eefd2fb-2db4-400a-f3b7-5b6d1d7852f5"
      },
      "execution_count": 42,
      "outputs": [
        {
          "output_type": "execute_result",
          "data": {
            "text/plain": [
              "    2⋅x\n",
              "2 - ───\n",
              "     3 "
            ],
            "text/latex": "$\\displaystyle 2 - \\frac{2 x}{3}$"
          },
          "metadata": {},
          "execution_count": 42
        }
      ]
    },
    {
      "cell_type": "markdown",
      "source": [
        " Plot the graph of an input expression\n"
      ],
      "metadata": {
        "id": "zQTG0uEKiHzy"
      }
    },
    {
      "cell_type": "code",
      "source": [
        "from sympy import Symbol, sympify, solve\n",
        "from sympy.plotting import plot\n",
        "\n",
        "def plot_expression(expr):\n",
        "\n",
        "  y = Symbol('y')\n",
        "  solutions = solve(expr,y)\n",
        "  expr_y = solutions[0]\n",
        "  plot(expr_y)\n",
        "\n",
        "\n",
        "if __name__ == '__main__':\n",
        "  expr = input('enter your expression in terms of x and y:')\n",
        "  try :\n",
        "    expr = sympify(expr)\n",
        "  except SympifyError:\n",
        "    print('invalid input')            #2*x + 3*y -6\n",
        "  else:\n",
        "    plot_expression(expr)"
      ],
      "metadata": {
        "id": "XyMre_PHiAGC",
        "colab": {
          "base_uri": "https://localhost:8080/",
          "height": 504
        },
        "outputId": "e41162cc-a061-43da-c091-d10dc67e4998"
      },
      "execution_count": 43,
      "outputs": [
        {
          "name": "stdout",
          "output_type": "stream",
          "text": [
            "enter your expression in terms of x and y: 2*x + 3*y -6\n"
          ]
        },
        {
          "output_type": "display_data",
          "data": {
            "text/plain": [
              "<Figure size 640x480 with 1 Axes>"
            ],
            "image/png": "[encoded data removed]"
          },
          "metadata": {}
        }
      ]
    },
    {
      "cell_type": "markdown",
      "source": [
        " Plotting Multiple Functions\n"
      ],
      "metadata": {
        "id": "bNUn0DrIjnzC"
      }
    },
    {
      "cell_type": "code",
      "source": [
        "from sympy.plotting import plot\n",
        "from sympy import Symbol\n",
        "x =Symbol('x')\n",
        "plot(2*x+3, 3*x+1)"
      ],
      "metadata": {
        "id": "AcFL6XD-jOTE",
        "colab": {
          "base_uri": "https://localhost:8080/",
          "height": 504
        },
        "outputId": "74a089d4-95ce-4ec6-fafd-f4231a397885"
      },
      "execution_count": 44,
      "outputs": [
        {
          "output_type": "display_data",
          "data": {
            "text/plain": [
              "<Figure size 640x480 with 1 Axes>"
            ],
            "image/png": "[encoded data removed]"
          },
          "metadata": {}
        },
        {
          "output_type": "execute_result",
          "data": {
            "text/plain": [
              "<sympy.plotting.backends.matplotlibbackend.matplotlib.MatplotlibBackend at 0x7bd9e43f8cd0>"
            ]
          },
          "metadata": {},
          "execution_count": 44
        }
      ]
    },
    {
      "cell_type": "code",
      "source": [
        "from sympy.plotting import plot\n",
        "from sympy import Symbol\n",
        "x = Symbol('x')\n",
        "p = plot(2*x+3, 3*x+1, legend = True, show = False)\n",
        "p[0].line_color = 'b'\n",
        "p[1].line_color ='r'\n",
        "p.show()"
      ],
      "metadata": {
        "id": "LP0MJ7-Aj7sU",
        "colab": {
          "base_uri": "https://localhost:8080/",
          "height": 487
        },
        "outputId": "601ee877-6fac-48b8-e595-7b36fdaf6607"
      },
      "execution_count": 45,
      "outputs": [
        {
          "output_type": "display_data",
          "data": {
            "text/plain": [
              "<Figure size 640x480 with 1 Axes>"
            ],
            "image/png": "[encoded data removed]"
          },
          "metadata": {}
        }
      ]
    },
    {
      "cell_type": "markdown",
      "source": [
        " Programming challenges\n",
        "\n",
        "\n",
        "1. Factor Finder\n",
        "\n",
        "2.Graphical Equation Solver\n",
        "  \n",
        "\n"
      ],
      "metadata": {
        "id": "Tyzm0Ihxkm-I"
      }
    },
    {
      "cell_type": "code",
      "source": [
        "expr1 = input('enter your first expression in terms of x and y:')\n",
        "expr2 = input('enter your second expression in terms of x and y:')"
      ],
      "metadata": {
        "id": "yZ3t6XeAkhf_",
        "colab": {
          "base_uri": "https://localhost:8080/"
        },
        "outputId": "20c1939f-659b-47d8-f7b5-c8475e3d7e8f"
      },
      "execution_count": 46,
      "outputs": [
        {
          "name": "stdout",
          "output_type": "stream",
          "text": [
            "enter your first expression in terms of x and y: #2*x + 3*y -6\n",
            "enter your second expression in terms of x and y: #2*x + 3*y -6\n"
          ]
        }
      ]
    },
    {
      "cell_type": "markdown",
      "source": [
        "summing a series"
      ],
      "metadata": {
        "id": "MCXRXS6SljMq"
      }
    },
    {
      "cell_type": "code",
      "source": [
        "\"\"\"for i in range(2, n+1):\n",
        "  series = series + (x**i)/i \"\"\""
      ],
      "metadata": {
        "id": "FAN16g0ClTsZ",
        "colab": {
          "base_uri": "https://localhost:8080/",
          "height": 36
        },
        "outputId": "0d67ffe8-fa73-497f-df91-4c8c0c7f964b"
      },
      "execution_count": 47,
      "outputs": [
        {
          "output_type": "execute_result",
          "data": {
            "text/plain": [
              "'for i in range(2, n+1):\\n  series = series + (x**i)/i '"
            ],
            "application/vnd.google.colaboratory.intrinsic+json": {
              "type": "string"
            }
          },
          "metadata": {},
          "execution_count": 47
        }
      ]
    },
    {
      "cell_type": "code",
      "source": [
        "from sympy import Symbol, summation , pprint\n",
        "x = Symbol('x')\n",
        "n = Symbol('n')\n",
        "s = summation(x**n/n, (n,1,5))\n",
        "pprint(s)"
      ],
      "metadata": {
        "id": "j-2TPOAGlyRS",
        "colab": {
          "base_uri": "https://localhost:8080/"
        },
        "outputId": "3fe8d5d5-cc77-4db8-c4bc-88f2f32a7377"
      },
      "execution_count": 48,
      "outputs": [
        {
          "output_type": "stream",
          "name": "stdout",
          "text": [
            "     2    3    4    5\n",
            "    x    x    x    x \n",
            "x + ── + ── + ── + ──\n",
            "    2    3    4    5 \n"
          ]
        }
      ]
    },
    {
      "cell_type": "code",
      "source": [
        "s.subs({x:1.2})"
      ],
      "metadata": {
        "id": "rs6Hof4doBkQ",
        "colab": {
          "base_uri": "https://localhost:8080/",
          "height": 37
        },
        "outputId": "58460533-2449-48bb-f83c-8dee10fe241e"
      },
      "execution_count": 49,
      "outputs": [
        {
          "output_type": "execute_result",
          "data": {
            "text/plain": [
              "3.51206400000000"
            ],
            "text/latex": "$\\displaystyle 3.512064$"
          },
          "metadata": {},
          "execution_count": 49
        }
      ]
    },
    {
      "cell_type": "code",
      "source": [
        "def sum_of_series(nth_term, num_terms):\n",
        "  \"\"\"\n",
        "  Calculates the sum of a series given the nth term and the number of terms.\n",
        "\n",
        "  Args:\n",
        "    nth_term: A string representing the nth term of the series.\n",
        "    num_terms: An integer representing the number of terms in the series.\n",
        "\n",
        "  Returns:\n",
        "    A string representing the sum of the series.\n",
        "  \"\"\"\n",
        "\n",
        "  # Replace 'n' with the term number in the nth term expression\n",
        "  sum_expression = \"\"\n",
        "  for i in range(1, num_terms + 1):\n",
        "    term_expression = nth_term.replace('n', str(i))\n",
        "    if i > 1:\n",
        "      sum_expression += \" + \"\n",
        "    sum_expression += term_expression\n",
        "\n",
        "  return sum_expression\n",
        "\n",
        "# Example usage\n",
        "nth_term = \"a+(n-1)*d\"\n",
        "num_terms = 3\n",
        "\n",
        "sum_of_series_str = sum_of_series(nth_term, num_terms)\n",
        "print(\"Sum of the series:\", sum_of_series_str)"
      ],
      "metadata": {
        "id": "Sr9DfCCcoM9o",
        "colab": {
          "base_uri": "https://localhost:8080/"
        },
        "outputId": "c3f54986-232c-4fda-d191-95d99d3b5d0b"
      },
      "execution_count": 50,
      "outputs": [
        {
          "output_type": "stream",
          "name": "stdout",
          "text": [
            "Sum of the series: a+(1-1)*d + a+(2-1)*d + a+(3-1)*d\n"
          ]
        }
      ]
    },
    {
      "cell_type": "markdown",
      "source": [
        "solving single variable inequalities"
      ],
      "metadata": {
        "id": "Dv2uAdQJo_Ti"
      }
    },
    {
      "cell_type": "code",
      "source": [
        "from sympy import poly, Symbol, solve_poly_inequality\n",
        "x = Symbol('x')\n",
        "ineq_obj = -x**2 + 4 < 0\n",
        "lhs = ineq_obj.lhs\n",
        "p = poly(lhs,x)\n",
        "rel = ineq_obj.rel_op\n",
        "solve_poly_inequality(p,rel)"
      ],
      "metadata": {
        "id": "4mPW23a_o7S0",
        "colab": {
          "base_uri": "https://localhost:8080/",
          "height": 37
        },
        "outputId": "71c899de-eda1-45e3-bcb7-fe682c8e50c5"
      },
      "execution_count": 51,
      "outputs": [
        {
          "output_type": "execute_result",
          "data": {
            "text/plain": [
              "[(-∞, -2), (2, ∞)]"
            ],
            "text/latex": "$\\displaystyle \\left[ \\left(-\\infty, -2\\right), \\  \\left(2, \\infty\\right)\\right]$"
          },
          "metadata": {},
          "execution_count": 51
        }
      ]
    },
    {
      "cell_type": "code",
      "source": [
        "from sympy import Symbol, poly, solve_rational_inequalities\n",
        "x = Symbol('x')\n",
        "ineq_obj = ((x-1)/(x+2)) > 0\n",
        "lhs = ineq_obj.lhs\n",
        "numer, denom = lhs.as_numer_denom()\n",
        "p1 = poly(numer)\n",
        "p2 = poly(denom)\n",
        "rel = ineq_obj.rel_op\n",
        "solve_rational_inequalities([[((p1,p2),rel)]])"
      ],
      "metadata": {
        "id": "7F05vYrHqHhP",
        "colab": {
          "base_uri": "https://localhost:8080/",
          "height": 37
        },
        "outputId": "ea61b372-581b-439e-981d-d3bc1e00d458"
      },
      "execution_count": 52,
      "outputs": [
        {
          "output_type": "execute_result",
          "data": {
            "text/plain": [
              "(-∞, -2) ∪ (1, ∞)"
            ],
            "text/latex": "$\\displaystyle \\left(-\\infty, -2\\right) \\cup \\left(1, \\infty\\right)$"
          },
          "metadata": {},
          "execution_count": 52
        }
      ]
    },
    {
      "cell_type": "code",
      "source": [
        "from sympy import Symbol, solve, solve_univariate_inequality, sin\n",
        "x = Symbol('x')\n",
        "ineq_obj = sin(x)-0.6 > 0\n",
        "solve_univariate_inequality(ineq_obj, x, relational=False)"
      ],
      "metadata": {
        "id": "MybpLSUUrrTk",
        "colab": {
          "base_uri": "https://localhost:8080/",
          "height": 38
        },
        "outputId": "c82d56bc-042c-41dd-c771-bda300d0fe2c"
      },
      "execution_count": 53,
      "outputs": [
        {
          "output_type": "execute_result",
          "data": {
            "text/plain": [
              "(0.643501108793284, π - 0.643501108793284)"
            ],
            "text/latex": "$\\displaystyle \\left(0.643501108793284, \\pi - 0.643501108793284\\right)$"
          },
          "metadata": {},
          "execution_count": 53
        }
      ]
    },
    {
      "cell_type": "markdown",
      "source": [
        "![image.png](data:image/png;base64,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)"
      ],
      "metadata": {
        "id": "O9xUJCvDtviM"
      }
    },
    {
      "cell_type": "code",
      "source": [
        "x = Symbol('x')\n",
        "expr = x**2 - 4\n",
        "expr.is_polynomial(x)"
      ],
      "metadata": {
        "id": "-i4NcH0Ksu-L",
        "colab": {
          "base_uri": "https://localhost:8080/"
        },
        "outputId": "4385eaee-75f5-45a7-8ec5-cde4148186fe"
      },
      "execution_count": 54,
      "outputs": [
        {
          "output_type": "execute_result",
          "data": {
            "text/plain": [
              "True"
            ]
          },
          "metadata": {},
          "execution_count": 54
        }
      ]
    },
    {
      "cell_type": "code",
      "source": [
        "expr = 2*sin(x) +3\n",
        "expr.is_polynomial()"
      ],
      "metadata": {
        "id": "0_4xuZpgtS1U",
        "colab": {
          "base_uri": "https://localhost:8080/"
        },
        "outputId": "94cc1dc0-7b8e-407f-ffc7-e0603b798c07"
      },
      "execution_count": 55,
      "outputs": [
        {
          "output_type": "execute_result",
          "data": {
            "text/plain": [
              "False"
            ]
          },
          "metadata": {},
          "execution_count": 55
        }
      ]
    },
    {
      "cell_type": "code",
      "source": [
        "expr = (2+x)/(3+x)\n",
        "expr.is_rational_function()"
      ],
      "metadata": {
        "id": "vIOhxxD8toje",
        "colab": {
          "base_uri": "https://localhost:8080/"
        },
        "outputId": "df588b4b-fe6c-40ae-b467-4946281fb3ea"
      },
      "execution_count": 56,
      "outputs": [
        {
          "output_type": "execute_result",
          "data": {
            "text/plain": [
              "True"
            ]
          },
          "metadata": {},
          "execution_count": 56
        }
      ]
    },
    {
      "cell_type": "code",
      "source": [
        "expr = 2+x\n",
        "expr.is_rational_function()"
      ],
      "metadata": {
        "id": "C_wPETmdt8WR",
        "colab": {
          "base_uri": "https://localhost:8080/"
        },
        "outputId": "08a08860-6dfa-492b-ff3d-84112287ae02"
      },
      "execution_count": 57,
      "outputs": [
        {
          "output_type": "execute_result",
          "data": {
            "text/plain": [
              "True"
            ]
          },
          "metadata": {},
          "execution_count": 57
        }
      ]
    },
    {
      "cell_type": "code",
      "source": [
        "expr= 2+sin(x)\n",
        "expr.is_rational_function()"
      ],
      "metadata": {
        "id": "a0afT5oguGvC",
        "colab": {
          "base_uri": "https://localhost:8080/"
        },
        "outputId": "49f0f620-1c48-4671-f7a5-748d3fa48ecb"
      },
      "execution_count": 58,
      "outputs": [
        {
          "output_type": "execute_result",
          "data": {
            "text/plain": [
              "False"
            ]
          },
          "metadata": {},
          "execution_count": 58
        }
      ]
    },
    {
      "cell_type": "code",
      "source": [
        "from sympy import sympify\n",
        "sympify('x+3>0')"
      ],
      "metadata": {
        "id": "8t5MOfljuO1p",
        "colab": {
          "base_uri": "https://localhost:8080/",
          "height": 38
        },
        "outputId": "d7334e84-2d50-4fdb-9fdc-5d1f3986f85b"
      },
      "execution_count": 59,
      "outputs": [
        {
          "output_type": "execute_result",
          "data": {
            "text/plain": [
              "3 + x > 0"
            ],
            "text/latex": "$\\displaystyle 3 + x > 0$"
          },
          "metadata": {},
          "execution_count": 59
        }
      ]
    },
    {
      "cell_type": "markdown",
      "source": [
        "chapter ends."
      ],
      "metadata": {
        "id": "Fo4lbIBTuath"
      }
    }
  ]
}